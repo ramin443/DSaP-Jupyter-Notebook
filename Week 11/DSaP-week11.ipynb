{
 "cells": [
  {
   "cell_type": "markdown",
   "id": "7166a7ae-2857-47d5-be1c-30ab83f77aa1",
   "metadata": {},
   "source": [
    "# Data Structure and Processing\n",
    "\n",
    "## Week 11"
   ]
  },
  {
   "cell_type": "markdown",
   "id": "0be65385-0752-49c2-97d3-2fdf264f6ae1",
   "metadata": {
    "tags": []
   },
   "source": [
    "### Remarks:\n",
    "\n",
    "1. Install the libraries listed below using your package manager.  An example of installing the library `numpy` is to issue a the following command on a terminal (in Ubuntu) `python3 -m pip install numpy`.\n",
    "\n",
    "2. Make sure that you are following the conventions.  For examples, `import numpy as np`, which imports `numpy` packages and sets the abbreviation for it.\n",
    "\n",
    "3. Do not import the packages without the short names, unless it is intentional.  Doing so might lead to a namespace conflict, or unintended uses of functions coming from two libraries as a part of different implementations.\n",
    "\n",
    "4. We are assigning `None` to variables and use `pass` in the body of the functions, where we expect a solution from you.  Please replace these values and statements with your solution."
   ]
  },
  {
   "cell_type": "markdown",
   "id": "2fc771d8-9164-44f0-93a5-85eda4cf3c98",
   "metadata": {
    "tags": []
   },
   "source": [
    "### Load Libraries"
   ]
  },
  {
   "cell_type": "code",
   "execution_count": 1,
   "id": "04728f85-c5e8-4509-8601-48ac56defd28",
   "metadata": {},
   "outputs": [],
   "source": [
    "import numpy as np\n",
    "import pandas as pd\n",
    "import datetime as dtime"
   ]
  },
  {
   "cell_type": "markdown",
   "id": "a5bed2e2-03e4-4149-8942-6d93e60cc5e9",
   "metadata": {
    "tags": []
   },
   "source": [
    "### Task 1\n",
    "\n",
    "In this task, you are requested to plot the same data in two different ways.\n",
    "\n",
    "In Matplotlib, we can provide the data for `x` axis and `y` axis as, for example, lists, and in this order, and it plots the data points on a two dimensional picture, setting up automaticall the limits along the axes and labels.\n",
    "\n",
    "Let us consider the file `IBM.csv`, from previous homework problems (also attached with this notebook), and do the following\n",
    "\n",
    "1. Read the data from `IBM.csv` into a pandas `DataFrame`.\n",
    "2. Reset the index to the timestamps provided by the `\"Date\"` column in the `df`\n",
    "3. Plot the data provided by `\"Open\"` column using `DataFrame` method `plot()` (against the date it corresponds to)\n",
    "4. Take the date column from the original `DataFrame` named `df` and using Python's builtin `list` function to convert it to a list of strings.  Let us call it `x`.\n",
    "5. Do the same step as above for the column `\"Open\"`.  Let us give it the name `y`.\n",
    "6. Plot `x` and `y` using Matplotlib.\n",
    "\n",
    "**Remarks:**\n",
    "1. Notice that the plotting these `x` and `y` using `Matplotlib` is much slower than the pandas method `plot`.  This should also explain a point from an earlier homework that the builtin `list` data type is much slower when its size is slower.\n",
    "\n",
    "2. You might also want to provide the columns directly to `Matplotlib` to notice that this is also inefficient, i.e., it takes more time."
   ]
  },
  {
   "cell_type": "code",
   "execution_count": 1,
   "id": "fa36ad6d-63fc-4fc0-8677-675e29fc3810",
   "metadata": {},
   "outputs": [],
   "source": [
    "# Your solutions goes here."
   ]
  },
  {
   "cell_type": "markdown",
   "id": "09ddd051-b062-422e-9726-aed24f8feb45",
   "metadata": {},
   "source": [
    "### Task 2\n",
    "\n",
    "Consider the data from the file `IBM.csv`. Your task is to create a subplots following the steps below:\n",
    "\n",
    "1. Use pandas method `plot()` to create subplots for the columns `\"Open\"` and `\"Close\"`.\n",
    "2. Create a vertically stacked histogram plot for the columns `\"Open\"` and `\"Close\"`.\n",
    "\n",
    "**Remarks:**\n",
    "1. Since pandas provides plotting of the `DataFrame`, but it is limited to what `Matplotlib` offers.  Since pandas used `Matplotlib`, therefore, any post processing or stacking or over-drawing of the plots provided by `Matplotlib` could be used.\n",
    "2. You are encouraged to create get hold of the subplots and plot using `pandas`' method `plot()` to actually plot the data, or mixing with the normal plotting of the data with the `pandas` method `plot()`.  It is very normal we might need to create subplots with `pandas`' `DataFrame` and other subplots with, let us say, `numpy` arrays."
   ]
  },
  {
   "cell_type": "code",
   "execution_count": 2,
   "id": "272aaecf-86fd-48c0-aa2c-0de972accbb4",
   "metadata": {},
   "outputs": [],
   "source": [
    "# Your solution goes here."
   ]
  },
  {
   "cell_type": "markdown",
   "id": "7b72fe9a-9ba7-47c9-a93b-961cfa665e2c",
   "metadata": {},
   "source": [
    "### Task 3\n",
    "\n",
    "Reconsider the Task 1 above.  Your new task is to annotate and change the appearance of the plots as suggested below.\n",
    "\n",
    "Recall that we have `df`, pandas `DataFrame`, with the index as dates.\n",
    "\n",
    "1. Plot the values in the column `\"Open\"` in red color.\n",
    "2. Annotate the maximum value with blue colored filled circle/point.\n",
    "3. Annotate the minimum value with orange colored filled circle/point.\n",
    "4. Point the maximum and minimun drawn above with a black arrow and a text describing what these points are.\n",
    "4. Set the title of the plot to the string \"Historical Opennings of IBM stocks with Max and Min\"\n",
    "5. Remove the any label along x axis.\n",
    "6. Remove any legend.\n",
    "7. Make sure the tics along the x-axis are vertically written, so that they are easy to read (written from bottom to top).\n",
    "8. Finally save the plot to a two different formats: `png` and `svg`."
   ]
  },
  {
   "cell_type": "code",
   "execution_count": null,
   "id": "db376c67-b36d-4d5e-bcc9-232823da1a73",
   "metadata": {},
   "outputs": [],
   "source": [
    "# Your solution goes here."
   ]
  }
 ],
 "metadata": {
  "kernelspec": {
   "display_name": "Python 3 (ipykernel)",
   "language": "python",
   "name": "python3"
  },
  "language_info": {
   "codemirror_mode": {
    "name": "ipython",
    "version": 3
   },
   "file_extension": ".py",
   "mimetype": "text/x-python",
   "name": "python",
   "nbconvert_exporter": "python",
   "pygments_lexer": "ipython3",
   "version": "3.10.14"
  }
 },
 "nbformat": 4,
 "nbformat_minor": 5
}
