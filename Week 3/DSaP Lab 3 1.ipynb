{
 "cells": [
  {
   "cell_type": "markdown",
   "id": "f1770525-f461-4d8b-9200-ba707bcccd87",
   "metadata": {
    "nbgrader": {
     "grade": false,
     "grade_id": "cell-d9ace51bb79aa123",
     "locked": true,
     "schema_version": 3,
     "solution": false,
     "task": false
    }
   },
   "source": [
    "# Data Structures and Processing\n",
    "\n",
    "## Week3: NumPy, and Matplotlib"
   ]
  },
  {
   "cell_type": "code",
   "execution_count": 1,
   "id": "5f3b42ad",
   "metadata": {},
   "outputs": [],
   "source": [
    "import numpy as np\n",
    "from typing import Union"
   ]
  },
  {
   "cell_type": "markdown",
   "id": "90cf316f-4a2c-4a03-ad4f-9fe3a5580fa4",
   "metadata": {
    "nbgrader": {
     "grade": false,
     "grade_id": "cell-064e3f15836bd7ff",
     "locked": true,
     "schema_version": 3,
     "solution": false,
     "task": false
    },
    "tags": []
   },
   "source": [
    "### Task 1: Custom NumPy Functions\n",
    "\n",
    "Write down a function `heaviside` which takes a number (`int` or `float`) and returns 1 if it is positive, 0 otherwise."
   ]
  },
  {
   "cell_type": "code",
   "execution_count": 4,
   "id": "a1960b19-48ff-4c7b-8ada-c8b090c77f81",
   "metadata": {
    "nbgrader": {
     "grade": false,
     "grade_id": "cell-5cb06a6dd536e09a",
     "locked": false,
     "schema_version": 3,
     "solution": true,
     "task": false
    },
    "tags": []
   },
   "outputs": [],
   "source": [
    "from typing import Union\n",
    "\n",
    "def heaviside(num: Union[int, float]) -> int:\n",
    "    # your code here\n",
    "    if num>0:\n",
    "        return 1\n",
    "        \n",
    "    else:\n",
    "        return 0\n",
    "    \n",
    "    "
   ]
  },
  {
   "cell_type": "code",
   "execution_count": 5,
   "id": "896dbcf1-b90a-4125-aef5-d63299ff0638",
   "metadata": {
    "nbgrader": {
     "grade": true,
     "grade_id": "cell-1aaea127bbe9a155",
     "locked": true,
     "points": 0,
     "schema_version": 3,
     "solution": false,
     "task": false
    }
   },
   "outputs": [],
   "source": [
    "assert heaviside(0.1) == 1\n",
    "assert heaviside(-0.1) == 0\n",
    "assert heaviside(0) == 0\n",
    "assert heaviside(4) == 1"
   ]
  },
  {
   "cell_type": "markdown",
   "id": "ac84984d-02bb-464d-bfec-8d6877fd2b02",
   "metadata": {},
   "source": [
    "At this point, your function `heaviside` will return a `ValueError` if a NumPy array is provided as an input to it.  We would like to extend this function so that it handles any `ndarray` whose dtype is `int` or `float`.\n",
    "\n",
    "Extend the `heaviside` function to handle the `ndarray`."
   ]
  },
  {
   "cell_type": "code",
   "execution_count": 6,
   "id": "fd57f71b-38f0-4399-a849-3abe6d930d7f",
   "metadata": {
    "nbgrader": {
     "grade": false,
     "grade_id": "cell-b1fe8aefbdc9898f",
     "locked": false,
     "schema_version": 3,
     "solution": true,
     "task": false
    }
   },
   "outputs": [
    {
     "data": {
      "text/plain": [
       "array([0, 1, 1])"
      ]
     },
     "execution_count": 6,
     "metadata": {},
     "output_type": "execute_result"
    }
   ],
   "source": [
    "# Your solution to extend the heaviside function to handle `ndarray` goes here.\n",
    "from typing import Union\n",
    "\n",
    "def heaviside(num: Union[int, float, np.ndarray])->Union[int,np.ndarray]:\n",
    "    # your code here\n",
    "        # Use np.array to ensure the operation works for both scalars and arrays\n",
    "    num_array = np.array(num)\n",
    "    \n",
    "    # Element-wise comparison to generate the heaviside step values\n",
    "    result = np.where(num_array > 0, 1, 0)\n",
    "    \n",
    "    # If the input was a scalar, return a scalar; otherwise, return an array\n",
    "    if np.isscalar(num):\n",
    "        return result.item()\n",
    "    else:\n",
    "        return result\n",
    "'''\n",
    "    is_list = type(num) == list\n",
    "    if is_list==True:\n",
    "        #it's an array\n",
    "        finalarray=np.array([])\n",
    "        for i in num:\n",
    "            if i > 0:\n",
    "                finalarray=np.append(finalarray,1)\n",
    "            else:\n",
    "                finalarray=np.append(finalarray,0)\n",
    "        return finalarray\n",
    "    else:\n",
    "        if num>0:\n",
    "            return 1\n",
    "\n",
    "        else:\n",
    "            return 0\n",
    "        #it's not an array;\n",
    "        '''\n",
    "\n",
    "a = np.array([0,1,2])\n",
    "\n",
    "heaviside(a)"
   ]
  },
  {
   "cell_type": "code",
   "execution_count": 7,
   "id": "a0db35cd-4d4f-4692-900c-89ab411e9d37",
   "metadata": {
    "nbgrader": {
     "grade": true,
     "grade_id": "cell-c9085a23523dcd7c",
     "locked": true,
     "points": 0,
     "schema_version": 3,
     "solution": false,
     "task": false
    }
   },
   "outputs": [],
   "source": [
    "assert np.all(heaviside(np.array([-1.2, 0.2, 3])) == np.array([0, 1, 1]))"
   ]
  },
  {
   "cell_type": "markdown",
   "id": "92739acd-09c1-464f-8110-89506e9d9879",
   "metadata": {
    "nbgrader": {
     "grade": false,
     "grade_id": "cell-111f49e077636c29",
     "locked": true,
     "schema_version": 3,
     "solution": false,
     "task": false
    }
   },
   "source": [
    "### Task 2: Aggregate Functions\n",
    "\n",
    "There are a lot of aggregate functions available in NumPy. Some of the variable useful ones include: `np.sum`, `np.mean`, `np.std`, `np.max`, `np.min` and so on.  For a detailed explanation of the parameters these function take in, have a look at their documentation using `help`.\n",
    "\n",
    "Write down a function `mean_squared_values` that takes an `ndarray` as an argument and returns the mean value of the squares of elements in it."
   ]
  },
  {
   "cell_type": "code",
   "execution_count": 10,
   "id": "ed8c96c9-188a-44cd-b830-e41b43a402a9",
   "metadata": {
    "nbgrader": {
     "grade": false,
     "grade_id": "cell-e6aa4fb4daec46cc",
     "locked": false,
     "schema_version": 3,
     "solution": true,
     "task": false
    }
   },
   "outputs": [],
   "source": [
    "def mean_squared_values(arr: np.ndarray)->int:\n",
    "    # your code here\n",
    "    \n",
    "    sq=np.square(arr)\n",
    "    \n",
    "    return np.mean(sq)"
   ]
  },
  {
   "cell_type": "code",
   "execution_count": 12,
   "id": "0761c2aa-41fb-4348-84e2-33a95139a8d9",
   "metadata": {
    "nbgrader": {
     "grade": true,
     "grade_id": "cell-ed3ec8b79ec4fb45",
     "locked": true,
     "points": 0,
     "schema_version": 3,
     "solution": false,
     "task": false
    }
   },
   "outputs": [],
   "source": [
    "import numpy as np\n",
    "x_utest = np.arange(10)\n",
    "assert mean_squared_values(x_utest) == 28.5"
   ]
  },
  {
   "cell_type": "markdown",
   "id": "c47f4dca-2983-4a27-82cc-ecc3cbd720b5",
   "metadata": {
    "nbgrader": {
     "grade": false,
     "grade_id": "cell-c9294a1b8d3da21d",
     "locked": true,
     "schema_version": 3,
     "solution": false,
     "task": false
    }
   },
   "source": [
    "### Task 3: I/O and Visualization\n",
    "\n",
    "In this task, we plan to read a data to an `ndarray`, process it, visualize the processed data, and write down to a file."
   ]
  },
  {
   "cell_type": "markdown",
   "id": "d053cabb-9bdc-4445-90e3-4889ced1594a",
   "metadata": {
    "nbgrader": {
     "grade": false,
     "grade_id": "cell-63670c1f9801fa36",
     "locked": true,
     "schema_version": 3,
     "solution": false,
     "task": false
    }
   },
   "source": [
    "#### Step 1: Reading Data From a File\n",
    "\n",
    "Consider the file `data.txt` in the current directory, and read its content to an array named `arr`."
   ]
  },
  {
   "cell_type": "markdown",
   "id": "c6b11bc0-ec48-4f8e-ac41-0d87ea124290",
   "metadata": {
    "nbgrader": {
     "grade": false,
     "grade_id": "cell-121b102edc4344a6",
     "locked": true,
     "schema_version": 3,
     "solution": false,
     "task": false
    }
   },
   "source": [
    "Write down a function `read_values` that takes a `CSV` file `filename` as an input and an `index` as a second argument, and returns the `index` column from the `CSV` file as a NumPy array. You can use either `np.loadtxt` or `pandas.read_csv` here."
   ]
  },
  {
   "cell_type": "code",
   "execution_count": 55,
   "id": "26dc730f-5c0b-4dfe-a247-7c712ddbc36c",
   "metadata": {
    "nbgrader": {
     "grade": false,
     "grade_id": "cell-3590743b79d3ee18",
     "locked": false,
     "schema_version": 3,
     "solution": true,
     "task": false
    }
   },
   "outputs": [
    {
     "data": {
      "text/plain": [
       "array([-1.9142, -1.8918, -1.3978, -1.382 , -1.2789, -0.9405, -0.9159,\n",
       "       -0.9139, -0.668 , -0.5575, -0.4231, -0.4084, -0.4001, -0.2533,\n",
       "       -0.0993,  0.2214,  0.2642,  0.4028,  0.4189,  0.596 ,  0.6265,\n",
       "        0.8675,  0.8837,  0.9667,  1.04  ,  1.0471,  1.115 ,  1.7697,\n",
       "        1.814 ])"
      ]
     },
     "execution_count": 55,
     "metadata": {},
     "output_type": "execute_result"
    }
   ],
   "source": [
    "import pandas as pd\n",
    "\n",
    "def read_values(filename: str, index: int):\n",
    "    # your code here\n",
    "    df = pd.read_csv(filename, usecols=[index], header=None)\n",
    "    return df.iloc[:, 0].to_numpy()\n",
    "\n",
    "read_values(\"data.txt\", 0)"
   ]
  },
  {
   "cell_type": "code",
   "execution_count": 56,
   "id": "52d2deec-b999-46d7-843a-d4b5a9a61c02",
   "metadata": {
    "nbgrader": {
     "grade": true,
     "grade_id": "cell-9c00adcc35e85653",
     "locked": true,
     "points": 0,
     "schema_version": 3,
     "solution": false,
     "task": false
    }
   },
   "outputs": [],
   "source": [
    "import numpy as np\n",
    "first_five = np.array([-1.9142, -1.8918, -1.3978, -1.382, -1.2789])\n",
    "assert np.allclose(read_values(\"data.txt\", 0)[:5], first_five)"
   ]
  },
  {
   "cell_type": "markdown",
   "id": "676dba9e-8cf3-449e-a9ff-d6c4ff941646",
   "metadata": {
    "nbgrader": {
     "grade": false,
     "grade_id": "cell-8f92d7051a529ab2",
     "locked": true,
     "schema_version": 3,
     "solution": false,
     "task": false
    }
   },
   "source": [
    "Use your function to read in values to two variables `x_values` and `y_values`."
   ]
  },
  {
   "cell_type": "code",
   "execution_count": 60,
   "id": "9529e7da-9ac1-4cde-9ac1-efc6d60a3ee4",
   "metadata": {
    "nbgrader": {
     "grade": false,
     "grade_id": "cell-8845595b70b6b28d",
     "locked": false,
     "schema_version": 3,
     "solution": true,
     "task": false
    }
   },
   "outputs": [],
   "source": [
    "x_values = read_values(\"data.txt\", 0)\n",
    "y_values =read_values(\"data.txt\", 1)"
   ]
  },
  {
   "cell_type": "code",
   "execution_count": 61,
   "id": "c6f4c8b6-6586-4280-849a-75b6f42200ac",
   "metadata": {
    "nbgrader": {
     "grade": true,
     "grade_id": "cell-210e1768fb0c3ffd",
     "locked": true,
     "points": 0,
     "schema_version": 3,
     "solution": false,
     "task": false
    }
   },
   "outputs": [],
   "source": [
    "first_five_x = np.array([-1.9142, -1.8918, -1.3978, -1.382, -1.2789])\n",
    "first_five_y = np.array([-0.7919, -0.0492, -1.5441, -0.087, -1.3767])\n",
    "assert np.allclose(x_values[:5], first_five_x)\n",
    "assert np.allclose(y_values[:5], first_five_y)"
   ]
  },
  {
   "cell_type": "markdown",
   "id": "80d4a7dc-dc60-446a-9d03-e380707cdaf6",
   "metadata": {
    "nbgrader": {
     "grade": false,
     "grade_id": "cell-76bdc026a604751c",
     "locked": true,
     "schema_version": 3,
     "solution": false,
     "task": false
    }
   },
   "source": [
    "### Step 2: Processing\n",
    "\n",
    "At this point, we are choosing a simple only to demonstrate the processing before plotting.  The data read in does not reveal something useful because it is randomly generated.\n",
    "\n",
    "The reader should see that any type of processing is possible at this step.\n",
    "\n",
    "Let us say that we do not want to change the variable `x_values`, but we do want to process the `y_values` by applying an exponential function `np.exp` from the NumPy library."
   ]
  },
  {
   "cell_type": "code",
   "execution_count": 67,
   "id": "c40bb64c-f1bb-4418-8a91-c7022397e9ce",
   "metadata": {
    "nbgrader": {
     "grade": false,
     "grade_id": "cell-c8686dbb972435e7",
     "locked": false,
     "schema_version": 3,
     "solution": true,
     "task": false
    }
   },
   "outputs": [],
   "source": [
    "y_values = np.exp(read_values(\"data.txt\", 1))"
   ]
  },
  {
   "cell_type": "code",
   "execution_count": 68,
   "id": "4cb4c931-5fcb-47a6-9fd3-c317972477e2",
   "metadata": {
    "nbgrader": {
     "grade": true,
     "grade_id": "cell-4932dc90b5251480",
     "locked": true,
     "points": 0,
     "schema_version": 3,
     "solution": false,
     "task": false
    }
   },
   "outputs": [],
   "source": [
    "first_five_y = np.array([-0.7919, -0.0492, -1.5441, -0.087, -1.3767])\n",
    "assert np.allclose(y_values[:5], np.exp(first_five_y))"
   ]
  },
  {
   "cell_type": "markdown",
   "id": "306c5bf9-570b-4ff1-914f-deca2579fbdd",
   "metadata": {
    "nbgrader": {
     "grade": false,
     "grade_id": "cell-771d312688689090",
     "locked": true,
     "schema_version": 3,
     "solution": false,
     "task": false
    }
   },
   "source": [
    "#### Step 3: Visualization\n",
    "\n",
    "Take the `x_values` and `y_values` and plot them using `plt.plot`.  Given extra directive of `\"bo\"` to the plot command."
   ]
  },
  {
   "cell_type": "code",
   "execution_count": 69,
   "id": "edcf82da",
   "metadata": {},
   "outputs": [],
   "source": [
    "import matplotlib.pyplot as plt"
   ]
  },
  {
   "cell_type": "code",
   "execution_count": 72,
   "id": "8e27a181-0252-49af-8107-5f701f2bc87c",
   "metadata": {
    "nbgrader": {
     "grade": false,
     "grade_id": "cell-63928df5f03f64e3",
     "locked": false,
     "schema_version": 3,
     "solution": true,
     "task": false
    }
   },
   "outputs": [
    {
     "data": {
      "image/png": "[encoded data removed]",
      "text/plain": [
       "<Figure size 432x288 with 1 Axes>"
      ]
     },
     "metadata": {
      "needs_background": "light"
     },
     "output_type": "display_data"
    }
   ],
   "source": [
    "# Your solution to plot goes here\n",
    "x_values = read_values(\"data.txt\", 0)\n",
    "y_values =read_values(\"data.txt\", 1)\n",
    "\n",
    "# Plotting\n",
    "plt.plot(x_values, y_values, \"bo\")  # \"bo\" specifies blue circle markers\n",
    "plt.xlabel('X Values')\n",
    "plt.ylabel('Y Values')\n",
    "plt.title('Plot of X Values and Y Values')\n",
    "plt.show()"
   ]
  },
  {
   "cell_type": "markdown",
   "id": "6445b1c4-3841-4528-b1a9-0143e28ca07d",
   "metadata": {
    "nbgrader": {
     "grade": false,
     "grade_id": "cell-8c66af01c6bd7b39",
     "locked": true,
     "schema_version": 3,
     "solution": false,
     "task": false
    }
   },
   "source": [
    "#### Step 4: Writing Data to File\n",
    "\n",
    "Write down a function `data_to_csv` that takes three arguments: `x_values`, `y_values` and `filename`, and writes down the arrays as a CSV file to `filename`.  The delimiter is `\",\"`. You should use either `np.savetxt` of `DataFrame.to_csv` here."
   ]
  },
  {
   "cell_type": "code",
   "execution_count": 90,
   "id": "8c2a69b0-b23e-40a1-a4b5-f2cea4dcc4d8",
   "metadata": {
    "nbgrader": {
     "grade": false,
     "grade_id": "cell-001fb10d6ae56bd0",
     "locked": false,
     "schema_version": 3,
     "solution": true,
     "task": false
    }
   },
   "outputs": [],
   "source": [
    "# Your solution to \n",
    "def data_to_csv(x_values: np.ndarray, y_values: np.ndarray, filename: str):\n",
    "    # your code here\n",
    "    df = pd.DataFrame({'X': x_values, 'Y': y_values})\n",
    "    \n",
    "    # Write the DataFrame to a CSV file, using a comma as the delimiter\n",
    "    df.to_csv(filename, index=False, sep=',')\n",
    "    "
   ]
  },
  {
   "cell_type": "code",
   "execution_count": 91,
   "id": "59a4a773",
   "metadata": {},
   "outputs": [],
   "source": [
    "data_to_csv(x_values, y_values, 'new_filename.txt')"
   ]
  }
 ],
 "metadata": {
  "kernelspec": {
   "display_name": "Python 3 (ipykernel)",
   "language": "python",
   "name": "python3"
  },
  "language_info": {
   "codemirror_mode": {
    "name": "ipython",
    "version": 3
   },
   "file_extension": ".py",
   "mimetype": "text/x-python",
   "name": "python",
   "nbconvert_exporter": "python",
   "pygments_lexer": "ipython3",
   "version": "3.9.12"
  }
 },
 "nbformat": 4,
 "nbformat_minor": 5
}
