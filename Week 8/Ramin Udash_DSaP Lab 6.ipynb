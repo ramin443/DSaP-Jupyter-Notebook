{
 "cells": [
  {
   "cell_type": "markdown",
   "id": "9578795f-723e-46cc-b7f4-faed37e6858e",
   "metadata": {},
   "source": [
    "# Data Structures and Processing\n",
    "\n",
    "## Week 8: Data Wrangling with Pandas"
   ]
  },
  {
   "cell_type": "markdown",
   "id": "e8b4d83d-aafa-4503-822b-25a9e318163f",
   "metadata": {
    "tags": []
   },
   "source": [
    "### Remarks:\n",
    "\n",
    "1. Press the `install requirements` button above to install the required packages.  See the `requirements.txt` for list of packages to be installed.\n",
    "\n",
    "2. Make sure that you are following the conventions.  For examples, `import pandas as pd`, which imports pandas packages and sets the abbreviation for it.\n",
    "\n",
    "3. Do not import the packages without the short names.  Doing so might lead to a namespace conflict, or unintended uses of functions coming from two libraries as a part of different implementations.\n",
    "\n",
    "4. We are assigning `None` to variables and use `pass` in the body of the functions, where we expect a solution from you.  Please replace these values and statements with your solution."
   ]
  },
  {
   "cell_type": "markdown",
   "id": "0c1d9d69-0a50-4804-93e5-113136c827ce",
   "metadata": {},
   "source": [
    "The exercises in this notebook are aligned with the material provided for the lecture."
   ]
  },
  {
   "cell_type": "markdown",
   "id": "b1aa9048-bfc7-4ee0-af22-fb0d78606569",
   "metadata": {},
   "source": [
    "### Load Libraries"
   ]
  },
  {
   "cell_type": "code",
   "execution_count": 1,
   "id": "2512a105-8759-4def-90bd-37977472539a",
   "metadata": {
    "tags": []
   },
   "outputs": [],
   "source": [
    "import numpy as np\n",
    "import pandas as pd"
   ]
  },
  {
   "cell_type": "markdown",
   "id": "e751bfb2-5db5-46d5-bd13-723193262db9",
   "metadata": {},
   "source": [
    "## MultiIndex\n"
   ]
  },
  {
   "cell_type": "markdown",
   "id": "ced24119-c44a-4e5d-b468-2e6a46103ef0",
   "metadata": {},
   "source": [
    "### Task 1\n",
    "\n",
    "Consider the `json` file named `entertain.json`(attached) and read it into a variable `df1` using the function `pd.read_json`."
   ]
  },
  {
   "cell_type": "code",
   "execution_count": 8,
   "id": "59d21efa-49bb-4360-ab8e-78edc62a5e0a",
   "metadata": {},
   "outputs": [
    {
     "name": "stdout",
     "output_type": "stream",
     "text": [
      "The read file content is\n",
      "    stars                     title rating  duration  \\\n",
      "0    7.5                 Quiz Show  PG-13       133   \n",
      "1    7.6                    Batman  PG-13       126   \n",
      "2    8.2   The Wolf of Wall Street      R       180   \n",
      "3    8.1                      Jaws     PG       124   \n",
      "4    7.8             Belle de Jour    NaN       101   \n",
      "5    7.8        As Good as It Gets  PG-13       139   \n",
      "6    8.4               Toy Story 3      G       103   \n",
      "7    7.4  Manhattan Murder Mystery     PG       104   \n",
      "\n",
      "                                            actors      genre  \n",
      "0       [Ralph Fiennes, John Turturro, Rob Morrow]        NaN  \n",
      "1   [Michael Keaton, Jack Nicholson, Kim Basinger]     Action  \n",
      "2   [Leonardo DiCaprio, Jonah Hill, Margot Robbie]  Biography  \n",
      "3    [Roy Scheider, Robert Shaw, Richard Dreyfuss]      Drama  \n",
      "4  [Catherine Deneuve, Jean Sorel, Michel Piccoli]      Drama  \n",
      "5       [Jack Nicholson, Helen Hunt, Greg Kinnear]     Comedy  \n",
      "6              [Tom Hanks, Tim Allen, Joan Cusack]  Animation  \n",
      "7         [Woody Allen, Diane Keaton, Jerry Adler]     Comedy  \n"
     ]
    }
   ],
   "source": [
    "# Your solution goes here.\n",
    "df1 = pd.read_json('entertain.json')\n",
    "print('The read file content is\\n',df1)"
   ]
  },
  {
   "cell_type": "code",
   "execution_count": 3,
   "id": "30355055",
   "metadata": {},
   "outputs": [],
   "source": [
    "assert df1.shape == (8, 6)"
   ]
  },
  {
   "cell_type": "markdown",
   "id": "51dbb8e8-81fd-4d49-9d4e-31502222b952",
   "metadata": {},
   "source": [
    "### Task 2\n",
    "\n",
    "We want to change the index of the imported `DataFrame`. More specifically, we would like to have two indexes.  The two indexes come from the columns named `\"rating\"` and `\"stars\"`.\n",
    "\n",
    "Define a new `DataFrame` by the name `df2` where `\"rating\"`and `\"stars\"` are indexes."
   ]
  },
  {
   "cell_type": "code",
   "execution_count": 9,
   "id": "c3105940-0c09-49e1-a5e0-55fc25aee127",
   "metadata": {},
   "outputs": [
    {
     "name": "stdout",
     "output_type": "stream",
     "text": [
      "The new read file content with ratings and stars as indexes is:\n",
      "                                   title  duration  \\\n",
      "rating stars                                       \n",
      "PG-13  7.5                   Quiz Show       133   \n",
      "       7.6                      Batman       126   \n",
      "R      8.2     The Wolf of Wall Street       180   \n",
      "PG     8.1                        Jaws       124   \n",
      "NaN    7.8               Belle de Jour       101   \n",
      "PG-13  7.8          As Good as It Gets       139   \n",
      "G      8.4                 Toy Story 3       103   \n",
      "PG     7.4    Manhattan Murder Mystery       104   \n",
      "\n",
      "                                                       actors      genre  \n",
      "rating stars                                                              \n",
      "PG-13  7.5         [Ralph Fiennes, John Turturro, Rob Morrow]        NaN  \n",
      "       7.6     [Michael Keaton, Jack Nicholson, Kim Basinger]     Action  \n",
      "R      8.2     [Leonardo DiCaprio, Jonah Hill, Margot Robbie]  Biography  \n",
      "PG     8.1      [Roy Scheider, Robert Shaw, Richard Dreyfuss]      Drama  \n",
      "NaN    7.8    [Catherine Deneuve, Jean Sorel, Michel Piccoli]      Drama  \n",
      "PG-13  7.8         [Jack Nicholson, Helen Hunt, Greg Kinnear]     Comedy  \n",
      "G      8.4                [Tom Hanks, Tim Allen, Joan Cusack]  Animation  \n",
      "PG     7.4           [Woody Allen, Diane Keaton, Jerry Adler]     Comedy  \n"
     ]
    }
   ],
   "source": [
    "# Your solution goes here.\n",
    "df2 = df1.set_index([\"rating\", \"stars\"])\n",
    "print('The new read file content with ratings and stars as indexes is:\\n ',df2)"
   ]
  },
  {
   "cell_type": "code",
   "execution_count": 5,
   "id": "abe7b7c7",
   "metadata": {},
   "outputs": [],
   "source": [
    "assert df2.index[0] == ('PG-13', 7.5)"
   ]
  },
  {
   "cell_type": "markdown",
   "id": "49e7c316-a2fe-4a27-9cd0-5db6516642a1",
   "metadata": {},
   "source": [
    "### Task 3\n",
    "\n",
    "In the `DataFrame` named `df2`, defined above, we have two indexes: `\"rating\"` and `\"stars\"`, and *in this order*.  We want to change\n",
    "\n",
    "1. their order so that `\"stars\"` is the first index and `\"ratings\"` is the second one. You might want to use `swaplevel`.\n",
    "2. their case, i.e., make names of index columns upcase.\n",
    "\n",
    "Define a new `DataFrame` by the name `df3`, which is the same as `df2`, except that the indexes are swapped and they are in upcase form."
   ]
  },
  {
   "cell_type": "code",
   "execution_count": 10,
   "id": "da147490-fae4-4c03-a7cb-3fb0c0b78ddf",
   "metadata": {},
   "outputs": [
    {
     "name": "stdout",
     "output_type": "stream",
     "text": [
      "The new data frame after the changes is\n",
      "                                   title  duration  \\\n",
      "STARS RATING                                       \n",
      "7.5   PG-13                  Quiz Show       133   \n",
      "7.6   PG-13                     Batman       126   \n",
      "8.2   R        The Wolf of Wall Street       180   \n",
      "8.1   PG                          Jaws       124   \n",
      "7.8   NaN                Belle de Jour       101   \n",
      "      PG-13         As Good as It Gets       139   \n",
      "8.4   G                    Toy Story 3       103   \n",
      "7.4   PG      Manhattan Murder Mystery       104   \n",
      "\n",
      "                                                       actors      genre  \n",
      "STARS RATING                                                              \n",
      "7.5   PG-13        [Ralph Fiennes, John Turturro, Rob Morrow]        NaN  \n",
      "7.6   PG-13    [Michael Keaton, Jack Nicholson, Kim Basinger]     Action  \n",
      "8.2   R        [Leonardo DiCaprio, Jonah Hill, Margot Robbie]  Biography  \n",
      "8.1   PG        [Roy Scheider, Robert Shaw, Richard Dreyfuss]      Drama  \n",
      "7.8   NaN     [Catherine Deneuve, Jean Sorel, Michel Piccoli]      Drama  \n",
      "      PG-13        [Jack Nicholson, Helen Hunt, Greg Kinnear]     Comedy  \n",
      "8.4   G                   [Tom Hanks, Tim Allen, Joan Cusack]  Animation  \n",
      "7.4   PG             [Woody Allen, Diane Keaton, Jerry Adler]     Comedy  \n"
     ]
    }
   ],
   "source": [
    "# Your solution goes here.\n",
    "df3 = df2.swaplevel(\"rating\", \"stars\")\n",
    "\n",
    "# Convert index names to uppercase\n",
    "df3.index.names = [name.upper() for name in df3.index.names]\n",
    "\n",
    "print('The new data frame after the changes is\\n ',df3)\n"
   ]
  },
  {
   "cell_type": "code",
   "execution_count": 11,
   "id": "31625872",
   "metadata": {},
   "outputs": [],
   "source": [
    "assert df3.index.names == ['STARS', 'RATING']"
   ]
  },
  {
   "cell_type": "markdown",
   "id": "ab359708-3e86-4be5-9fb9-0daa8cf3f3f1",
   "metadata": {},
   "source": [
    "### Task 4\n",
    "\n",
    "We have now data with two indexes. Let us say that we do not need this indexing, and furthermore, we would like to recover the data to a form where it was as it was imported into a `DataFrame`.  There are three ways to do it:\n",
    "\n",
    "1. One is to keep the data stored in a separate variable and define a new variable with the new indexes.  This might lead to a memory problem, when huge data is read into a `DataFrame`.\n",
    "\n",
    "2. Reread the data from the file into the desired variable again.\n",
    "\n",
    "3. Use the builtin function for reseting indexing in `pandas`.\n",
    "\n",
    "Use the third method above to reset index of the data stored in `df3` and put it in variable `df4` (we do not desire to modify the existing variable)."
   ]
  },
  {
   "cell_type": "code",
   "execution_count": 12,
   "id": "e84ab6fd-78c5-447f-91ba-43f8a2f6cf39",
   "metadata": {},
   "outputs": [
    {
     "name": "stdout",
     "output_type": "stream",
     "text": [
      "The data frame after resetting is\n",
      "     STARS RATING                     title  duration  \\\n",
      "0    7.5  PG-13                 Quiz Show       133   \n",
      "1    7.6  PG-13                    Batman       126   \n",
      "2    8.2      R   The Wolf of Wall Street       180   \n",
      "3    8.1     PG                      Jaws       124   \n",
      "4    7.8    NaN             Belle de Jour       101   \n",
      "5    7.8  PG-13        As Good as It Gets       139   \n",
      "6    8.4      G               Toy Story 3       103   \n",
      "7    7.4     PG  Manhattan Murder Mystery       104   \n",
      "\n",
      "                                            actors      genre  \n",
      "0       [Ralph Fiennes, John Turturro, Rob Morrow]        NaN  \n",
      "1   [Michael Keaton, Jack Nicholson, Kim Basinger]     Action  \n",
      "2   [Leonardo DiCaprio, Jonah Hill, Margot Robbie]  Biography  \n",
      "3    [Roy Scheider, Robert Shaw, Richard Dreyfuss]      Drama  \n",
      "4  [Catherine Deneuve, Jean Sorel, Michel Piccoli]      Drama  \n",
      "5       [Jack Nicholson, Helen Hunt, Greg Kinnear]     Comedy  \n",
      "6              [Tom Hanks, Tim Allen, Joan Cusack]  Animation  \n",
      "7         [Woody Allen, Diane Keaton, Jerry Adler]     Comedy  \n"
     ]
    }
   ],
   "source": [
    "# Your Solution Goes here\n",
    "df4 = df3.reset_index()\n",
    "print('The data frame after resetting is\\n ',df4)\n"
   ]
  },
  {
   "cell_type": "code",
   "execution_count": 13,
   "id": "9e54fb62-fe1e-4b68-8430-272893ad3da5",
   "metadata": {},
   "outputs": [],
   "source": [
    "assert len(df4.columns) == 6"
   ]
  },
  {
   "cell_type": "markdown",
   "id": "df1c5c2c-a4c0-4bda-b2de-b2494628aa25",
   "metadata": {},
   "source": [
    "### Task 5\n",
    "\n",
    "Recall from the beginning of this set of exercises that we have imported data from a `json` file.  The data that is in hierarchical form is usually stored in this format.  There are other ways to store such data too, for example as an `xml` format, to name only another one beside `json`.  You might have noticed as we have imported the data that it was presented in a tabular format, and it was done by assigning some `NaN` value to some of the entries, because the corresponding values were missing.  For example, the `\"Quiz Show\"` has `\"genre\"` `NaN`.  Compare it with the json file, where `\"Quiz Show\"`, does not have any value for `\"genre\"`.\n",
    "\n",
    "Recall that in `pandas`, tabular data can be converted into a hierarchical data using the `stack()` method.\n",
    "\n",
    "Create a new `DataFrame`, called `df5`, from `df3` and use the method `stack()` to present it in hierarchical form."
   ]
  },
  {
   "cell_type": "code",
   "execution_count": 14,
   "id": "99da9a55-d4d4-4905-9fb6-e2377cd66bac",
   "metadata": {},
   "outputs": [
    {
     "name": "stdout",
     "output_type": "stream",
     "text": [
      "The data in hierarchial form is is\n",
      "  STARS  RATING          \n",
      "7.5    PG-13   title                                             Quiz Show\n",
      "               duration                                                133\n",
      "               actors           [Ralph Fiennes, John Turturro, Rob Morrow]\n",
      "7.6    PG-13   title                                                Batman\n",
      "               duration                                                126\n",
      "               actors       [Michael Keaton, Jack Nicholson, Kim Basinger]\n",
      "               genre                                                Action\n",
      "8.2    R       title                               The Wolf of Wall Street\n",
      "               duration                                                180\n",
      "               actors       [Leonardo DiCaprio, Jonah Hill, Margot Robbie]\n",
      "               genre                                             Biography\n",
      "8.1    PG      title                                                  Jaws\n",
      "               duration                                                124\n",
      "               actors        [Roy Scheider, Robert Shaw, Richard Dreyfuss]\n",
      "               genre                                                 Drama\n",
      "7.8    NaN     title                                         Belle de Jour\n",
      "               duration                                                101\n",
      "               actors      [Catherine Deneuve, Jean Sorel, Michel Piccoli]\n",
      "               genre                                                 Drama\n",
      "       PG-13   title                                    As Good as It Gets\n",
      "               duration                                                139\n",
      "               actors           [Jack Nicholson, Helen Hunt, Greg Kinnear]\n",
      "               genre                                                Comedy\n",
      "8.4    G       title                                           Toy Story 3\n",
      "               duration                                                103\n",
      "               actors                  [Tom Hanks, Tim Allen, Joan Cusack]\n",
      "               genre                                             Animation\n",
      "7.4    PG      title                              Manhattan Murder Mystery\n",
      "               duration                                                104\n",
      "               actors             [Woody Allen, Diane Keaton, Jerry Adler]\n",
      "               genre                                                Comedy\n",
      "dtype: object\n"
     ]
    }
   ],
   "source": [
    "# Your solution goes here.\n",
    "df5 = df3.stack()\n",
    "print('The data in hierarchial form is is\\n ',df5)\n"
   ]
  },
  {
   "cell_type": "code",
   "execution_count": 16,
   "id": "ae43fadc-146b-4edd-a585-eef99710c26e",
   "metadata": {},
   "outputs": [],
   "source": [
    "assert df5.index[0] == (7.5, 'PG-13', 'title')"
   ]
  },
  {
   "cell_type": "markdown",
   "id": "f477cef0-cbdb-40e4-bc2f-79f3ca64ab2c",
   "metadata": {},
   "source": [
    "### Task 6\n",
    "\n",
    "Consider the hierarchical `DataFrame` `df5`, and filter it down to all the entries with `\"rating\"` `\"PG-13\"`.  Store the result in the variable `df6`."
   ]
  },
  {
   "cell_type": "code",
   "execution_count": 18,
   "id": "b03ce08a-9db5-4bf3-b808-6963067ca5cf",
   "metadata": {},
   "outputs": [
    {
     "name": "stdout",
     "output_type": "stream",
     "text": [
      "The rating filtered to only PG-13 is\n",
      "  STARS          \n",
      "7.5    title                                            Quiz Show\n",
      "       duration                                               133\n",
      "       actors          [Ralph Fiennes, John Turturro, Rob Morrow]\n",
      "7.6    title                                               Batman\n",
      "       duration                                               126\n",
      "       actors      [Michael Keaton, Jack Nicholson, Kim Basinger]\n",
      "       genre                                               Action\n",
      "7.8    title                                   As Good as It Gets\n",
      "       duration                                               139\n",
      "       actors          [Jack Nicholson, Helen Hunt, Greg Kinnear]\n",
      "       genre                                               Comedy\n",
      "dtype: object\n"
     ]
    }
   ],
   "source": [
    "# Your solution goes here.\n",
    "df6 = df5.xs('PG-13', level='RATING')\n",
    "print('The rating filtered to only PG-13 is\\n ',df6)\n"
   ]
  },
  {
   "cell_type": "code",
   "execution_count": 20,
   "id": "52ba3df1",
   "metadata": {},
   "outputs": [],
   "source": [
    "assert len(df6) == 11"
   ]
  },
  {
   "cell_type": "markdown",
   "id": "402f7784-4b30-433c-9069-2bb2e33fbb62",
   "metadata": {},
   "source": [
    "### Task 7\n",
    "\n",
    "Let us consider a case, where we are given two `DataFrame`s with `MultiIndex`, we would like to merge them using a column as a reference.  There are several different functions available in `pandas` for such a purpose.\n",
    "\n",
    "Let us define two variable `df71` and `df72`.  These `DataFrame`s help us demonstrate what is stated above.  In practice, the two `DataFrame`s may come from different sources unlike how we have defined them.\n",
    "\n",
    "Define a variable `df7`, which contains a merge of `df71` and `df72` on the column `\"title\"`.  Make sure that the returned table has the `MultiIndex` inherited and it is not stripped away. You can do in by resetting index and setting it back after merge or by using `combine_first` function."
   ]
  },
  {
   "cell_type": "code",
   "execution_count": 43,
   "id": "4cb24d52-daef-420b-84c8-608df97cf04d",
   "metadata": {},
   "outputs": [
    {
     "name": "stdout",
     "output_type": "stream",
     "text": [
      "New data frame is\n",
      "                duration      genre                     title\n",
      "rating stars                                               \n",
      "PG-13  7.5         133        NaN                 Quiz Show\n",
      "       7.6         126     Action                    Batman\n",
      "R      8.2         180  Biography   The Wolf of Wall Street\n",
      "PG     8.1         124      Drama                      Jaws\n",
      "NaN    7.8         101      Drama             Belle de Jour\n",
      "PG-13  7.8         139     Comedy        As Good as It Gets\n",
      "G      8.4         103  Animation               Toy Story 3\n",
      "PG     7.4         104     Comedy  Manhattan Murder Mystery\n"
     ]
    }
   ],
   "source": [
    "# Your solution goes here\n",
    "df71 = df2[[\"title\", \"duration\"]]\n",
    "df72 = df2[[\"genre\", \"title\"]]\n",
    "\n",
    "\n",
    "#df7 = df71.combine_first(df72)\n",
    "df7 = df71.combine_first(df72)\n",
    "\n",
    "print('New data frame is\\n ',df7)\n"
   ]
  },
  {
   "cell_type": "code",
   "execution_count": 44,
   "id": "bf52222d",
   "metadata": {},
   "outputs": [],
   "source": [
    "assert df7.index.names == ['rating', 'stars']\n",
    "assert df7.shape == (8, 3)"
   ]
  },
  {
   "cell_type": "markdown",
   "id": "2e5462d5-80cc-440a-aace-6f3b4f5b9629",
   "metadata": {},
   "source": [
    "### Task 8 (Bonus)\n",
    "\n",
    "Consider the file `taxi.csv` in the attachment. Your task is to follow the discussion in the section \"Reshaping and Pivoting\", using the data in this file.\n",
    "\n",
    "Explain what goes wrong. You could write your remarks as comments or in new blocks."
   ]
  },
  {
   "cell_type": "code",
   "execution_count": null,
   "id": "336b8a31-7744-4f8b-ac85-36e6b751aad9",
   "metadata": {},
   "outputs": [],
   "source": [
    "# Your solution goes here."
   ]
  }
 ],
 "metadata": {
  "kernelspec": {
   "display_name": "Python 3 (ipykernel)",
   "language": "python",
   "name": "python3"
  },
  "language_info": {
   "codemirror_mode": {
    "name": "ipython",
    "version": 3
   },
   "file_extension": ".py",
   "mimetype": "text/x-python",
   "name": "python",
   "nbconvert_exporter": "python",
   "pygments_lexer": "ipython3",
   "version": "3.10.14"
  },
  "name": "week8.ipynb"
 },
 "nbformat": 4,
 "nbformat_minor": 5
}
