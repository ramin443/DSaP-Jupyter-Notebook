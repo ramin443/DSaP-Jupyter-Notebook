{
 "cells": [
  {
   "cell_type": "code",
   "execution_count": 1,
   "metadata": {},
   "outputs": [],
   "source": [
    "import json\n",
    "\n",
    "def biblio_to_file(biblio, filename):\n",
    "    \"\"\"\n",
    "    Writes the list of bibliographic records (dict objects) to a file.\n",
    "    Each record is converted to a JSON string and written as a separate line.\n",
    "    \n",
    "    :param biblio: List of dictionaries, where each dictionary is a bibliographic record.\n",
    "    :param filename: Name of the file where records will be written.\n",
    "    \"\"\"\n",
    "    with open(filename, 'w') as file:\n",
    "        for record in biblio:\n",
    "            # Convert each record (dict) to a JSON string and write it as a line\n",
    "            json_record = json.dumps(record)\n",
    "            file.write(json_record + '\\n')"
   ]
  },
  {
   "cell_type": "code",
   "execution_count": 3,
   "metadata": {},
   "outputs": [],
   "source": [
    "biblio_to_file(\"biblio.txt\",\"bibliox.txt\")"
   ]
  },
  {
   "cell_type": "code",
   "execution_count": 4,
   "metadata": {},
   "outputs": [],
   "source": [
    "biblio_to_file(\"biblio.txt\",\"bibliox.txt\")"
   ]
  },
  {
   "cell_type": "code",
   "execution_count": 5,
   "metadata": {},
   "outputs": [],
   "source": [
    "biblio_to_file(\"biblio.txt\",\"bibliox.txt\")"
   ]
  },
  {
   "cell_type": "code",
   "execution_count": 7,
   "metadata": {},
   "outputs": [],
   "source": [
    "import json\n",
    "\n",
    "def biblio_to_file(biblio, filename):\n",
    "    \"\"\"\n",
    "    Writes the list of bibliographic records (dict objects) to a file.\n",
    "    Each record is converted to a JSON string and written as a separate line.\n",
    "    \n",
    "    :param biblio: List of dictionaries, where each dictionary is a bibliographic record.\n",
    "    :param filename: Name of the file where records will be written.\n",
    "    \"\"\"\n",
    "    with open(filename, 'w') as file:\n",
    "        biblio_records = biblio_from_file(biblio)\n",
    "        for record in biblio_records:\n",
    "            # Convert each record (dict) to a JSON string and write it as a line\n",
    "            json_record = json.dumps(record)\n",
    "            file.write(json_record + '\\n')"
   ]
  },
  {
   "cell_type": "code",
   "execution_count": 8,
   "metadata": {},
   "outputs": [
    {
     "ename": "NameError",
     "evalue": "name 'biblio_from_file' is not defined",
     "output_type": "error",
     "traceback": [
      "\u001b[0;31m---------------------------------------------------------------------------\u001b[0m",
      "\u001b[0;31mNameError\u001b[0m                                 Traceback (most recent call last)",
      "Input \u001b[0;32mIn [8]\u001b[0m, in \u001b[0;36m<cell line: 1>\u001b[0;34m()\u001b[0m\n\u001b[0;32m----> 1\u001b[0m \u001b[43mbiblio_to_file\u001b[49m\u001b[43m(\u001b[49m\u001b[38;5;124;43m\"\u001b[39;49m\u001b[38;5;124;43mbiblio.txt\u001b[39;49m\u001b[38;5;124;43m\"\u001b[39;49m\u001b[43m,\u001b[49m\u001b[38;5;124;43m\"\u001b[39;49m\u001b[38;5;124;43mbibliox.txt\u001b[39;49m\u001b[38;5;124;43m\"\u001b[39;49m\u001b[43m)\u001b[49m\n",
      "Input \u001b[0;32mIn [7]\u001b[0m, in \u001b[0;36mbiblio_to_file\u001b[0;34m(biblio, filename)\u001b[0m\n\u001b[1;32m      4\u001b[0m \u001b[38;5;124;03m\"\"\"\u001b[39;00m\n\u001b[1;32m      5\u001b[0m \u001b[38;5;124;03mWrites the list of bibliographic records (dict objects) to a file.\u001b[39;00m\n\u001b[1;32m      6\u001b[0m \u001b[38;5;124;03mEach record is converted to a JSON string and written as a separate line.\u001b[39;00m\n\u001b[0;32m   (...)\u001b[0m\n\u001b[1;32m      9\u001b[0m \u001b[38;5;124;03m:param filename: Name of the file where records will be written.\u001b[39;00m\n\u001b[1;32m     10\u001b[0m \u001b[38;5;124;03m\"\"\"\u001b[39;00m\n\u001b[1;32m     11\u001b[0m \u001b[38;5;28;01mwith\u001b[39;00m \u001b[38;5;28mopen\u001b[39m(filename, \u001b[38;5;124m'\u001b[39m\u001b[38;5;124mw\u001b[39m\u001b[38;5;124m'\u001b[39m) \u001b[38;5;28;01mas\u001b[39;00m file:\n\u001b[0;32m---> 12\u001b[0m     biblio_records \u001b[38;5;241m=\u001b[39m \u001b[43mbiblio_from_file\u001b[49m(biblio)\n\u001b[1;32m     13\u001b[0m     \u001b[38;5;28;01mfor\u001b[39;00m record \u001b[38;5;129;01min\u001b[39;00m biblio_records:\n\u001b[1;32m     14\u001b[0m         \u001b[38;5;66;03m# Convert each record (dict) to a JSON string and write it as a line\u001b[39;00m\n\u001b[1;32m     15\u001b[0m         json_record \u001b[38;5;241m=\u001b[39m json\u001b[38;5;241m.\u001b[39mdumps(record)\n",
      "\u001b[0;31mNameError\u001b[0m: name 'biblio_from_file' is not defined"
     ]
    }
   ],
   "source": [
    "biblio_to_file(\"biblio.txt\",\"bibliox.txt\")"
   ]
  },
  {
   "cell_type": "code",
   "execution_count": 27,
   "metadata": {},
   "outputs": [],
   "source": [
    "def parse_line_to_dict(line):\n",
    "    \"\"\"\n",
    "    Parses a single line from the file into a dictionary representing a bibliographic record.\n",
    "    \"\"\"\n",
    "    # Step 2: Clean the line by removing unwanted characters\n",
    "    cleaned_line = line.strip().strip(\"{}\\n\")\n",
    "    \n",
    "    # Step 3: Split the cleaned line into key-value pair strings\n",
    "    pair_strings = cleaned_line.split(\", \")\n",
    "    \n",
    "    # Step 4 and 5: Process each pair string, split them into key and value, and build the dictionary\n",
    "    record_dict = {}\n",
    "    for pair in pair_strings:\n",
    "        key, value = pair.split(\": \", 1)\n",
    "        key = key.strip('\"')\n",
    "        # Attempt to convert the value to its appropriate type (e.g., list, string, int)\n",
    "        try:\n",
    "            value = eval(value)\n",
    "        except:\n",
    "            value = value.strip('\"')\n",
    "        record_dict[key] = value\n",
    "    \n",
    "    return record_dict\n",
    "\n",
    "def biblio_from_file(filename):\n",
    "    \"\"\"\n",
    "    Reads the contents of a file and returns a list of records.\n",
    "    Each line in the file represents a bibliographic record.\n",
    "    \"\"\"\n",
    "    records = {}\n",
    "    try:\n",
    "        with open(filename, 'r') as file:\n",
    "            # Step 1: Read lines from the file\n",
    "            lines = file.readlines()\n",
    "            \n",
    "            # Process each line to convert it into a bibliographic record dictionary\n",
    "            for line in lines:\n",
    "                record = parse_line_to_dict(line)\n",
    "                records.append(record)\n",
    "        print(\"rRecords are \")        \n",
    "        print(records)        \n",
    "        return records\n",
    "    except FileNotFoundError:\n",
    "        print(\"File {filename} not found.\")\n",
    "        return []\n",
    "\n",
    "# Note: This implementation assumes that the value part of each key-value pair is well-formed and can be evaluated safely.\n",
    "# In real-world scenarios, further validation and error handling might be required to handle malformed data.\n"
   ]
  },
  {
   "cell_type": "code",
   "execution_count": 10,
   "metadata": {},
   "outputs": [],
   "source": [
    "biblio_to_file(\"biblio.txt\",\"bibliox.txt\")"
   ]
  },
  {
   "cell_type": "code",
   "execution_count": 11,
   "metadata": {},
   "outputs": [],
   "source": [
    "import json\n",
    "\n",
    "def biblio_to_file(biblio, filename):\n",
    "    \"\"\"\n",
    "    Writes the list of bibliographic records (dict objects) to a file.\n",
    "    Each record is converted to a JSON string and written as a separate line.\n",
    "    \n",
    "    :param biblio: List of dictionaries, where each dictionary is a bibliographic record.\n",
    "    :param filename: Name of the file where records will be written.\n",
    "    \"\"\"\n",
    "    with open(filename, 'w') as file:\n",
    "        for record in biblio:\n",
    "            # Convert each record (dict) to a JSON string and write it as a line\n",
    "            json_record = json.dumps(record)\n",
    "            file.write(json_record + '\\n')"
   ]
  },
  {
   "cell_type": "code",
   "execution_count": 12,
   "metadata": {},
   "outputs": [],
   "source": [
    "biblio_to_file(\"biblio.txt\",\"bibliox.txt\")"
   ]
  },
  {
   "cell_type": "code",
   "execution_count": 13,
   "metadata": {},
   "outputs": [],
   "source": [
    "import json\n",
    "\n",
    "def biblio_to_file(biblio, filename):\n",
    "    \"\"\"\n",
    "    Writes the list of bibliographic records (dict objects) to a file.\n",
    "    Each record is converted to a JSON string and written as a separate line.\n",
    "    \n",
    "    :param biblio: List of dictionaries, where each dictionary is a bibliographic record.\n",
    "    :param filename: Name of the file where records will be written.\n",
    "    \"\"\"\n",
    "    with open(filename, 'w') as file:\n",
    "        biblio_records = biblio_from_file(biblio)\n",
    "        for record in biblio_records:\n",
    "            # Convert each record (dict) to a JSON string and write it as a line\n",
    "            json_record = json.dumps(record)\n",
    "            \n",
    "            file.write(json_record + '\\n')"
   ]
  },
  {
   "cell_type": "code",
   "execution_count": 14,
   "metadata": {},
   "outputs": [],
   "source": [
    "biblio_to_file(\"biblio.txt\",\"bibliox.txt\")"
   ]
  },
  {
   "cell_type": "code",
   "execution_count": 15,
   "metadata": {},
   "outputs": [],
   "source": [
    "biblio_to_file(\"biblio.txt\",\"bibliox.txt\")"
   ]
  },
  {
   "cell_type": "code",
   "execution_count": 29,
   "metadata": {},
   "outputs": [],
   "source": [
    "def parse_line_to_dict(line):\n",
    "    \"\"\"\n",
    "    Parses a single line from the file into a dictionary representing a bibliographic record.\n",
    "    \"\"\"\n",
    "    # Step 2: Clean the line by removing unwanted characters\n",
    "    cleaned_line = line.strip().strip(\"{}\\n\")\n",
    "    print(\"Cleaned lines are \")        \n",
    "    print(cleaned_line)     \n",
    "    # Step 3: Split the cleaned line into key-value pair strings\n",
    "    pair_strings = cleaned_line.split(\", \")\n",
    "    print(\"Splitted lines are \")        \n",
    "    print(pair_strings)  \n",
    "    # Step 4 and 5: Process each pair string, split them into key and value, and build the dictionary\n",
    "    record_dict = {}\n",
    "    for pair in pair_strings:\n",
    "        key, value = pair.split(\": \", 1)\n",
    "        key = key.strip('\"')\n",
    "        # Attempt to convert the value to its appropriate type (e.g., list, string, int)\n",
    "        try:\n",
    "            value = eval(value)\n",
    "        except:\n",
    "            value = value.strip('\"')\n",
    "        record_dict[key] = value\n",
    "    \n",
    "    return record_dict\n",
    "\n",
    "def biblio_from_file(filename):\n",
    "    \"\"\"\n",
    "    Reads the contents of a file and returns a list of records.\n",
    "    Each line in the file represents a bibliographic record.\n",
    "    \"\"\"\n",
    "    records = []\n",
    "    try:\n",
    "        with open(filename, 'r') as file:\n",
    "            # Step 1: Read lines from the file\n",
    "            lines = file.readlines()\n",
    "            \n",
    "            # Process each line to convert it into a bibliographic record dictionary\n",
    "            for line in lines:\n",
    "                record = parse_line_to_dict(line)\n",
    "                records.append(record)\n",
    "        print(\"Records are \")        \n",
    "        print(records)        \n",
    "        return records\n",
    "    except FileNotFoundError:\n",
    "        print(f\"File {filename} not found.\")\n",
    "        return []\n",
    "\n",
    "# Note: This implementation assumes that the value part of each key-value pair is well-formed and can be evaluated safely.\n",
    "# In real-world scenarios, further validation and error handling might be required to handle malformed data.\n"
   ]
  },
  {
   "cell_type": "code",
   "execution_count": 17,
   "metadata": {},
   "outputs": [],
   "source": [
    "import json\n",
    "\n",
    "def biblio_to_file(biblio, filename):\n",
    "    \"\"\"\n",
    "    Writes the list of bibliographic records (dict objects) to a file.\n",
    "    Each record is converted to a JSON string and written as a separate line.\n",
    "    \n",
    "    :param biblio: List of dictionaries, where each dictionary is a bibliographic record.\n",
    "    :param filename: Name of the file where records will be written.\n",
    "    \"\"\"\n",
    "    with open(filename, 'w') as file:\n",
    "        biblio_records = biblio_from_file(biblio)\n",
    "        for record in biblio_records:\n",
    "            # Convert each record (dict) to a JSON string and write it as a line\n",
    "            json_record = json.dumps(record)\n",
    "            \n",
    "            file.write(json_record + '\\n')"
   ]
  },
  {
   "cell_type": "code",
   "execution_count": 18,
   "metadata": {},
   "outputs": [
    {
     "name": "stdout",
     "output_type": "stream",
     "text": [
      "rRecords are \n",
      "[{'id': 'skiena2017data', 'title': 'The data science design manual', 'authors': ['Steven Skiena'], 'year': 2017, 'publisher': 'Springer'}]\n"
     ]
    }
   ],
   "source": [
    "biblio_to_file(\"biblio.txt\",\"bibliox.txt\")"
   ]
  },
  {
   "cell_type": "code",
   "execution_count": 20,
   "metadata": {},
   "outputs": [
    {
     "name": "stdout",
     "output_type": "stream",
     "text": [
      "Cleaned lines are \n",
      "\"id\": \"skiena2017data\", \"title\": \"The data science design manual\", \"authors\": [\"Steven Skiena\"], \"year\": 2017, \"publisher\": \"Springer\"\n",
      "Records are \n",
      "[{'id': 'skiena2017data', 'title': 'The data science design manual', 'authors': ['Steven Skiena'], 'year': 2017, 'publisher': 'Springer'}]\n"
     ]
    }
   ],
   "source": [
    "biblio_to_file(\"biblio.txt\",\"bibliox.txt\")"
   ]
  },
  {
   "cell_type": "code",
   "execution_count": 26,
   "metadata": {},
   "outputs": [
    {
     "ename": "AttributeError",
     "evalue": "'dict' object has no attribute 'append'",
     "output_type": "error",
     "traceback": [
      "\u001b[0;31m---------------------------------------------------------------------------\u001b[0m",
      "\u001b[0;31mAttributeError\u001b[0m                            Traceback (most recent call last)",
      "Input \u001b[0;32mIn [26]\u001b[0m, in \u001b[0;36m<cell line: 1>\u001b[0;34m()\u001b[0m\n\u001b[0;32m----> 1\u001b[0m \u001b[43mbiblio_to_file\u001b[49m\u001b[43m(\u001b[49m\u001b[38;5;124;43m\"\u001b[39;49m\u001b[38;5;124;43mbiblio.txt\u001b[39;49m\u001b[38;5;124;43m\"\u001b[39;49m\u001b[43m,\u001b[49m\u001b[38;5;124;43m\"\u001b[39;49m\u001b[38;5;124;43mbibliox.txt\u001b[39;49m\u001b[38;5;124;43m\"\u001b[39;49m\u001b[43m)\u001b[49m\n",
      "Input \u001b[0;32mIn [17]\u001b[0m, in \u001b[0;36mbiblio_to_file\u001b[0;34m(biblio, filename)\u001b[0m\n\u001b[1;32m      4\u001b[0m \u001b[38;5;124;03m\"\"\"\u001b[39;00m\n\u001b[1;32m      5\u001b[0m \u001b[38;5;124;03mWrites the list of bibliographic records (dict objects) to a file.\u001b[39;00m\n\u001b[1;32m      6\u001b[0m \u001b[38;5;124;03mEach record is converted to a JSON string and written as a separate line.\u001b[39;00m\n\u001b[0;32m   (...)\u001b[0m\n\u001b[1;32m      9\u001b[0m \u001b[38;5;124;03m:param filename: Name of the file where records will be written.\u001b[39;00m\n\u001b[1;32m     10\u001b[0m \u001b[38;5;124;03m\"\"\"\u001b[39;00m\n\u001b[1;32m     11\u001b[0m \u001b[38;5;28;01mwith\u001b[39;00m \u001b[38;5;28mopen\u001b[39m(filename, \u001b[38;5;124m'\u001b[39m\u001b[38;5;124mw\u001b[39m\u001b[38;5;124m'\u001b[39m) \u001b[38;5;28;01mas\u001b[39;00m file:\n\u001b[0;32m---> 12\u001b[0m     biblio_records \u001b[38;5;241m=\u001b[39m \u001b[43mbiblio_from_file\u001b[49m\u001b[43m(\u001b[49m\u001b[43mbiblio\u001b[49m\u001b[43m)\u001b[49m\n\u001b[1;32m     13\u001b[0m     \u001b[38;5;28;01mfor\u001b[39;00m record \u001b[38;5;129;01min\u001b[39;00m biblio_records:\n\u001b[1;32m     14\u001b[0m         \u001b[38;5;66;03m# Convert each record (dict) to a JSON string and write it as a line\u001b[39;00m\n\u001b[1;32m     15\u001b[0m         json_record \u001b[38;5;241m=\u001b[39m json\u001b[38;5;241m.\u001b[39mdumps(record)\n",
      "Input \u001b[0;32mIn [25]\u001b[0m, in \u001b[0;36mbiblio_from_file\u001b[0;34m(filename)\u001b[0m\n\u001b[1;32m     37\u001b[0m     \u001b[38;5;28;01mfor\u001b[39;00m line \u001b[38;5;129;01min\u001b[39;00m lines:\n\u001b[1;32m     38\u001b[0m         record \u001b[38;5;241m=\u001b[39m parse_line_to_dict(line)\n\u001b[0;32m---> 39\u001b[0m         \u001b[43mrecords\u001b[49m\u001b[38;5;241;43m.\u001b[39;49m\u001b[43mappend\u001b[49m(record)\n\u001b[1;32m     40\u001b[0m \u001b[38;5;28mprint\u001b[39m(\u001b[38;5;124m\"\u001b[39m\u001b[38;5;124mrRecords are \u001b[39m\u001b[38;5;124m\"\u001b[39m)        \n\u001b[1;32m     41\u001b[0m \u001b[38;5;28mprint\u001b[39m(records)        \n",
      "\u001b[0;31mAttributeError\u001b[0m: 'dict' object has no attribute 'append'"
     ]
    }
   ],
   "source": [
    "biblio_to_file(\"biblio.txt\",\"bibliox.txt\")"
   ]
  },
  {
   "cell_type": "code",
   "execution_count": 28,
   "metadata": {},
   "outputs": [
    {
     "ename": "AttributeError",
     "evalue": "'dict' object has no attribute 'append'",
     "output_type": "error",
     "traceback": [
      "\u001b[0;31m---------------------------------------------------------------------------\u001b[0m",
      "\u001b[0;31mAttributeError\u001b[0m                            Traceback (most recent call last)",
      "Input \u001b[0;32mIn [28]\u001b[0m, in \u001b[0;36m<cell line: 1>\u001b[0;34m()\u001b[0m\n\u001b[0;32m----> 1\u001b[0m \u001b[43mbiblio_to_file\u001b[49m\u001b[43m(\u001b[49m\u001b[38;5;124;43m\"\u001b[39;49m\u001b[38;5;124;43mbiblio.txt\u001b[39;49m\u001b[38;5;124;43m\"\u001b[39;49m\u001b[43m,\u001b[49m\u001b[38;5;124;43m\"\u001b[39;49m\u001b[38;5;124;43mbibliox.txt\u001b[39;49m\u001b[38;5;124;43m\"\u001b[39;49m\u001b[43m)\u001b[49m\n",
      "Input \u001b[0;32mIn [17]\u001b[0m, in \u001b[0;36mbiblio_to_file\u001b[0;34m(biblio, filename)\u001b[0m\n\u001b[1;32m      4\u001b[0m \u001b[38;5;124;03m\"\"\"\u001b[39;00m\n\u001b[1;32m      5\u001b[0m \u001b[38;5;124;03mWrites the list of bibliographic records (dict objects) to a file.\u001b[39;00m\n\u001b[1;32m      6\u001b[0m \u001b[38;5;124;03mEach record is converted to a JSON string and written as a separate line.\u001b[39;00m\n\u001b[0;32m   (...)\u001b[0m\n\u001b[1;32m      9\u001b[0m \u001b[38;5;124;03m:param filename: Name of the file where records will be written.\u001b[39;00m\n\u001b[1;32m     10\u001b[0m \u001b[38;5;124;03m\"\"\"\u001b[39;00m\n\u001b[1;32m     11\u001b[0m \u001b[38;5;28;01mwith\u001b[39;00m \u001b[38;5;28mopen\u001b[39m(filename, \u001b[38;5;124m'\u001b[39m\u001b[38;5;124mw\u001b[39m\u001b[38;5;124m'\u001b[39m) \u001b[38;5;28;01mas\u001b[39;00m file:\n\u001b[0;32m---> 12\u001b[0m     biblio_records \u001b[38;5;241m=\u001b[39m \u001b[43mbiblio_from_file\u001b[49m\u001b[43m(\u001b[49m\u001b[43mbiblio\u001b[49m\u001b[43m)\u001b[49m\n\u001b[1;32m     13\u001b[0m     \u001b[38;5;28;01mfor\u001b[39;00m record \u001b[38;5;129;01min\u001b[39;00m biblio_records:\n\u001b[1;32m     14\u001b[0m         \u001b[38;5;66;03m# Convert each record (dict) to a JSON string and write it as a line\u001b[39;00m\n\u001b[1;32m     15\u001b[0m         json_record \u001b[38;5;241m=\u001b[39m json\u001b[38;5;241m.\u001b[39mdumps(record)\n",
      "Input \u001b[0;32mIn [27]\u001b[0m, in \u001b[0;36mbiblio_from_file\u001b[0;34m(filename)\u001b[0m\n\u001b[1;32m     37\u001b[0m     \u001b[38;5;28;01mfor\u001b[39;00m line \u001b[38;5;129;01min\u001b[39;00m lines:\n\u001b[1;32m     38\u001b[0m         record \u001b[38;5;241m=\u001b[39m parse_line_to_dict(line)\n\u001b[0;32m---> 39\u001b[0m         \u001b[43mrecords\u001b[49m\u001b[38;5;241;43m.\u001b[39;49m\u001b[43mappend\u001b[49m(record)\n\u001b[1;32m     40\u001b[0m \u001b[38;5;28mprint\u001b[39m(\u001b[38;5;124m\"\u001b[39m\u001b[38;5;124mrRecords are \u001b[39m\u001b[38;5;124m\"\u001b[39m)        \n\u001b[1;32m     41\u001b[0m \u001b[38;5;28mprint\u001b[39m(records)        \n",
      "\u001b[0;31mAttributeError\u001b[0m: 'dict' object has no attribute 'append'"
     ]
    }
   ],
   "source": [
    "biblio_to_file(\"biblio.txt\",\"bibliox.txt\")"
   ]
  },
  {
   "cell_type": "code",
   "execution_count": 30,
   "metadata": {},
   "outputs": [
    {
     "name": "stdout",
     "output_type": "stream",
     "text": [
      "Cleaned lines are \n",
      "\"id\": \"skiena2017data\", \"title\": \"The data science design manual\", \"authors\": [\"Steven Skiena\"], \"year\": 2017, \"publisher\": \"Springer\"\n",
      "Splitted lines are \n",
      "['\"id\": \"skiena2017data\"', '\"title\": \"The data science design manual\"', '\"authors\": [\"Steven Skiena\"]', '\"year\": 2017', '\"publisher\": \"Springer\"']\n",
      "Records are \n",
      "[{'id': 'skiena2017data', 'title': 'The data science design manual', 'authors': ['Steven Skiena'], 'year': 2017, 'publisher': 'Springer'}]\n"
     ]
    }
   ],
   "source": [
    "biblio_to_file(\"biblio.txt\",\"bibliox.txt\")"
   ]
  },
  {
   "cell_type": "code",
   "execution_count": 31,
   "metadata": {},
   "outputs": [],
   "source": [
    "def parse_line_to_dict(line):\n",
    "    \"\"\"\n",
    "    Parses a single line from the file into a dictionary representing a bibliographic record.\n",
    "    \"\"\"\n",
    "    # Step 2: Clean the line by removing unwanted characters\n",
    "    cleaned_line = line.strip().strip(\"{}\\n\")\n",
    "    print(\"Cleaned lines are \")        \n",
    "    print(cleaned_line)     \n",
    "    # Step 3: Split the cleaned line into key-value pair strings\n",
    "    pair_strings = cleaned_line.split(\", \")\n",
    "    print(\"Splitted lines are \")        \n",
    "    print(pair_strings)  \n",
    "    # Step 4 and 5: Process each pair string, split them into key and value, and build the dictionary\n",
    "    record_dict = {}\n",
    "    for pair in pair_strings:\n",
    "        key, value = pair.split(\": \", 1)\n",
    "        key = key.strip('\"')\n",
    "        # Attempt to convert the value to its appropriate type (e.g., list, string, int)\n",
    "        try:\n",
    "            value = eval(value)\n",
    "        except:\n",
    "            value = value.strip('\"')\n",
    "        record_dict[key] = value\n",
    "    \n",
    "    return record_dict\n",
    "\n",
    "def biblio_from_file(filename):\n",
    "    \"\"\"\n",
    "    Reads the contents of a file and returns a list of records.\n",
    "    Each line in the file represents a bibliographic record.\n",
    "    \"\"\"\n",
    "    records = []\n",
    "    try:\n",
    "        with open(filename, 'r') as file:\n",
    "            # Step 1: Read lines from the file\n",
    "            lines = file.readlines()\n",
    "            \n",
    "            # Process each line to convert it into a bibliographic record dictionary\n",
    "            for line in lines:\n",
    "                record = parse_line_to_dict(line)\n",
    "                records.append(record)\n",
    "        print(\"Records are \")        \n",
    "        print(records)        \n",
    "        return records\n",
    "    except FileNotFoundError:\n",
    "        print(f\"File {filename} not found.\")\n",
    "        return []\n",
    "\n",
    "# Note: This implementation assumes that the value part of each key-value pair is well-formed and can be evaluated safely.\n",
    "# In real-world scenarios, further validation and error handling might be required to handle malformed data."
   ]
  },
  {
   "cell_type": "code",
   "execution_count": 32,
   "metadata": {},
   "outputs": [],
   "source": [
    "import json\n",
    "\n",
    "def biblio_to_file(biblio, filename):\n",
    "    \"\"\"\n",
    "    Writes the list of bibliographic records (dict objects) to a file.\n",
    "    Each record is converted to a JSON string and written as a separate line.\n",
    "    \n",
    "    :param biblio: List of dictionaries, where each dictionary is a bibliographic record.\n",
    "    :param filename: Name of the file where records will be written.\n",
    "    \"\"\"\n",
    "    with open(filename, 'w') as file:\n",
    "        biblio_records = biblio_from_file(biblio)\n",
    "        for record in biblio_records:\n",
    "            # Convert each record (dict) to a JSON string and write it as a line\n",
    "            json_record = json.dumps(record)\n",
    "            \n",
    "            file.write(json_record + '\\n')"
   ]
  },
  {
   "cell_type": "code",
   "execution_count": 33,
   "metadata": {},
   "outputs": [
    {
     "name": "stdout",
     "output_type": "stream",
     "text": [
      "Cleaned lines are \n",
      "\"id\": \"skiena2017data\", \"title\": \"The data science design manual\", \"authors\": [\"Steven Skiena\"], \"year\": 2017, \"publisher\": \"Springer\"\n",
      "Splitted lines are \n",
      "['\"id\": \"skiena2017data\"', '\"title\": \"The data science design manual\"', '\"authors\": [\"Steven Skiena\"]', '\"year\": 2017', '\"publisher\": \"Springer\"']\n",
      "Records are \n",
      "[{'id': 'skiena2017data', 'title': 'The data science design manual', 'authors': ['Steven Skiena'], 'year': 2017, 'publisher': 'Springer'}]\n"
     ]
    },
    {
     "data": {
      "text/plain": [
       "[{'id': 'skiena2017data',\n",
       "  'title': 'The data science design manual',\n",
       "  'authors': ['Steven Skiena'],\n",
       "  'year': 2017,\n",
       "  'publisher': 'Springer'}]"
      ]
     },
     "execution_count": 33,
     "metadata": {},
     "output_type": "execute_result"
    }
   ],
   "source": [
    "biblio_from_file(\"biblio.txt\")"
   ]
  },
  {
   "cell_type": "code",
   "execution_count": 34,
   "metadata": {},
   "outputs": [],
   "source": [
    "import json\n",
    "\n",
    "def biblio_to_file(biblio, filename):\n",
    "    \"\"\"\n",
    "    Writes the list of bibliographic records (dict objects) to a file.\n",
    "    Each record is converted to a JSON string and written as a separate line.\n",
    "    \n",
    "    :param biblio: List of dictionaries, where each dictionary is a bibliographic record.\n",
    "    :param filename: Name of the file where records will be written.\n",
    "    \"\"\"\n",
    "    with open(filename, 'w') as file:\n",
    "        biblio_records = biblio_from_file(biblio)\n",
    "        for record in biblio_records:\n",
    "            # Convert each record (dict) to a JSON string and write it as a line\n",
    "            print(\"Single record is \")        \n",
    "            print(record)  \n",
    "            json_record = json.dumps(record)\n",
    "            \n",
    "            file.write(json_record + '\\n')"
   ]
  },
  {
   "cell_type": "code",
   "execution_count": 35,
   "metadata": {},
   "outputs": [
    {
     "name": "stdout",
     "output_type": "stream",
     "text": [
      "Cleaned lines are \n",
      "\"id\": \"skiena2017data\", \"title\": \"The data science design manual\", \"authors\": [\"Steven Skiena\"], \"year\": 2017, \"publisher\": \"Springer\"\n",
      "Splitted lines are \n",
      "['\"id\": \"skiena2017data\"', '\"title\": \"The data science design manual\"', '\"authors\": [\"Steven Skiena\"]', '\"year\": 2017', '\"publisher\": \"Springer\"']\n",
      "Records are \n",
      "[{'id': 'skiena2017data', 'title': 'The data science design manual', 'authors': ['Steven Skiena'], 'year': 2017, 'publisher': 'Springer'}]\n",
      "Single record is \n",
      "{'id': 'skiena2017data', 'title': 'The data science design manual', 'authors': ['Steven Skiena'], 'year': 2017, 'publisher': 'Springer'}\n"
     ]
    }
   ],
   "source": [
    "biblio_to_file(\"biblio.txt\",\"bibliox.txt\")"
   ]
  },
  {
   "cell_type": "code",
   "execution_count": 36,
   "metadata": {},
   "outputs": [
    {
     "name": "stdout",
     "output_type": "stream",
     "text": [
      "Cleaned lines are \n",
      "\"id\": \"skiena2017data\", \"title\": \"The data science design manual\", \"authors\": [\"Steven Skiena\"], \"year\": 2017, \"publisher\": \"Springer\"\n",
      "Splitted lines are \n",
      "['\"id\": \"skiena2017data\"', '\"title\": \"The data science design manual\"', '\"authors\": [\"Steven Skiena\"]', '\"year\": 2017', '\"publisher\": \"Springer\"']\n",
      "Records are \n",
      "[{'id': 'skiena2017data', 'title': 'The data science design manual', 'authors': ['Steven Skiena'], 'year': 2017, 'publisher': 'Springer'}]\n"
     ]
    },
    {
     "data": {
      "text/plain": [
       "[{'id': 'skiena2017data',\n",
       "  'title': 'The data science design manual',\n",
       "  'authors': ['Steven Skiena'],\n",
       "  'year': 2017,\n",
       "  'publisher': 'Springer'}]"
      ]
     },
     "execution_count": 36,
     "metadata": {},
     "output_type": "execute_result"
    }
   ],
   "source": [
    "biblio_from_file(\"biblio.txt\")"
   ]
  },
  {
   "cell_type": "code",
   "execution_count": 45,
   "metadata": {},
   "outputs": [],
   "source": [
    "def parse_line_to_dict(line):\n",
    "    \"\"\"\n",
    "    Parses a single line from the file into a dictionary representing a bibliographic record.\n",
    "    \"\"\"\n",
    "    # Step 2: Clean the line by removing unwanted characters\n",
    "    cleaned_line = line.strip().strip(\"{}\\n\")\n",
    "    print(\"Cleaned lines are \")        \n",
    "    print(cleaned_line)     \n",
    "    # Step 3: Split the cleaned line into key-value pair strings\n",
    "    pair_strings = cleaned_line.split(\",\")\n",
    "    print(\"Splitted lines are \")        \n",
    "    print(pair_strings)  \n",
    "    # Step 4 and 5: Process each pair string, split them into key and value, and build the dictionary\n",
    "    record_dict = {}\n",
    "    for pair in pair_strings:\n",
    "        key, value = pair.split(\": \", 1)\n",
    "        key = key.strip('\"')\n",
    "        # Attempt to convert the value to its appropriate type (e.g., list, string, int)\n",
    "        try:\n",
    "            value = eval(value)\n",
    "        except:\n",
    "            value = value.strip('\"')\n",
    "        record_dict[key] = value\n",
    "\n",
    "    return record_dict\n",
    "\n",
    "def biblio_from_file(filename):\n",
    "    \"\"\"\n",
    "    Reads the contents of a file and returns a list of records.\n",
    "    Each line in the file represents a bibliographic record.\n",
    "    \"\"\"\n",
    "    records = []\n",
    "    try:\n",
    "        with open(filename, 'r') as file:\n",
    "            # Step 1: Read lines from the file\n",
    "            lines = file.readlines()\n",
    "            \n",
    "            # Process each line to convert it into a bibliographic record dictionary\n",
    "            for line in lines:\n",
    "                record = parse_line_to_dict(line)\n",
    "                records.append(record)\n",
    "      \n",
    "        return records\n",
    "    except FileNotFoundError:\n",
    "        print(f\"File {filename} not found.\")\n",
    "        return []\n",
    "\n",
    "# Note: This implementation assumes that the value part of each key-value pair is well-formed and can be evaluated safely.\n",
    "# In real-world scenarios, further validation and error handling might be required to handle malformed data."
   ]
  },
  {
   "cell_type": "code",
   "execution_count": 38,
   "metadata": {},
   "outputs": [
    {
     "name": "stdout",
     "output_type": "stream",
     "text": [
      "Cleaned lines are \n",
      "\"id\": \"skiena2017data\", \"title\": \"The data science design manual\", \"authors\": [\"Steven Skiena\"], \"year\": 2017, \"publisher\": \"Springer\"\n",
      "Splitted lines are \n",
      "['\"id\": \"skiena2017data\"', '\"title\": \"The data science design manual\"', '\"authors\": [\"Steven Skiena\"]', '\"year\": 2017', '\"publisher\": \"Springer\"']\n",
      "Records are \n",
      "[{'id': 'skiena2017data', 'title': 'The data science design manual', 'authors': ['Steven Skiena'], 'year': 2017, 'publisher': 'Springer'}]\n"
     ]
    },
    {
     "data": {
      "text/plain": [
       "[{'id': 'skiena2017data',\n",
       "  'title': 'The data science design manual',\n",
       "  'authors': ['Steven Skiena'],\n",
       "  'year': 2017,\n",
       "  'publisher': 'Springer'}]"
      ]
     },
     "execution_count": 38,
     "metadata": {},
     "output_type": "execute_result"
    }
   ],
   "source": [
    "biblio_from_file(\"biblio.txt\")"
   ]
  },
  {
   "cell_type": "code",
   "execution_count": 41,
   "metadata": {},
   "outputs": [
    {
     "name": "stdout",
     "output_type": "stream",
     "text": [
      "Cleaned lines are \n",
      "\"id\": \"skiena2017data\", \"title\": \"The data science design manual\", \"authors\": [\"Steven Skiena\"], \"year\": 2017, \"publisher\": \"Springer\"\n",
      "Splitted lines are \n",
      "['\"id\": \"skiena2017data\"', '\"title\": \"The data science design manual\"', '\"authors\": [\"Steven Skiena\"]', '\"year\": 2017', '\"publisher\": \"Springer\"']\n"
     ]
    },
    {
     "data": {
      "text/plain": [
       "[{'id': 'skiena2017data',\n",
       "  'title': 'The data science design manual',\n",
       "  'authors': ['Steven Skiena'],\n",
       "  'year': 2017,\n",
       "  'publisher': 'Springer'}]"
      ]
     },
     "execution_count": 41,
     "metadata": {},
     "output_type": "execute_result"
    }
   ],
   "source": [
    "biblio_from_file(\"biblio.txt\")"
   ]
  },
  {
   "cell_type": "code",
   "execution_count": 43,
   "metadata": {},
   "outputs": [
    {
     "name": "stdout",
     "output_type": "stream",
     "text": [
      "Cleaned lines are \n",
      "\"id\": \"skiena2017data\", \"title\": \"The data science design manual\", \"authors\": [\"Steven Skiena\"], \"year\": 2017, \"publisher\": \"Springer\"\n",
      "Splitted lines are \n",
      "['\"id\": \"skiena2017data\"', '\"title\": \"The data science design manual\"', '\"authors\": [\"Steven Skiena\"]', '\"year\": 2017', '\"publisher\": \"Springer\"']\n",
      "Final val after strip is\n",
      "{'id': 'skiena2017data', 'title': 'The data science design manual', 'authors': ['Steven Skiena'], 'year': 2017, 'publisher': 'Springer'}\n"
     ]
    },
    {
     "data": {
      "text/plain": [
       "[{'id': 'skiena2017data',\n",
       "  'title': 'The data science design manual',\n",
       "  'authors': ['Steven Skiena'],\n",
       "  'year': 2017,\n",
       "  'publisher': 'Springer'}]"
      ]
     },
     "execution_count": 43,
     "metadata": {},
     "output_type": "execute_result"
    }
   ],
   "source": [
    "biblio_from_file(\"biblio.txt\")"
   ]
  },
  {
   "cell_type": "code",
   "execution_count": 46,
   "metadata": {},
   "outputs": [
    {
     "name": "stdout",
     "output_type": "stream",
     "text": [
      "Cleaned lines are \n",
      "\"id\": \"skiena2017data\", \"title\": \"The data science design manual\", \"authors\": [\"Steven Skiena\"], \"year\": 2017, \"publisher\": \"Springer\"\n",
      "Splitted lines are \n",
      "['\"id\": \"skiena2017data\"', ' \"title\": \"The data science design manual\"', ' \"authors\": [\"Steven Skiena\"]', ' \"year\": 2017', ' \"publisher\": \"Springer\"']\n"
     ]
    },
    {
     "data": {
      "text/plain": [
       "[{'id': 'skiena2017data',\n",
       "  ' \"title': 'The data science design manual',\n",
       "  ' \"authors': ['Steven Skiena'],\n",
       "  ' \"year': 2017,\n",
       "  ' \"publisher': 'Springer'}]"
      ]
     },
     "execution_count": 46,
     "metadata": {},
     "output_type": "execute_result"
    }
   ],
   "source": [
    "biblio_from_file(\"biblio.txt\")"
   ]
  },
  {
   "cell_type": "code",
   "execution_count": 56,
   "metadata": {},
   "outputs": [],
   "source": [
    "def parse_line_to_dict(line):\n",
    "    \"\"\"\n",
    "    Parses a single line from the file into a dictionary representing a bibliographic record.\n",
    "    \"\"\"\n",
    "    # Step 2: Clean the line by removing unwanted characters\n",
    "    cleaned_line = line.strip(\"{}\\n\")\n",
    "    print(\"Cleaned lines are \")        \n",
    "    print(cleaned_line)     \n",
    "    # Step 3: Split the cleaned line into key-value pair strings\n",
    "    pair_strings = cleaned_line.split(\", \")\n",
    "    print(\"Splitted lines are \")        \n",
    "    print(pair_strings) \n",
    "\n",
    "    # Step 4 and 5: Process each pair string, split them into key and value, and build the dictionary\n",
    "    record_dict = {}\n",
    "    for pair in pair_strings:\n",
    "        key, value = pair.split(\": \", 1)\n",
    "        key = key.strip('\"')\n",
    "        # Attempt to convert the value to its appropriate type (e.g., list, string, int)\n",
    "        try:\n",
    "            value = eval(value)\n",
    "        except:\n",
    "            value = value.strip('\"')\n",
    "        record_dict[key] = value\n",
    "\n",
    "    return record_dict\n",
    "\n",
    "def biblio_from_file(filename):\n",
    "    \"\"\"\n",
    "    Reads the contents of a file and returns a list of records.\n",
    "    Each line in the file represents a bibliographic record.\n",
    "    \"\"\"\n",
    "    records = []\n",
    "    try:\n",
    "        with open(filename, 'r') as file:\n",
    "            # Step 1: Read lines from the file\n",
    "            lines = file.readlines()\n",
    "            \n",
    "            # Process each line to convert it into a bibliographic record dictionary\n",
    "            for line in lines:\n",
    "                record = parse_line_to_dict(line)\n",
    "                records.append(record)\n",
    "      \n",
    "        return records\n",
    "    except FileNotFoundError:\n",
    "        print(f\"File {filename} not found.\")\n",
    "        return []\n",
    "\n",
    "# Note: This implementation assumes that the value part of each key-value pair is well-formed and can be evaluated safely.\n",
    "# In real-world scenarios, further validation and error handling might be required to handle malformed data."
   ]
  },
  {
   "cell_type": "code",
   "execution_count": 48,
   "metadata": {},
   "outputs": [
    {
     "name": "stdout",
     "output_type": "stream",
     "text": [
      "Cleaned lines are \n",
      "\"id\": \"skiena2017data\", \"title\": \"The data science design manual\", \"authors\": [\"Steven Skiena\"], \"year\": 2017, \"publisher\": \"Springer\"\n",
      "Splitted lines are \n",
      "['\"id\": \"skiena2017data\"', ' \"title\": \"The data science design manual\"', ' \"authors\": [\"Steven Skiena\"]', ' \"year\": 2017', ' \"publisher\": \"Springer\"']\n"
     ]
    },
    {
     "data": {
      "text/plain": [
       "[{'id': 'skiena2017data',\n",
       "  ' \"title': 'The data science design manual',\n",
       "  ' \"authors': ['Steven Skiena'],\n",
       "  ' \"year': 2017,\n",
       "  ' \"publisher': 'Springer'}]"
      ]
     },
     "execution_count": 48,
     "metadata": {},
     "output_type": "execute_result"
    }
   ],
   "source": [
    "biblio_from_file(\"biblio.txt\")"
   ]
  },
  {
   "cell_type": "code",
   "execution_count": 50,
   "metadata": {},
   "outputs": [
    {
     "name": "stdout",
     "output_type": "stream",
     "text": [
      "Cleaned lines are \n",
      "\"id\": \"skiena2017data\", \"title\": \"The data science design manual\", \"authors\": [\"Steven Skiena\"], \"year\": 2017, \"publisher\": \"Springer\"\n",
      "Splitted lines are \n",
      "['\"id\": \"skiena2017data\"', '\"title\": \"The data science design manual\"', '\"authors\": [\"Steven Skiena\"]', '\"year\": 2017', '\"publisher\": \"Springer\"']\n"
     ]
    },
    {
     "data": {
      "text/plain": [
       "[{'id': 'skiena2017data',\n",
       "  'title': 'The data science design manual',\n",
       "  'authors': ['Steven Skiena'],\n",
       "  'year': 2017,\n",
       "  'publisher': 'Springer'}]"
      ]
     },
     "execution_count": 50,
     "metadata": {},
     "output_type": "execute_result"
    }
   ],
   "source": [
    "biblio_from_file(\"biblio.txt\")"
   ]
  },
  {
   "cell_type": "code",
   "execution_count": 52,
   "metadata": {},
   "outputs": [
    {
     "name": "stdout",
     "output_type": "stream",
     "text": [
      "Cleaned lines are \n",
      "\"id\": \"skiena2017data\", \"title\": \"The data science design manual\", \"authors\": [\"Steven Skiena\"], \"year\": 2017, \"publisher\": \"Springer\"\n",
      "Splitted lines are \n",
      "['\"id\": \"skiena2017data\"', '\"title\": \"The data science design manual\"', '\"authors\": [\"Steven Skiena\"]', '\"year\": 2017', '\"publisher\": \"Springer\"']\n"
     ]
    },
    {
     "data": {
      "text/plain": [
       "[{'id': 'skiena2017data',\n",
       "  'title': 'The data science design manual',\n",
       "  'authors': ['Steven Skiena'],\n",
       "  'year': 2017,\n",
       "  'publisher': 'Springer'}]"
      ]
     },
     "execution_count": 52,
     "metadata": {},
     "output_type": "execute_result"
    }
   ],
   "source": [
    "biblio_from_file(\"biblio.txt\")"
   ]
  },
  {
   "cell_type": "code",
   "execution_count": 54,
   "metadata": {},
   "outputs": [
    {
     "name": "stdout",
     "output_type": "stream",
     "text": [
      "Cleaned lines are \n",
      "\"id\": \"skiena2017data\", \"title\": \"The data science design manual\", \"authors\": [\"Steven Skiena\"], \"year\": 2017, \"publisher\": \"Springer\"\n",
      "Splitted lines are \n",
      "['\"id\": \"skiena2017data\"', '\"title\": \"The data science design manual\"', '\"authors\": [\"Steven Skiena\"]', '\"year\": 2017', '\"publisher\": \"Springer\"']\n"
     ]
    },
    {
     "ename": "AttributeError",
     "evalue": "'list' object has no attribute 'strip'",
     "output_type": "error",
     "traceback": [
      "\u001b[0;31m---------------------------------------------------------------------------\u001b[0m",
      "\u001b[0;31mAttributeError\u001b[0m                            Traceback (most recent call last)",
      "Input \u001b[0;32mIn [54]\u001b[0m, in \u001b[0;36m<cell line: 1>\u001b[0;34m()\u001b[0m\n\u001b[0;32m----> 1\u001b[0m \u001b[43mbiblio_from_file\u001b[49m\u001b[43m(\u001b[49m\u001b[38;5;124;43m\"\u001b[39;49m\u001b[38;5;124;43mbiblio.txt\u001b[39;49m\u001b[38;5;124;43m\"\u001b[39;49m\u001b[43m)\u001b[49m\n",
      "Input \u001b[0;32mIn [53]\u001b[0m, in \u001b[0;36mbiblio_from_file\u001b[0;34m(filename)\u001b[0m\n\u001b[1;32m     41\u001b[0m     \u001b[38;5;66;03m# Process each line to convert it into a bibliographic record dictionary\u001b[39;00m\n\u001b[1;32m     42\u001b[0m     \u001b[38;5;28;01mfor\u001b[39;00m line \u001b[38;5;129;01min\u001b[39;00m lines:\n\u001b[0;32m---> 43\u001b[0m         record \u001b[38;5;241m=\u001b[39m \u001b[43mparse_line_to_dict\u001b[49m\u001b[43m(\u001b[49m\u001b[43mline\u001b[49m\u001b[43m)\u001b[49m\n\u001b[1;32m     44\u001b[0m         records\u001b[38;5;241m.\u001b[39mappend(record)\n\u001b[1;32m     46\u001b[0m \u001b[38;5;28;01mreturn\u001b[39;00m records\n",
      "Input \u001b[0;32mIn [53]\u001b[0m, in \u001b[0;36mparse_line_to_dict\u001b[0;34m(line)\u001b[0m\n\u001b[1;32m     11\u001b[0m \u001b[38;5;28mprint\u001b[39m(\u001b[38;5;124m\"\u001b[39m\u001b[38;5;124mSplitted lines are \u001b[39m\u001b[38;5;124m\"\u001b[39m)        \n\u001b[1;32m     12\u001b[0m \u001b[38;5;28mprint\u001b[39m(pair_strings) \n\u001b[0;32m---> 13\u001b[0m neu_cleaned_line\u001b[38;5;241m=\u001b[39m\u001b[43mpair_strings\u001b[49m\u001b[38;5;241;43m.\u001b[39;49m\u001b[43mstrip\u001b[49m()\n\u001b[1;32m     14\u001b[0m \u001b[38;5;28mprint\u001b[39m(\u001b[38;5;124m\"\u001b[39m\u001b[38;5;124mNew Cleaned lines are \u001b[39m\u001b[38;5;124m\"\u001b[39m)        \n\u001b[1;32m     15\u001b[0m \u001b[38;5;28mprint\u001b[39m(neu_cleaned_line)     \n",
      "\u001b[0;31mAttributeError\u001b[0m: 'list' object has no attribute 'strip'"
     ]
    }
   ],
   "source": [
    "biblio_from_file(\"biblio.txt\")"
   ]
  },
  {
   "cell_type": "code",
   "execution_count": 55,
   "metadata": {},
   "outputs": [
    {
     "name": "stdout",
     "output_type": "stream",
     "text": [
      "Cleaned lines are \n",
      "\"id\": \"skiena2017data\", \"title\": \"The data science design manual\", \"authors\": [\"Steven Skiena\"], \"year\": 2017, \"publisher\": \"Springer\"\n",
      "Splitted lines are \n",
      "['\"id\": \"skiena2017data\"', '\"title\": \"The data science design manual\"', '\"authors\": [\"Steven Skiena\"]', '\"year\": 2017', '\"publisher\": \"Springer\"']\n"
     ]
    },
    {
     "ename": "AttributeError",
     "evalue": "'list' object has no attribute 'strip'",
     "output_type": "error",
     "traceback": [
      "\u001b[0;31m---------------------------------------------------------------------------\u001b[0m",
      "\u001b[0;31mAttributeError\u001b[0m                            Traceback (most recent call last)",
      "Input \u001b[0;32mIn [55]\u001b[0m, in \u001b[0;36m<cell line: 1>\u001b[0;34m()\u001b[0m\n\u001b[0;32m----> 1\u001b[0m \u001b[43mbiblio_from_file\u001b[49m\u001b[43m(\u001b[49m\u001b[38;5;124;43m\"\u001b[39;49m\u001b[38;5;124;43mbiblio.txt\u001b[39;49m\u001b[38;5;124;43m\"\u001b[39;49m\u001b[43m)\u001b[49m\n",
      "Input \u001b[0;32mIn [53]\u001b[0m, in \u001b[0;36mbiblio_from_file\u001b[0;34m(filename)\u001b[0m\n\u001b[1;32m     41\u001b[0m     \u001b[38;5;66;03m# Process each line to convert it into a bibliographic record dictionary\u001b[39;00m\n\u001b[1;32m     42\u001b[0m     \u001b[38;5;28;01mfor\u001b[39;00m line \u001b[38;5;129;01min\u001b[39;00m lines:\n\u001b[0;32m---> 43\u001b[0m         record \u001b[38;5;241m=\u001b[39m \u001b[43mparse_line_to_dict\u001b[49m\u001b[43m(\u001b[49m\u001b[43mline\u001b[49m\u001b[43m)\u001b[49m\n\u001b[1;32m     44\u001b[0m         records\u001b[38;5;241m.\u001b[39mappend(record)\n\u001b[1;32m     46\u001b[0m \u001b[38;5;28;01mreturn\u001b[39;00m records\n",
      "Input \u001b[0;32mIn [53]\u001b[0m, in \u001b[0;36mparse_line_to_dict\u001b[0;34m(line)\u001b[0m\n\u001b[1;32m     11\u001b[0m \u001b[38;5;28mprint\u001b[39m(\u001b[38;5;124m\"\u001b[39m\u001b[38;5;124mSplitted lines are \u001b[39m\u001b[38;5;124m\"\u001b[39m)        \n\u001b[1;32m     12\u001b[0m \u001b[38;5;28mprint\u001b[39m(pair_strings) \n\u001b[0;32m---> 13\u001b[0m neu_cleaned_line\u001b[38;5;241m=\u001b[39m\u001b[43mpair_strings\u001b[49m\u001b[38;5;241;43m.\u001b[39;49m\u001b[43mstrip\u001b[49m()\n\u001b[1;32m     14\u001b[0m \u001b[38;5;28mprint\u001b[39m(\u001b[38;5;124m\"\u001b[39m\u001b[38;5;124mNew Cleaned lines are \u001b[39m\u001b[38;5;124m\"\u001b[39m)        \n\u001b[1;32m     15\u001b[0m \u001b[38;5;28mprint\u001b[39m(neu_cleaned_line)     \n",
      "\u001b[0;31mAttributeError\u001b[0m: 'list' object has no attribute 'strip'"
     ]
    }
   ],
   "source": [
    "biblio_from_file(\"biblio.txt\")"
   ]
  },
  {
   "cell_type": "code",
   "execution_count": 57,
   "metadata": {},
   "outputs": [
    {
     "name": "stdout",
     "output_type": "stream",
     "text": [
      "Cleaned lines are \n",
      "\"id\": \"skiena2017data\", \"title\": \"The data science design manual\", \"authors\": [\"Steven Skiena\"], \"year\": 2017, \"publisher\": \"Springer\"\n",
      "Splitted lines are \n",
      "['\"id\": \"skiena2017data\"', '\"title\": \"The data science design manual\"', '\"authors\": [\"Steven Skiena\"]', '\"year\": 2017', '\"publisher\": \"Springer\"']\n"
     ]
    },
    {
     "data": {
      "text/plain": [
       "[{'id': 'skiena2017data',\n",
       "  'title': 'The data science design manual',\n",
       "  'authors': ['Steven Skiena'],\n",
       "  'year': 2017,\n",
       "  'publisher': 'Springer'}]"
      ]
     },
     "execution_count": 57,
     "metadata": {},
     "output_type": "execute_result"
    }
   ],
   "source": [
    "biblio_from_file(\"biblio.txt\")"
   ]
  },
  {
   "cell_type": "code",
   "execution_count": 5,
   "metadata": {},
   "outputs": [],
   "source": [
    "def parse_line_to_dict(line):\n",
    "    \"\"\"\n",
    "    Parses a single line from the file into a dictionary representing a bibliographic record.\n",
    "    \"\"\"\n",
    "    # Step 2: Clean the line by removing unwanted characters\n",
    "    cleaned_line = line.strip(\"{}\\n\")\n",
    "    print(\"Cleaned lines are \")        \n",
    "    print(cleaned_line)     \n",
    "    # Step 3: Split the cleaned line into key-value pair strings\n",
    "    pair_strings = cleaned_line.split(\", \")\n",
    "    print(\"Splitted lines are \")        \n",
    "    print(pair_strings) \n",
    "\n",
    "    # Step 4 and 5: Process each pair string, split them into key and value, and build the dictionary\n",
    "    record_dict = {}\n",
    "    for pair in pair_strings:\n",
    "        key, value = pair.split(\": \", 1)\n",
    "        key = key.strip('\"')\n",
    "        # Attempt to convert the value to its appropriate type (e.g., list, string, int)\n",
    "        try:\n",
    "            value = eval(value)\n",
    "        except:\n",
    "            value = value.strip('\"')\n",
    "        record_dict[key] = value\n",
    "\n",
    "    return record_dict\n",
    "\n",
    "def biblio_from_file(filename):\n",
    "    \"\"\"\n",
    "    Reads the contents of a file and returns a list of records.\n",
    "    Each line in the file represents a bibliographic record.\n",
    "    \"\"\"\n",
    "    records = []\n",
    "    try:\n",
    "        with open(filename, 'r') as file:\n",
    "            # Step 1: Read lines from the file\n",
    "            lines = file.readlines()\n",
    "            \n",
    "            # Process each line to convert it into a bibliographic record dictionary\n",
    "            for line in lines:\n",
    "                record = parse_line_to_dict(line)\n",
    "                records.append(record)\n",
    "      \n",
    "        return records\n",
    "    except FileNotFoundError:\n",
    "        print(f\"File {filename} not found.\")\n",
    "        return []\n",
    "\n",
    "# Note: This implementation assumes that the value part of each key-value pair is well-formed and can be evaluated safely.\n",
    "# In real-world scenarios, further validation and error handling might be required to handle malformed data."
   ]
  },
  {
   "cell_type": "code",
   "execution_count": 2,
   "metadata": {},
   "outputs": [
    {
     "name": "stdout",
     "output_type": "stream",
     "text": [
      "Cleaned lines are \n",
      "\"id\": \"skiena2017data\", \"title\": \"The data science design manual\", \"authors\": [\"Steven Skiena\"], \"year\": 2017, \"publisher\": \"Springer\"\n",
      "Splitted lines are \n",
      "['\"id\": \"skiena2017data\"', '\"title\": \"The data science design manual\"', '\"authors\": [\"Steven Skiena\"]', '\"year\": 2017', '\"publisher\": \"Springer\"']\n"
     ]
    },
    {
     "data": {
      "text/plain": [
       "[{'id': 'skiena2017data',\n",
       "  'title': 'The data science design manual',\n",
       "  'authors': ['Steven Skiena'],\n",
       "  'year': 2017,\n",
       "  'publisher': 'Springer'}]"
      ]
     },
     "execution_count": 2,
     "metadata": {},
     "output_type": "execute_result"
    }
   ],
   "source": [
    "biblio_from_file(\"biblio.txt\")"
   ]
  },
  {
   "cell_type": "code",
   "execution_count": 4,
   "metadata": {},
   "outputs": [
    {
     "name": "stdout",
     "output_type": "stream",
     "text": [
      "Cleaned lines are \n",
      "\"id\": \"skiena2017data\", \"title\": \"The data science design manual\", \"authors\": [\"Steven Skiena\"], \"year\": 2017, \"publisher\": \"Springer\"\n",
      "Splitted lines are \n",
      "['\"id\": \"skiena2017data\"', '\"title\": \"The data science design manual\"', '\"authors\": [\"Steven Skiena\"]', '\"year\": 2017', '\"publisher\": \"Springer\"']\n"
     ]
    },
    {
     "data": {
      "text/plain": [
       "[{'id': 'skiena2017data',\n",
       "  'title': 'The data science design manual',\n",
       "  'authors': ['Steven Skiena'],\n",
       "  'year': 2017,\n",
       "  'publisher': 'Springer'}]"
      ]
     },
     "execution_count": 4,
     "metadata": {},
     "output_type": "execute_result"
    }
   ],
   "source": [
    "biblio_from_file(\"biblio.txt\")"
   ]
  },
  {
   "cell_type": "code",
   "execution_count": 6,
   "metadata": {},
   "outputs": [
    {
     "name": "stdout",
     "output_type": "stream",
     "text": [
      "Cleaned lines are \n",
      "\"id\": \"skiena2017data\", \"title\": \"The data science design manual\", \"authors\": [\"Steven Skiena\"], \"year\": 2017, \"publisher\": \"Springer\"\n",
      "Splitted lines are \n",
      "['\"id\": \"skiena2017data\"', '\"title\": \"The data science design manual\"', '\"authors\": [\"Steven Skiena\"]', '\"year\": 2017', '\"publisher\": \"Springer\"']\n"
     ]
    },
    {
     "data": {
      "text/plain": [
       "[{'id': 'skiena2017data',\n",
       "  'title': 'The data science design manual',\n",
       "  'authors': ['Steven Skiena'],\n",
       "  'year': 2017,\n",
       "  'publisher': 'Springer'}]"
      ]
     },
     "execution_count": 6,
     "metadata": {},
     "output_type": "execute_result"
    }
   ],
   "source": [
    "biblio_from_file(\"biblio.txt\")"
   ]
  },
  {
   "cell_type": "code",
   "execution_count": 7,
   "metadata": {},
   "outputs": [
    {
     "name": "stdout",
     "output_type": "stream",
     "text": [
      "Cleaned lines are \n",
      "\"id\": \"skiena2017data\", \"title\": \"The data science design manual\", \"authors\": [\"Steven Skiena\"], \"year\": 2017, \"publisher\": \"Springer\"\n",
      "Splitted lines are \n",
      "['\"id\": \"skiena2017data\"', '\"title\": \"The data science design manual\"', '\"authors\": [\"Steven Skiena\"]', '\"year\": 2017', '\"publisher\": \"Springer\"']\n",
      "skiena2017data\n"
     ]
    }
   ],
   "source": [
    "dict1 = biblio_from_file(\"biblio.txt\")\n",
    "print(dict1[0]['id'])"
   ]
  },
  {
   "cell_type": "code",
   "execution_count": 8,
   "metadata": {},
   "outputs": [],
   "source": [
    "import json\n",
    "\n",
    "def biblio_to_file(biblio, filename):\n",
    "    \"\"\"\n",
    "    Writes the list of bibliographic records (dict objects) to a file.\n",
    "    Each record is converted to a JSON string and written as a separate line.\n",
    "    \n",
    "    :param biblio: List of dictionaries, where each dictionary is a bibliographic record.\n",
    "    :param filename: Name of the file where records will be written.\n",
    "    \"\"\"\n",
    "    with open(filename, 'w') as file:\n",
    "        biblio_records = biblio_from_file(biblio)\n",
    "        for record in biblio_records:\n",
    "            # Convert each record (dict) to a JSON string and write it as a line\n",
    "            print(\"Single record is \")        \n",
    "            print(record)  \n",
    "            json_record = json.dumps(record)\n",
    "            \n",
    "            file.write(json_record + '\\n')"
   ]
  },
  {
   "cell_type": "code",
   "execution_count": 9,
   "metadata": {},
   "outputs": [
    {
     "name": "stdout",
     "output_type": "stream",
     "text": [
      "Cleaned lines are \n",
      "\"id\": \"skiena2017data\", \"title\": \"The data science design manual\", \"authors\": [\"Steven Skiena\"], \"year\": 2017, \"publisher\": \"Springer\"\n",
      "Splitted lines are \n",
      "['\"id\": \"skiena2017data\"', '\"title\": \"The data science design manual\"', '\"authors\": [\"Steven Skiena\"]', '\"year\": 2017', '\"publisher\": \"Springer\"']\n",
      "Single record is \n",
      "{'id': 'skiena2017data', 'title': 'The data science design manual', 'authors': ['Steven Skiena'], 'year': 2017, 'publisher': 'Springer'}\n"
     ]
    }
   ],
   "source": [
    "biblio_to_file(\"biblio.txt\",\"newfile.txt\")"
   ]
  },
  {
   "cell_type": "code",
   "execution_count": 11,
   "metadata": {},
   "outputs": [],
   "source": [
    "# YOUR CODE HERE\n",
    "\n",
    "# Here we check if the new record already exists with the same id\n",
    "def record_exists(biblio, new_record):\n",
    "    return any(record['id'] == new_record['id'] for record in biblio)\n",
    "\n",
    "def biblio_add_record(biblio, new_record):\n",
    "    if not record_exists(biblio, new_record):\n",
    "        biblio.append(new_record)"
   ]
  },
  {
   "cell_type": "code",
   "execution_count": 35,
   "metadata": {},
   "outputs": [
    {
     "name": "stdout",
     "output_type": "stream",
     "text": [
      "Cleaned lines are \n",
      "\"id\": \"skiena2017data\", \"title\": \"The data science design manual\", \"authors\": [\"Steven Skiena\"], \"year\": 2017, \"publisher\": \"Springer\"\n",
      "Splitted lines are \n",
      "['\"id\": \"skiena2017data\"', '\"title\": \"The data science design manual\"', '\"authors\": [\"Steven Skiena\"]', '\"year\": 2017', '\"publisher\": \"Springer\"']\n",
      "Cleaned lines are \n",
      "\"id\": \"newUniqueID224\", \"title\": \"New Book Title\", \"authors\": [\"Author Name\"], \"year\": 2024, \"publisher\": \"Publisher Name\"\n",
      "Splitted lines are \n",
      "['\"id\": \"newUniqueID224\"', '\"title\": \"New Book Title\"', '\"authors\": [\"Author Name\"]', '\"year\": 2024', '\"publisher\": \"Publisher Name\"']\n",
      "Cleaned lines are \n",
      "\"id\": \"newUniqueID2242\", \"title\": \"New Book Title\", \"authors\": [\"Author Name\"], \"year\": 2024, \"publisher\": \"Publisher Name\"\n",
      "Splitted lines are \n",
      "['\"id\": \"newUniqueID2242\"', '\"title\": \"New Book Title\"', '\"authors\": [\"Author Name\"]', '\"year\": 2024', '\"publisher\": \"Publisher Name\"']\n",
      "Biblio records are\n",
      "[{'id': 'skiena2017data', 'title': 'The data science design manual', 'authors': ['Steven Skiena'], 'year': 2017, 'publisher': 'Springer'}, {'id': 'newUniqueID224', 'title': 'New Book Title', 'authors': ['Author Name'], 'year': 2024, 'publisher': 'Publisher Name'}, {'id': 'newUniqueID2242', 'title': 'New Book Title', 'authors': ['Author Name'], 'year': 2024, 'publisher': 'Publisher Name'}]\n",
      "nopt present here\n",
      "[{'id': 'skiena2017data', 'title': 'The data science design manual', 'authors': ['Steven Skiena'], 'year': 2017, 'publisher': 'Springer'}, {'id': 'newUniqueID224', 'title': 'New Book Title', 'authors': ['Author Name'], 'year': 2024, 'publisher': 'Publisher Name'}, {'id': 'newUniqueID2242', 'title': 'New Book Title', 'authors': ['Author Name'], 'year': 2024, 'publisher': 'Publisher Name'}]\n",
      "[{'id': 'skiena2017data', 'title': 'The data science design manual', 'authors': ['Steven Skiena'], 'year': 2017, 'publisher': 'Springer'}, {'id': 'newUniqueID224', 'title': 'New Book Title', 'authors': ['Author Name'], 'year': 2024, 'publisher': 'Publisher Name'}, {'id': 'newUniqueID2242', 'title': 'New Book Title', 'authors': ['Author Name'], 'year': 2024, 'publisher': 'Publisher Name'}, {'id': 'newUniqueID22421', 'title': 'New Book Title', 'authors': ['Author Name'], 'year': 2024, 'publisher': 'Publisher Name'}]\n",
      "Record added successfully.\n"
     ]
    }
   ],
   "source": [
    "# YOUR CODE HERE\n",
    "\n",
    "# Here we check if the new record already exists with the same id\n",
    "def record_exists(biblio, new_record):\n",
    "    return any(record['id'] == new_record['id'] for record in biblio)\n",
    "\n",
    "def biblio_add_record(biblio, new_record):\n",
    "    if not record_exists(biblio, new_record):\n",
    "        print(\"nopt present here\")     \n",
    "        print(biblio)     \n",
    "        biblio.append(new_record)\n",
    "        print(biblio)     \n",
    "        return True\n",
    "    else:\n",
    "        return False\n",
    "\n",
    "import json\n",
    "\n",
    "def write_to_file(data_dict, filename):\n",
    "    \"\"\"\n",
    "    Writes a dictionary to a file, replacing its contents, by serializing the dictionary to JSON.\n",
    "    \n",
    "    :param data_dict: The dictionary to write to the file.\n",
    "    :param filename: The name of the file where the dictionary will be written.\n",
    "    \"\"\"\n",
    "    with open(filename, 'w') as file:\n",
    "        # Convert the dictionary to a JSON string and write it to the file\n",
    "        for record in data_dict:\n",
    "            json_record = json.dumps(record)\n",
    "            file.write(json_record + '\\n')\n",
    "            \n",
    "        \n",
    "        \n",
    "biblio_records = biblio_from_file('biblio.txt')\n",
    "print(\"Biblio records are\")\n",
    "print(biblio_records)\n",
    "# Step 2: Define the new record you want to add\n",
    "new_record = {\n",
    "    \"id\": \"newUniqueID22421\",\n",
    "    \"title\": \"New Book Title\",\n",
    "    \"authors\": [\"Author Name\"],\n",
    "    \"year\": 2024,\n",
    "    \"publisher\": \"Publisher Name\"\n",
    "}\n",
    "\n",
    "record_added = biblio_add_record(biblio_records, new_record)\n",
    "# If the record was added successfully, update the file\n",
    "if record_added:\n",
    "    # Step 3: Write the updated list back to 'biblio.txt'\n",
    "    write_to_file(biblio_records, 'biblio.txt')\n",
    "    print(\"Record added successfully.\")\n",
    "else:\n",
    "    print(\"Record already exists and was not added.\")\n"
   ]
  },
  {
   "cell_type": "code",
   "execution_count": 38,
   "metadata": {},
   "outputs": [
    {
     "name": "stdout",
     "output_type": "stream",
     "text": [
      "Cleaned lines are \n",
      "\"id\": \"skiena2017data\", \"title\": \"The data science design manual\", \"authors\": [\"Steven Skiena\"], \"year\": 2017, \"publisher\": \"Springer\"\n",
      "Splitted lines are \n",
      "['\"id\": \"skiena2017data\"', '\"title\": \"The data science design manual\"', '\"authors\": [\"Steven Skiena\"]', '\"year\": 2017', '\"publisher\": \"Springer\"']\n",
      "Cleaned lines are \n",
      "\"id\": \"newUniqueID224\", \"title\": \"New Book Title\", \"authors\": [\"Author Name\"], \"year\": 2024, \"publisher\": \"Publisher Name\"\n",
      "Splitted lines are \n",
      "['\"id\": \"newUniqueID224\"', '\"title\": \"New Book Title\"', '\"authors\": [\"Author Name\"]', '\"year\": 2024', '\"publisher\": \"Publisher Name\"']\n",
      "Cleaned lines are \n",
      "\"id\": \"newUniqueID2242\", \"title\": \"New Book Title\", \"authors\": [\"Author Name\"], \"year\": 2024, \"publisher\": \"Publisher Name\"\n",
      "Splitted lines are \n",
      "['\"id\": \"newUniqueID2242\"', '\"title\": \"New Book Title\"', '\"authors\": [\"Author Name\"]', '\"year\": 2024', '\"publisher\": \"Publisher Name\"']\n",
      "Cleaned lines are \n",
      "\"id\": \"newUniqueID22421\", \"title\": \"New Book Title\", \"authors\": [\"Author Name\"], \"year\": 2024, \"publisher\": \"Publisher Name\"\n",
      "Splitted lines are \n",
      "['\"id\": \"newUniqueID22421\"', '\"title\": \"New Book Title\"', '\"authors\": [\"Author Name\"]', '\"year\": 2024', '\"publisher\": \"Publisher Name\"']\n",
      "[{'id': 'skiena2017data', 'title': 'The data science design manual', 'authors': ['Steven Skiena'], 'year': 2017, 'publisher': 'Springer'}]\n"
     ]
    }
   ],
   "source": [
    "def biblio_query_record_by_author(biblio, author_name):\n",
    "    \"\"\"\n",
    "    Filters the bibliographic database for records matching a given author.\n",
    "    \n",
    "    :param biblio: List of dictionaries, each representing a bibliographic record.\n",
    "    :param author_name: String representing the name of the author to filter by.\n",
    "    :return: A list of dictionaries, each representing a bibliographic record where the author is listed.\n",
    "    \"\"\"\n",
    "    matching_records = []  # Initialize an empty list to hold matching records\n",
    "    \n",
    "    # Iterate through each record in the bibliographic database\n",
    "    for record in biblio:\n",
    "        # Check if the given author is in the record's list of authors\n",
    "        if author_name in record[\"authors\"]:\n",
    "            # If the author matches, append the record to the list of matching records\n",
    "            matching_records.append(record)\n",
    "            \n",
    "    return matching_records\n",
    "\n",
    "biblio_records = biblio_from_file('biblio.txt')\n",
    "# Query for records by \"Author B\"\n",
    "matching_records = biblio_query_record_by_author(biblio_records, \"Steven Skiena\")\n",
    "\n",
    "# This will print the records for \"Book One\" and \"Book Three\" as they both list \"Author B\" as one of the authors\n",
    "print(matching_records)\n",
    "\n"
   ]
  },
  {
   "cell_type": "code",
   "execution_count": 42,
   "metadata": {},
   "outputs": [
    {
     "name": "stdout",
     "output_type": "stream",
     "text": [
      "Cleaned lines are \n",
      "\"id\": \"skiena2017data\", \"title\": \"The data science design manual\", \"authors\": [\"Steven Skiena\"], \"year\": 2017, \"publisher\": \"Springer\"\n",
      "Splitted lines are \n",
      "['\"id\": \"skiena2017data\"', '\"title\": \"The data science design manual\"', '\"authors\": [\"Steven Skiena\"]', '\"year\": 2017', '\"publisher\": \"Springer\"']\n",
      "Cleaned lines are \n",
      "\"id\": \"newUniqueID224\", \"title\": \"New Book Title\", \"authors\": [\"Author Name\"], \"year\": 2024, \"publisher\": \"Publisher Name\"\n",
      "Splitted lines are \n",
      "['\"id\": \"newUniqueID224\"', '\"title\": \"New Book Title\"', '\"authors\": [\"Author Name\"]', '\"year\": 2024', '\"publisher\": \"Publisher Name\"']\n",
      "Cleaned lines are \n",
      "\"id\": \"newUniqueID2242\", \"title\": \"New Book Title\", \"authors\": [\"Author Name\"], \"year\": 2024, \"publisher\": \"Publisher Name\"\n",
      "Splitted lines are \n",
      "['\"id\": \"newUniqueID2242\"', '\"title\": \"New Book Title\"', '\"authors\": [\"Author Name\"]', '\"year\": 2024', '\"publisher\": \"Publisher Name\"']\n",
      "Cleaned lines are \n",
      "\"id\": \"newUniqueID22421\", \"title\": \"New Book Title\", \"authors\": [\"Author Name\"], \"year\": 2024, \"publisher\": \"Publisher Name\"\n",
      "Splitted lines are \n",
      "['\"id\": \"newUniqueID22421\"', '\"title\": \"New Book Title\"', '\"authors\": [\"Author Name\"]', '\"year\": 2024', '\"publisher\": \"Publisher Name\"']\n",
      "Matching records by year 2021: [{'id': 'newUniqueID224', 'title': 'New Book Title', 'authors': ['Author Name'], 'year': 2024, 'publisher': 'Publisher Name'}, {'id': 'newUniqueID2242', 'title': 'New Book Title', 'authors': ['Author Name'], 'year': 2024, 'publisher': 'Publisher Name'}, {'id': 'newUniqueID22421', 'title': 'New Book Title', 'authors': ['Author Name'], 'year': 2024, 'publisher': 'Publisher Name'}]\n",
      "Matching records by publisher 'Springer': [{'id': 'skiena2017data', 'title': 'The data science design manual', 'authors': ['Steven Skiena'], 'year': 2017, 'publisher': 'Springer'}]\n"
     ]
    }
   ],
   "source": [
    "def biblio_query_record_by_key(biblio, key, value):\n",
    "    \"\"\"\n",
    "    Filters the bibliographic database for records matching a given key-value pair.\n",
    "    \n",
    "    :param biblio: List of dictionaries, each representing a bibliographic record.\n",
    "    :param key: The key to filter by (e.g., \"authors\", \"year\", \"publisher\").\n",
    "    :param value: The value of the key to match for filtering.\n",
    "    :return: A list of dictionaries, each representing a bibliographic record that matches the given key-value pair.\n",
    "    \"\"\"\n",
    "    matching_records = []  # Initialize an empty list to hold matching records\n",
    "    \n",
    "    # Iterate through each record in the bibliographic database\n",
    "    for record in biblio:\n",
    "        # Check if the key exists in the record and if its value matches the given value\n",
    "        if key in record and record[key]== value:\n",
    "            # If the key-value pair matches, append the record to the list of matching records\n",
    "            matching_records.append(record)\n",
    "            \n",
    "    return matching_records\n",
    "\n",
    "biblio_records = biblio_from_file('biblio.txt')\n",
    "# Query for records by year 2021\n",
    "matching_records_by_year = biblio_query_record_by_key(biblio_records, \"year\", 2024)\n",
    "print(\"Matching records by year 2024:\", matching_records_by_year)\n",
    "\n",
    "# Query for records by publisher \"Publisher X\"\n",
    "matching_records_by_publisher = biblio_query_record_by_key(biblio_records, \"publisher\", \"Springer\")\n",
    "print(\"Matching records by publisher 'Springer':\", matching_records_by_publisher)"
   ]
  },
  {
   "cell_type": "code",
   "execution_count": 45,
   "metadata": {},
   "outputs": [
    {
     "name": "stdout",
     "output_type": "stream",
     "text": [
      "Cleaned lines are \n",
      "\"id\": \"skiena2017data\", \"title\": \"The data science design manual\", \"authors\": [\"Steven Skiena\"], \"year\": 2017, \"publisher\": \"Springer\"\n",
      "Splitted lines are \n",
      "['\"id\": \"skiena2017data\"', '\"title\": \"The data science design manual\"', '\"authors\": [\"Steven Skiena\"]', '\"year\": 2017', '\"publisher\": \"Springer\"']\n",
      "Cleaned lines are \n",
      "\"id\": \"newUniqueID224\", \"title\": \"New Book Title\", \"authors\": [\"Author Name\"], \"year\": 2024, \"publisher\": \"Publisher Name\"\n",
      "Splitted lines are \n",
      "['\"id\": \"newUniqueID224\"', '\"title\": \"New Book Title\"', '\"authors\": [\"Author Name\"]', '\"year\": 2024', '\"publisher\": \"Publisher Name\"']\n",
      "Cleaned lines are \n",
      "\"id\": \"newUniqueID2242\", \"title\": \"New Book Title\", \"authors\": [\"Author Name\"], \"year\": 2024, \"publisher\": \"Publisher Name\"\n",
      "Splitted lines are \n",
      "['\"id\": \"newUniqueID2242\"', '\"title\": \"New Book Title\"', '\"authors\": [\"Author Name\"]', '\"year\": 2024', '\"publisher\": \"Publisher Name\"']\n",
      "Cleaned lines are \n",
      "\"id\": \"newUniqueID22421\", \"title\": \"New Book Title\", \"authors\": [\"Author Name\"], \"year\": 2024, \"publisher\": \"Publisher Name\"\n",
      "Splitted lines are \n",
      "['\"id\": \"newUniqueID22421\"', '\"title\": \"New Book Title\"', '\"authors\": [\"Author Name\"]', '\"year\": 2024', '\"publisher\": \"Publisher Name\"']\n",
      "Record removed successfully.\n"
     ]
    }
   ],
   "source": [
    "def biblio_remove_record(biblio, record_to_remove):\n",
    "    \"\"\"\n",
    "    Removes a record from the bibliographic database if it is present.\n",
    "    \n",
    "    :param biblio: List of dictionaries, each representing a bibliographic record.\n",
    "    :param record_to_remove: Dictionary representing the record to be removed.\n",
    "    :return: Boolean indicating whether the removal was successful.\n",
    "    \"\"\"\n",
    "    try:\n",
    "        # Attempt to remove the record\n",
    "        biblio.remove(record_to_remove)\n",
    "        return True  # Removal was successful\n",
    "    except ValueError:\n",
    "        # Record was not found in the list\n",
    "        return False  # Removal was not successful\n",
    "    \n",
    "\n",
    "biblio_records = biblio_from_file('biblio.txt')\n",
    "# Define the record to remove\n",
    "record_to_remove = {\"id\": \"skiena2017data\", \"title\": \"The data science design manual\", \"authors\": [\"Steven Skiena\"], \"year\": 2017, \"publisher\": \"Springer\"}\n",
    "# Attempt to remove the record\n",
    "removed = biblio_remove_record(biblio_records, record_to_remove)\n",
    "\n",
    "if removed:\n",
    "    print(\"Record removed successfully.\")\n",
    "else:\n",
    "    print(\"Record not found. Removal unsucccesful\")\n",
    "\n"
   ]
  },
  {
   "cell_type": "code",
   "execution_count": null,
   "metadata": {},
   "outputs": [],
   "source": []
  }
 ],
 "metadata": {
  "kernelspec": {
   "display_name": "Python 3 (ipykernel)",
   "language": "python",
   "name": "python3"
  },
  "language_info": {
   "codemirror_mode": {
    "name": "ipython",
    "version": 3
   },
   "file_extension": ".py",
   "mimetype": "text/x-python",
   "name": "python",
   "nbconvert_exporter": "python",
   "pygments_lexer": "ipython3",
   "version": "3.9.12"
  }
 },
 "nbformat": 4,
 "nbformat_minor": 4
}
