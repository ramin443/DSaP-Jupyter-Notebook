{
 "cells": [
  {
   "cell_type": "markdown",
   "metadata": {},
   "source": [
    "# Exploratory Data Analysis\n",
    "\n",
    "In this assignment we will work with data about the Titanic's passengers.\n",
    "\n",
    "Objectives:\n",
    "* to familiarize you with the seaborn library\n",
    "* learn how to build different visualizations\n",
    "* fill the gaps in the data\n",
    "* encode categorical data"
   ]
  },
  {
   "cell_type": "code",
   "execution_count": 77,
   "metadata": {},
   "outputs": [
    {
     "name": "stdout",
     "output_type": "stream",
     "text": [
      "%pylab is deprecated, use %matplotlib inline and import the required libraries.\n",
      "Populating the interactive namespace from numpy and matplotlib\n"
     ]
    }
   ],
   "source": [
    "import pandas as pd\n",
    "import numpy as np\n",
    "from matplotlib import pyplot as plt\n",
    "import seaborn as sns\n",
    "%pylab inline"
   ]
  },
  {
   "cell_type": "markdown",
   "metadata": {},
   "source": [
    "Let's load the data."
   ]
  },
  {
   "cell_type": "code",
   "execution_count": 78,
   "metadata": {},
   "outputs": [],
   "source": [
    "df = pd.read_csv(\"titanic.csv\")"
   ]
  },
  {
   "cell_type": "markdown",
   "metadata": {},
   "source": [
    "### Task 1\n",
    "Display the first 7 rows of the table and the table dimensions."
   ]
  },
  {
   "cell_type": "code",
   "execution_count": 79,
   "metadata": {},
   "outputs": [
    {
     "name": "stdout",
     "output_type": "stream",
     "text": [
      "First 7 rows of the table:\n",
      "   PassengerId  Survived  Pclass  \\\n",
      "0          1.0       0.0     3.0   \n",
      "1          2.0       1.0     1.0   \n",
      "2          3.0       1.0     3.0   \n",
      "3          4.0       1.0     1.0   \n",
      "4          5.0       0.0     3.0   \n",
      "5          NaN       NaN     NaN   \n",
      "6          7.0       0.0     1.0   \n",
      "\n",
      "                                                Name     Sex   Age  SibSp  \\\n",
      "0                            Braund; Mr. Owen Harris    male  22.0    1.0   \n",
      "1  Cumings; Mrs. John Bradley (Florence Briggs Th...  female  38.0    1.0   \n",
      "2                             Heikkinen; Miss. Laina  female  26.0    0.0   \n",
      "3       Futrelle; Mrs. Jacques Heath (Lily May Peel)  female  35.0    1.0   \n",
      "4                           Allen; Mr. William Henry    male  35.0    0.0   \n",
      "5                                                NaN     NaN   NaN    NaN   \n",
      "6                            McCarthy; Mr. Timothy J    male  54.0    0.0   \n",
      "\n",
      "   Parch            Ticket     Fare Cabin Embarked  \n",
      "0    0.0         A/5 21171   7.2500   NaN        S  \n",
      "1    0.0          PC 17599  71.2833   C85        C  \n",
      "2    0.0  STON/O2. 3101282   7.9250   NaN        S  \n",
      "3    0.0            113803  53.1000  C123        S  \n",
      "4    0.0            373450   8.0500   NaN        S  \n",
      "5    NaN               NaN      NaN   NaN      NaN  \n",
      "6    0.0             17463  51.8625   E46        S  \n",
      "\n",
      "Dimensions of the table:\n",
      "Number of rows: 891\n",
      "Number of columns: 12\n"
     ]
    }
   ],
   "source": [
    "# your code here\n",
    "print(\"First 7 rows of the table:\")\n",
    "print(df.head(7))\n",
    "\n",
    "# displaying the dimensions of the table here\n",
    "print(\"\\nDimensions of the table:\")\n",
    "print(\"Number of rows:\", df.shape[0])\n",
    "print(\"Number of columns:\", df.shape[1])"
   ]
  },
  {
   "cell_type": "markdown",
   "metadata": {},
   "source": [
    "# Feature Processing\n",
    "\n",
    "1) Find columns that have missing values and process these missing values\n",
    "\n",
    "2) Translate categorical features into numerical"
   ]
  },
  {
   "cell_type": "markdown",
   "metadata": {},
   "source": [
    "### Task 2 \n",
    "Output the basic numerical characteristics of the numerical columns. The method `.describe()` can be very usefull here."
   ]
  },
  {
   "cell_type": "code",
   "execution_count": 80,
   "metadata": {},
   "outputs": [
    {
     "name": "stdout",
     "output_type": "stream",
     "text": [
      "Basic numerical characteristics:\n",
      "       PassengerId    Survived      Pclass         Age       SibSp  \\\n",
      "count   886.000000  886.000000  886.000000  711.000000  886.000000   \n",
      "mean    448.316027    0.383747    2.305869   29.743094    0.523702   \n",
      "std     256.211467    0.486572    0.837071   14.505873    1.105202   \n",
      "min       1.000000    0.000000    1.000000    0.420000    0.000000   \n",
      "25%     227.250000    0.000000    2.000000   20.750000    0.000000   \n",
      "50%     448.500000    0.000000    3.000000   28.000000    0.000000   \n",
      "75%     669.750000    1.000000    3.000000   38.000000    1.000000   \n",
      "max     891.000000    1.000000    3.000000   80.000000    8.000000   \n",
      "\n",
      "            Parch        Fare  \n",
      "count  886.000000  886.000000  \n",
      "mean     0.375847   32.279387  \n",
      "std      0.791082   49.817969  \n",
      "min      0.000000    0.000000  \n",
      "25%      0.000000    7.903100  \n",
      "50%      0.000000   14.454200  \n",
      "75%      0.000000   31.000000  \n",
      "max      6.000000  512.329200  \n"
     ]
    }
   ],
   "source": [
    "# your code here\n",
    "print(\"Basic numerical characteristics:\")\n",
    "print(df.describe())"
   ]
  },
  {
   "cell_type": "markdown",
   "metadata": {},
   "source": [
    "The function does not allow you to see if there are missing values in non-numeric columns.\n",
    "\n",
    "## Process the 'Sex' column\n",
    "\n",
    "### Task 3\n",
    "Check if there are missing values in the column."
   ]
  },
  {
   "cell_type": "code",
   "execution_count": 81,
   "metadata": {},
   "outputs": [
    {
     "name": "stdout",
     "output_type": "stream",
     "text": [
      "Number of missing values in the 'Sex' column are: 5\n"
     ]
    }
   ],
   "source": [
    "# your code here\n",
    "# Checking if there are any missing values in 'Sex' column\n",
    "missing_values_sex = df['Sex'].isnull().any()\n",
    "\n",
    "if missing_values_sex:\n",
    "    print(\"Number of missing values in the 'Sex' column are:\", df['Sex'].isnull().sum())\n",
    "else:\n",
    "    print(\"There are no missing values in the 'Sex' column.\")"
   ]
  },
  {
   "cell_type": "markdown",
   "metadata": {},
   "source": [
    "### Task 4\n",
    "You should get 5 in the previous taks. It is a very small amount. Therefore, we can remove them completely from the dataset. Do it."
   ]
  },
  {
   "cell_type": "code",
   "execution_count": 82,
   "metadata": {},
   "outputs": [
    {
     "name": "stdout",
     "output_type": "stream",
     "text": [
      "Number of missing values in the 'Sex' column after removal: 0\n"
     ]
    }
   ],
   "source": [
    "# your code here\n",
    "\n",
    "# removing rows with missing values in the 'Sex' column\n",
    "df.dropna(subset=['Sex'], inplace=True)\n",
    "\n",
    "print(\"Number of missing values in the 'Sex' column after removal:\", df['Sex'].isnull().sum())"
   ]
  },
  {
   "cell_type": "markdown",
   "metadata": {},
   "source": [
    "The `Sex` feature is categorical, i.e. it contains non-numeric values. For most algorithms to work, it is necessary to map categories into numbers. How can this be done? \n",
    "\n",
    "### Task 5 \n",
    "Encode the categorical features with any method. For example, you can values to 0 and 1, since this feature is binary (the function `.replace` does it)."
   ]
  },
  {
   "cell_type": "code",
   "execution_count": 83,
   "metadata": {},
   "outputs": [
    {
     "name": "stdout",
     "output_type": "stream",
     "text": [
      "   PassengerId  Survived  Pclass  \\\n",
      "0          1.0       0.0     3.0   \n",
      "1          2.0       1.0     1.0   \n",
      "2          3.0       1.0     3.0   \n",
      "3          4.0       1.0     1.0   \n",
      "4          5.0       0.0     3.0   \n",
      "\n",
      "                                                Name  Sex   Age  SibSp  Parch  \\\n",
      "0                            Braund; Mr. Owen Harris    0  22.0    1.0    0.0   \n",
      "1  Cumings; Mrs. John Bradley (Florence Briggs Th...    1  38.0    1.0    0.0   \n",
      "2                             Heikkinen; Miss. Laina    1  26.0    0.0    0.0   \n",
      "3       Futrelle; Mrs. Jacques Heath (Lily May Peel)    1  35.0    1.0    0.0   \n",
      "4                           Allen; Mr. William Henry    0  35.0    0.0    0.0   \n",
      "\n",
      "             Ticket     Fare Cabin Embarked  \n",
      "0         A/5 21171   7.2500   NaN        S  \n",
      "1          PC 17599  71.2833   C85        C  \n",
      "2  STON/O2. 3101282   7.9250   NaN        S  \n",
      "3            113803  53.1000  C123        S  \n",
      "4            373450   8.0500   NaN        S  \n"
     ]
    },
    {
     "name": "stderr",
     "output_type": "stream",
     "text": [
      "/var/folders/cc/m3r6wr4s5450328h6_0_bqdw0000gn/T/ipykernel_2512/3891558261.py:4: FutureWarning: Downcasting behavior in `replace` is deprecated and will be removed in a future version. To retain the old behavior, explicitly call `result.infer_objects(copy=False)`. To opt-in to the future behavior, set `pd.set_option('future.no_silent_downcasting', True)`\n",
      "  df['Sex'] = df['Sex'].replace({'male': 0, 'female': 1})\n"
     ]
    }
   ],
   "source": [
    "# your code here\n",
    "\n",
    "# encoding the 'Sex' column with numerical values\n",
    "df['Sex'] = df['Sex'].replace({'male': 0, 'female': 1})\n",
    "\n",
    "print(df.head())\n"
   ]
  },
  {
   "cell_type": "markdown",
   "metadata": {},
   "source": [
    "Let's see how gender affects survival rates."
   ]
  },
  {
   "cell_type": "code",
   "execution_count": 84,
   "metadata": {},
   "outputs": [
    {
     "name": "stderr",
     "output_type": "stream",
     "text": [
      "/var/folders/cc/m3r6wr4s5450328h6_0_bqdw0000gn/T/ipykernel_2512/1855343822.py:1: FutureWarning: \n",
      "\n",
      "Passing `palette` without assigning `hue` is deprecated and will be removed in v0.14.0. Assign the `x` variable to `hue` and set `legend=False` for the same effect.\n",
      "\n",
      "  sns.barplot(x='Sex', y='Survived', data=df, palette='summer')\n"
     ]
    },
    {
     "data": {
      "image/png": "[encoded data removed]",
      "text/plain": [
       "<Figure size 640x480 with 1 Axes>"
      ]
     },
     "metadata": {},
     "output_type": "display_data"
    }
   ],
   "source": [
    "sns.barplot(x='Sex', y='Survived', data=df, palette='summer')\n",
    "plt.title('Sex - Survived')\n",
    "plt.show()"
   ]
  },
  {
   "cell_type": "markdown",
   "metadata": {},
   "source": [
    "Let's see how a person's gender and ticket class (Pclass) affect survival rates"
   ]
  },
  {
   "cell_type": "code",
   "execution_count": 85,
   "metadata": {},
   "outputs": [
    {
     "data": {
      "image/png": "[encoded data removed]",
      "text/plain": [
       "<Figure size 640x480 with 1 Axes>"
      ]
     },
     "metadata": {},
     "output_type": "display_data"
    }
   ],
   "source": [
    "sns.barplot(x='Sex', y='Survived', hue='Pclass', data=df, palette='autumn')\n",
    "plt.title('Sex - Survived')\n",
    "plt.show()"
   ]
  },
  {
   "cell_type": "markdown",
   "metadata": {},
   "source": [
    "Another useful type of visualization is the box plot box. Let's look at a box plot that reflects the distribution of passengers by gender and age."
   ]
  },
  {
   "cell_type": "code",
   "execution_count": 86,
   "metadata": {},
   "outputs": [
    {
     "data": {
      "image/png": "[encoded data removed]",
      "text/plain": [
       "<Figure size 511.111x500 with 1 Axes>"
      ]
     },
     "metadata": {},
     "output_type": "display_data"
    }
   ],
   "source": [
    "sns.catplot(x=\"Sex\", y=\"Age\", data=df, kind=\"box\")\n",
    "plt.show()"
   ]
  },
  {
   "cell_type": "markdown",
   "metadata": {},
   "source": [
    "We can detail the picture by adding Pclass separation."
   ]
  },
  {
   "cell_type": "code",
   "execution_count": 87,
   "metadata": {},
   "outputs": [
    {
     "data": {
      "image/png": "[encoded data removed]",
      "text/plain": [
       "<Figure size 572x500 with 1 Axes>"
      ]
     },
     "metadata": {},
     "output_type": "display_data"
    }
   ],
   "source": [
    "sns.catplot(x=\"Sex\", y=\"Age\",hue =\"Pclass\", data=df, kind=\"box\")\n",
    "plt.show()"
   ]
  },
  {
   "cell_type": "markdown",
   "metadata": {},
   "source": [
    "## Process the 'Embarked' feature"
   ]
  },
  {
   "cell_type": "code",
   "execution_count": 88,
   "metadata": {},
   "outputs": [
    {
     "name": "stdout",
     "output_type": "stream",
     "text": [
      "Embarked\n",
      "S      641\n",
      "C      168\n",
      "Q       75\n",
      "NaN      2\n",
      "Name: count, dtype: int64\n"
     ]
    },
    {
     "data": {
      "text/plain": [
       "(886, 12)"
      ]
     },
     "execution_count": 88,
     "metadata": {},
     "output_type": "execute_result"
    }
   ],
   "source": [
    "print(df['Embarked'].value_counts(dropna=False))\n",
    "df.shape"
   ]
  },
  {
   "cell_type": "markdown",
   "metadata": {},
   "source": [
    "### Task 6\n",
    "Remove passengers from the table for whom the port of embarkation (Embarked) is unknown."
   ]
  },
  {
   "cell_type": "code",
   "execution_count": 89,
   "metadata": {},
   "outputs": [
    {
     "name": "stdout",
     "output_type": "stream",
     "text": [
      "Embarked\n",
      "S    641\n",
      "C    168\n",
      "Q     75\n",
      "Name: count, dtype: int64\n",
      "Updated shape of the DataFrame: (884, 12)\n"
     ]
    }
   ],
   "source": [
    "# your code here\n",
    "# removing rows where embarkation is unknown\n",
    "df.dropna(subset=['Embarked'], inplace=True)\n",
    "\n",
    "print(df['Embarked'].value_counts(dropna=False))\n",
    "print(\"Updated shape of the DataFrame:\", df.shape)"
   ]
  },
  {
   "cell_type": "markdown",
   "metadata": {},
   "source": [
    "Let's convert the categorical column to numeric columns using One-Hot Encoding, namely, create three numeric columns as follows:"
   ]
  },
  {
   "cell_type": "code",
   "execution_count": null,
   "metadata": {},
   "outputs": [],
   "source": [
    "# df['EmbS'] = df.apply(lambda row: 1 if row.Embarked == 'S' else 0, axis=1)\n",
    "# df['EmbC'] = df.apply(lambda row: 1 if row.Embarked == 'C' else 0, axis=1)\n",
    "# df['EmbQ'] = df.apply(lambda row: 1 if row.Embarked == 'Q' else 0, axis=1)"
   ]
  },
  {
   "cell_type": "markdown",
   "metadata": {},
   "source": [
    "This operation can be done using the `get_dummies` method."
   ]
  },
  {
   "cell_type": "code",
   "execution_count": 90,
   "metadata": {},
   "outputs": [
    {
     "data": {
      "text/html": [
       "<div>\n",
       "<style scoped>\n",
       "    .dataframe tbody tr th:only-of-type {\n",
       "        vertical-align: middle;\n",
       "    }\n",
       "\n",
       "    .dataframe tbody tr th {\n",
       "        vertical-align: top;\n",
       "    }\n",
       "\n",
       "    .dataframe thead th {\n",
       "        text-align: right;\n",
       "    }\n",
       "</style>\n",
       "<table border=\"1\" class=\"dataframe\">\n",
       "  <thead>\n",
       "    <tr style=\"text-align: right;\">\n",
       "      <th></th>\n",
       "      <th>C</th>\n",
       "      <th>Q</th>\n",
       "      <th>S</th>\n",
       "    </tr>\n",
       "  </thead>\n",
       "  <tbody>\n",
       "    <tr>\n",
       "      <th>0</th>\n",
       "      <td>False</td>\n",
       "      <td>False</td>\n",
       "      <td>True</td>\n",
       "    </tr>\n",
       "    <tr>\n",
       "      <th>1</th>\n",
       "      <td>True</td>\n",
       "      <td>False</td>\n",
       "      <td>False</td>\n",
       "    </tr>\n",
       "    <tr>\n",
       "      <th>2</th>\n",
       "      <td>False</td>\n",
       "      <td>False</td>\n",
       "      <td>True</td>\n",
       "    </tr>\n",
       "    <tr>\n",
       "      <th>3</th>\n",
       "      <td>False</td>\n",
       "      <td>False</td>\n",
       "      <td>True</td>\n",
       "    </tr>\n",
       "    <tr>\n",
       "      <th>4</th>\n",
       "      <td>False</td>\n",
       "      <td>False</td>\n",
       "      <td>True</td>\n",
       "    </tr>\n",
       "    <tr>\n",
       "      <th>...</th>\n",
       "      <td>...</td>\n",
       "      <td>...</td>\n",
       "      <td>...</td>\n",
       "    </tr>\n",
       "    <tr>\n",
       "      <th>886</th>\n",
       "      <td>False</td>\n",
       "      <td>False</td>\n",
       "      <td>True</td>\n",
       "    </tr>\n",
       "    <tr>\n",
       "      <th>887</th>\n",
       "      <td>False</td>\n",
       "      <td>False</td>\n",
       "      <td>True</td>\n",
       "    </tr>\n",
       "    <tr>\n",
       "      <th>888</th>\n",
       "      <td>False</td>\n",
       "      <td>False</td>\n",
       "      <td>True</td>\n",
       "    </tr>\n",
       "    <tr>\n",
       "      <th>889</th>\n",
       "      <td>True</td>\n",
       "      <td>False</td>\n",
       "      <td>False</td>\n",
       "    </tr>\n",
       "    <tr>\n",
       "      <th>890</th>\n",
       "      <td>False</td>\n",
       "      <td>True</td>\n",
       "      <td>False</td>\n",
       "    </tr>\n",
       "  </tbody>\n",
       "</table>\n",
       "<p>884 rows × 3 columns</p>\n",
       "</div>"
      ],
      "text/plain": [
       "         C      Q      S\n",
       "0    False  False   True\n",
       "1     True  False  False\n",
       "2    False  False   True\n",
       "3    False  False   True\n",
       "4    False  False   True\n",
       "..     ...    ...    ...\n",
       "886  False  False   True\n",
       "887  False  False   True\n",
       "888  False  False   True\n",
       "889   True  False  False\n",
       "890  False   True  False\n",
       "\n",
       "[884 rows x 3 columns]"
      ]
     },
     "execution_count": 90,
     "metadata": {},
     "output_type": "execute_result"
    }
   ],
   "source": [
    "pd.get_dummies(df['Embarked'])"
   ]
  },
  {
   "cell_type": "markdown",
   "metadata": {},
   "source": [
    "### Task 7\n",
    "Remove the categorical column `Embarked` from the table and add new columns to it, obtained using `get_dummies`."
   ]
  },
  {
   "cell_type": "code",
   "execution_count": 91,
   "metadata": {},
   "outputs": [
    {
     "name": "stdout",
     "output_type": "stream",
     "text": [
      "   PassengerId  Survived  Pclass  \\\n",
      "0          1.0       0.0     3.0   \n",
      "1          2.0       1.0     1.0   \n",
      "2          3.0       1.0     3.0   \n",
      "3          4.0       1.0     1.0   \n",
      "4          5.0       0.0     3.0   \n",
      "\n",
      "                                                Name  Sex   Age  SibSp  Parch  \\\n",
      "0                            Braund; Mr. Owen Harris    0  22.0    1.0    0.0   \n",
      "1  Cumings; Mrs. John Bradley (Florence Briggs Th...    1  38.0    1.0    0.0   \n",
      "2                             Heikkinen; Miss. Laina    1  26.0    0.0    0.0   \n",
      "3       Futrelle; Mrs. Jacques Heath (Lily May Peel)    1  35.0    1.0    0.0   \n",
      "4                           Allen; Mr. William Henry    0  35.0    0.0    0.0   \n",
      "\n",
      "             Ticket     Fare Cabin      C      Q      S  \n",
      "0         A/5 21171   7.2500   NaN  False  False   True  \n",
      "1          PC 17599  71.2833   C85   True  False  False  \n",
      "2  STON/O2. 3101282   7.9250   NaN  False  False   True  \n",
      "3            113803  53.1000  C123  False  False   True  \n",
      "4            373450   8.0500   NaN  False  False   True  \n"
     ]
    }
   ],
   "source": [
    "# your code here\n",
    "\n",
    "embarked_dummies = pd.get_dummies(df['Embarked'])\n",
    "\n",
    "df.drop(columns=['Embarked'], inplace=True)\n",
    "\n",
    "df = pd.concat([df, embarked_dummies], axis=1)\n",
    "print(df.head())"
   ]
  },
  {
   "cell_type": "markdown",
   "metadata": {},
   "source": [
    "## Process the 'Age' feature\n",
    "\n",
    "Check if `Age` has any missing values."
   ]
  },
  {
   "cell_type": "code",
   "execution_count": 92,
   "metadata": {
    "scrolled": true
   },
   "outputs": [
    {
     "data": {
      "text/plain": [
       "175"
      ]
     },
     "execution_count": 92,
     "metadata": {},
     "output_type": "execute_result"
    }
   ],
   "source": [
    "df.Age.isna().sum()"
   ]
  },
  {
   "cell_type": "markdown",
   "metadata": {},
   "source": [
    "Let's fill in the blanks with the median `Age` value."
   ]
  },
  {
   "cell_type": "code",
   "execution_count": 93,
   "metadata": {},
   "outputs": [
    {
     "name": "stderr",
     "output_type": "stream",
     "text": [
      "/var/folders/cc/m3r6wr4s5450328h6_0_bqdw0000gn/T/ipykernel_2512/4033722866.py:3: FutureWarning: A value is trying to be set on a copy of a DataFrame or Series through chained assignment using an inplace method.\n",
      "The behavior will change in pandas 3.0. This inplace method will never work because the intermediate object on which we are setting values always behaves as a copy.\n",
      "\n",
      "For example, when doing 'df[col].method(value, inplace=True)', try using 'df.method({col: value}, inplace=True)' or df[col] = df[col].method(value) instead, to perform the operation inplace on the original object.\n",
      "\n",
      "\n",
      "  df['Age'].fillna(median_age, inplace=True)\n"
     ]
    }
   ],
   "source": [
    "median_age = df['Age'].median()\n",
    "\n",
    "df['Age'].fillna(median_age, inplace=True)"
   ]
  },
  {
   "cell_type": "markdown",
   "metadata": {},
   "source": [
    "Let's plot the age distribution of the passengers."
   ]
  },
  {
   "cell_type": "code",
   "execution_count": 95,
   "metadata": {},
   "outputs": [
    {
     "name": "stderr",
     "output_type": "stream",
     "text": [
      "/var/folders/cc/m3r6wr4s5450328h6_0_bqdw0000gn/T/ipykernel_2512/755151933.py:1: UserWarning: \n",
      "\n",
      "`distplot` is a deprecated function and will be removed in seaborn v0.14.0.\n",
      "\n",
      "Please adapt your code to use either `displot` (a figure-level function with\n",
      "similar flexibility) or `histplot` (an axes-level function for histograms).\n",
      "\n",
      "For a guide to updating your code to use the new functions, please see\n",
      "https://gist.github.com/mwaskom/de44147ed2974457ad6372750bbe5751\n",
      "\n",
      "  sns.distplot(df['Age'], kde=False)\n"
     ]
    },
    {
     "data": {
      "image/png": "[encoded data removed]",
      "text/plain": [
       "<Figure size 640x480 with 1 Axes>"
      ]
     },
     "metadata": {},
     "output_type": "display_data"
    }
   ],
   "source": [
    "sns.distplot(df['Age'], kde=False)\n",
    "plt.show()"
   ]
  },
  {
   "cell_type": "markdown",
   "metadata": {},
   "source": [
    "We can also look at the age distribution of `Pclass`."
   ]
  },
  {
   "cell_type": "code",
   "execution_count": 96,
   "metadata": {},
   "outputs": [
    {
     "data": {
      "image/png": "[encoded data removed]",
      "text/plain": [
       "<Figure size 372x300 with 1 Axes>"
      ]
     },
     "metadata": {},
     "output_type": "display_data"
    }
   ],
   "source": [
    "import seaborn as sns\n",
    "\n",
    "facet = sns.FacetGrid(data=df, hue=\"Pclass\", legend_out=True)\n",
    "facet = facet.map(sns.kdeplot, \"Age\")\n",
    "facet.add_legend();"
   ]
  },
  {
   "cell_type": "markdown",
   "metadata": {},
   "source": [
    "### Process the 'Fare' feature\n",
    "\n",
    "1) Check if there are any missing values in `Fare`\n",
    "\n",
    "2) If there are missing values, fill them with the _median_ value of `Fare`"
   ]
  },
  {
   "cell_type": "code",
   "execution_count": 103,
   "metadata": {
    "scrolled": true
   },
   "outputs": [
    {
     "name": "stdout",
     "output_type": "stream",
     "text": [
      "Number of empty fare field are 0\n",
      "Number of empty fare field after filling it is 0\n",
      "    PassengerId  Survived  Pclass  \\\n",
      "0           1.0       0.0     3.0   \n",
      "1           2.0       1.0     1.0   \n",
      "2           3.0       1.0     3.0   \n",
      "3           4.0       1.0     1.0   \n",
      "4           5.0       0.0     3.0   \n",
      "6           7.0       0.0     1.0   \n",
      "7           8.0       0.0     3.0   \n",
      "8           9.0       1.0     3.0   \n",
      "9          10.0       1.0     2.0   \n",
      "10         11.0       1.0     3.0   \n",
      "\n",
      "                                                 Name  Sex   Age  SibSp  \\\n",
      "0                             Braund; Mr. Owen Harris    0  22.0    1.0   \n",
      "1   Cumings; Mrs. John Bradley (Florence Briggs Th...    1  38.0    1.0   \n",
      "2                              Heikkinen; Miss. Laina    1  26.0    0.0   \n",
      "3        Futrelle; Mrs. Jacques Heath (Lily May Peel)    1  35.0    1.0   \n",
      "4                            Allen; Mr. William Henry    0  35.0    0.0   \n",
      "6                             McCarthy; Mr. Timothy J    0  54.0    0.0   \n",
      "7                      Palsson; Master. Gosta Leonard    0   2.0    3.0   \n",
      "8   Johnson; Mrs. Oscar W (Elisabeth Vilhelmina Berg)    1  27.0    0.0   \n",
      "9                 Nasser; Mrs. Nicholas (Adele Achem)    1  14.0    1.0   \n",
      "10                    Sandstrom; Miss. Marguerite Rut    1   4.0    1.0   \n",
      "\n",
      "    Parch            Ticket     Fare Cabin      C      Q      S  \n",
      "0     0.0         A/5 21171   7.2500   NaN  False  False   True  \n",
      "1     0.0          PC 17599  71.2833   C85   True  False  False  \n",
      "2     0.0  STON/O2. 3101282   7.9250   NaN  False  False   True  \n",
      "3     0.0            113803  53.1000  C123  False  False   True  \n",
      "4     0.0            373450   8.0500   NaN  False  False   True  \n",
      "6     0.0             17463  51.8625   E46  False  False   True  \n",
      "7     1.0            349909  21.0750   NaN  False  False   True  \n",
      "8     2.0            347742  11.1333   NaN  False  False   True  \n",
      "9     0.0            237736  30.0708   NaN   True  False  False  \n",
      "10    1.0           PP 9549  16.7000    G6  False  False   True  \n"
     ]
    }
   ],
   "source": [
    "# your code here\n",
    "numberofemptyFares=df.Fare.isnull().sum()\n",
    "print(\"Number of empty fare field are\",numberofemptyFares)\n",
    "\n",
    "if numberofemptyFares!=0:\n",
    "    median_fares = df['Fare'].median()\n",
    "    print(\"median value of fare field is\",median_fares)\n",
    "    df['Fare'].fillna(median_fares, inplace=True)\n",
    "\n",
    "print(\"Number of empty fare field after filling it is\",df.Fare.isna().sum())\n",
    "print(df.head(10))"
   ]
  },
  {
   "cell_type": "markdown",
   "metadata": {},
   "source": [
    "### Process the 'Pclass' feature\n",
    "\n",
    "Are there any missing values in `Pclass`?"
   ]
  },
  {
   "cell_type": "code",
   "execution_count": 33,
   "metadata": {},
   "outputs": [
    {
     "data": {
      "text/plain": [
       "Pclass\n",
       "3.0    487\n",
       "1.0    214\n",
       "2.0    183\n",
       "Name: count, dtype: int64"
      ]
     },
     "execution_count": 33,
     "metadata": {},
     "output_type": "execute_result"
    }
   ],
   "source": [
    "df['Pclass'].value_counts(dropna=False)"
   ]
  },
  {
   "cell_type": "markdown",
   "metadata": {},
   "source": [
    "### Task 8\n",
    "Draw a histogram of survival rates as a function of `Pclass`."
   ]
  },
  {
   "cell_type": "code",
   "execution_count": 104,
   "metadata": {},
   "outputs": [
    {
     "name": "stderr",
     "output_type": "stream",
     "text": [
      "/var/folders/cc/m3r6wr4s5450328h6_0_bqdw0000gn/T/ipykernel_2512/1415533889.py:2: UserWarning: \n",
      "\n",
      "`distplot` is a deprecated function and will be removed in seaborn v0.14.0.\n",
      "\n",
      "Please adapt your code to use either `displot` (a figure-level function with\n",
      "similar flexibility) or `histplot` (an axes-level function for histograms).\n",
      "\n",
      "For a guide to updating your code to use the new functions, please see\n",
      "https://gist.github.com/mwaskom/de44147ed2974457ad6372750bbe5751\n",
      "\n",
      "  sns.distplot(df['Pclass'], kde=False)\n"
     ]
    },
    {
     "data": {
      "image/png": "[encoded data removed]",
      "text/plain": [
       "<Figure size 640x480 with 1 Axes>"
      ]
     },
     "metadata": {},
     "output_type": "display_data"
    }
   ],
   "source": [
    "#your code here\n",
    "sns.distplot(df['Pclass'], kde=False)\n",
    "plt.show()"
   ]
  },
  {
   "cell_type": "markdown",
   "metadata": {},
   "source": [
    "### Process the feature 'SibSp' (number of siblings, husbands, wives)\n",
    "\n",
    "Are there any missing values in `SibSp`?"
   ]
  },
  {
   "cell_type": "code",
   "execution_count": 105,
   "metadata": {},
   "outputs": [
    {
     "name": "stdout",
     "output_type": "stream",
     "text": [
      "Number of empty SibSp field are 0\n",
      "Number of empty SibSp field after filling it is 0\n"
     ]
    }
   ],
   "source": [
    "# your code here\n",
    "numberofemptySibSp=df.SibSp.isna().sum()\n",
    "print(\"Number of empty SibSp field are\",numberofemptySibSp)\n",
    "if numberofemptyFares!=0:\n",
    "    median_SibSp = df['SibSp'].median()\n",
    "    df['SibSp'].fillna(median_SibSp, inplace=True)\n",
    "\n",
    "print(\"Number of empty SibSp field after filling it is\",df.SibSp.isna().sum())"
   ]
  },
  {
   "cell_type": "markdown",
   "metadata": {},
   "source": [
    "### Task 9\n",
    "The `PassengerId` column is categorical and does not carry important information, delete it."
   ]
  },
  {
   "cell_type": "code",
   "execution_count": 106,
   "metadata": {},
   "outputs": [
    {
     "name": "stdout",
     "output_type": "stream",
     "text": [
      "   Survived  Pclass                                               Name  Sex  \\\n",
      "0       0.0     3.0                            Braund; Mr. Owen Harris    0   \n",
      "1       1.0     1.0  Cumings; Mrs. John Bradley (Florence Briggs Th...    1   \n",
      "2       1.0     3.0                             Heikkinen; Miss. Laina    1   \n",
      "3       1.0     1.0       Futrelle; Mrs. Jacques Heath (Lily May Peel)    1   \n",
      "4       0.0     3.0                           Allen; Mr. William Henry    0   \n",
      "\n",
      "    Age  SibSp  Parch            Ticket     Fare Cabin      C      Q      S  \n",
      "0  22.0    1.0    0.0         A/5 21171   7.2500   NaN  False  False   True  \n",
      "1  38.0    1.0    0.0          PC 17599  71.2833   C85   True  False  False  \n",
      "2  26.0    0.0    0.0  STON/O2. 3101282   7.9250   NaN  False  False   True  \n",
      "3  35.0    1.0    0.0            113803  53.1000  C123  False  False   True  \n",
      "4  35.0    0.0    0.0            373450   8.0500   NaN  False  False   True  \n"
     ]
    }
   ],
   "source": [
    "#your code here\n",
    "# removing the 'PassengerId' column\n",
    "df.drop(columns=['PassengerId'], inplace=True)\n",
    "print(df.head())"
   ]
  },
  {
   "cell_type": "code",
   "execution_count": null,
   "metadata": {},
   "outputs": [],
   "source": []
  }
 ],
 "metadata": {
  "kernelspec": {
   "display_name": "Python 3 (ipykernel)",
   "language": "python",
   "name": "python3"
  },
  "language_info": {
   "codemirror_mode": {
    "name": "ipython",
    "version": 3
   },
   "file_extension": ".py",
   "mimetype": "text/x-python",
   "name": "python",
   "nbconvert_exporter": "python",
   "pygments_lexer": "ipython3",
   "version": "3.10.14"
  }
 },
 "nbformat": 4,
 "nbformat_minor": 4
}
