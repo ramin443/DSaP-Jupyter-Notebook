{
 "cells": [
  {
   "cell_type": "markdown",
   "id": "9578795f-723e-46cc-b7f4-faed37e6858e",
   "metadata": {
    "nbgrader": {
     "grade": false,
     "grade_id": "cell-4a1b3b6fe8710aa6",
     "locked": true,
     "schema_version": 3,
     "solution": false,
     "task": false
    }
   },
   "source": [
    "# Data Structures and Processing\n",
    "\n",
    "## Week 5: Introduction to Pandas"
   ]
  },
  {
   "cell_type": "markdown",
   "id": "e8b4d83d-aafa-4503-822b-25a9e318163f",
   "metadata": {
    "nbgrader": {
     "grade": false,
     "grade_id": "cell-6f3a04066a25376b",
     "locked": true,
     "schema_version": 3,
     "solution": false,
     "task": false
    }
   },
   "source": [
    "### Remarks:\n",
    "\n",
    "1. Press the `install requirements` button above to install the required packages.  See the `requirements.txt` for list of packages to be installed.\n",
    "\n",
    "2. Make sure that you are following the conventions.  For examples, `import pandas as pd`, which imports pandas packages and sets the abbreviation for it.\n",
    "\n",
    "3. Do not import the packages without the short names.  Doing so might lead to a namespace conflict, or unintended uses of functions coming from two libraries as a part of different implementations."
   ]
  },
  {
   "cell_type": "markdown",
   "id": "b1aa9048-bfc7-4ee0-af22-fb0d78606569",
   "metadata": {
    "nbgrader": {
     "grade": false,
     "grade_id": "cell-f539bbadda2d5ac1",
     "locked": true,
     "schema_version": 3,
     "solution": false,
     "task": false
    }
   },
   "source": [
    "### Load Libraries"
   ]
  },
  {
   "cell_type": "code",
   "execution_count": 1,
   "id": "2512a105-8759-4def-90bd-37977472539a",
   "metadata": {
    "nbgrader": {
     "grade": false,
     "grade_id": "cell-7c31d2351da86500",
     "locked": true,
     "schema_version": 3,
     "solution": false,
     "task": false
    }
   },
   "outputs": [],
   "source": [
    "import numpy as np\n",
    "import pandas as pd"
   ]
  },
  {
   "cell_type": "markdown",
   "id": "8b1ac47b-88e7-4815-b2d4-ee3d68293fad",
   "metadata": {
    "nbgrader": {
     "grade": false,
     "grade_id": "cell-80f968b6313de10e",
     "locked": true,
     "schema_version": 3,
     "solution": false,
     "task": false
    }
   },
   "source": [
    "### Task 1\n",
    "\n",
    "Pandas provide the function `pd.read_csv` that takes name of the file (a string) as an argument. In this case, it is assumed that you want to read a comma-separated-file (a file, where fields are separated by a single character \",\"). If it is the case that the fields are separated by a different character than \",\", then an additional named argument `sep` could be provided. It is also common to have a TAB character as a separation, or a semi-colon \";\" as a separator.\n",
    "\n",
    "Consider the file `imdb_ratings.tsv` (tab-separated-file) in the working directory and load it into the variable `df`."
   ]
  },
  {
   "cell_type": "code",
   "execution_count": 33,
   "id": "0ac907d5-5cfa-4dc7-bc79-0699a31ba4f3",
   "metadata": {
    "nbgrader": {
     "grade": false,
     "grade_id": "cell-f9602f767e29967e",
     "locked": false,
     "schema_version": 3,
     "solution": true,
     "task": false
    }
   },
   "outputs": [
    {
     "name": "stdout",
     "output_type": "stream",
     "text": [
      "     stars_rating                  title     rating      genre  duration  \\\n",
      "0             7.7                 Zodiac          R      Crime       157   \n",
      "1             8.2           Mary and Max  NOT RATED  Animation        92   \n",
      "2             7.7          The Producers         PG     Comedy        88   \n",
      "3             8.6          Spirited Away         PG  Animation       125   \n",
      "4             7.4  The NeverEnding Story         PG  Adventure       102   \n",
      "..            ...                    ...        ...        ...       ...   \n",
      "974           8.1          Roman Holiday  NOT RATED     Comedy       118   \n",
      "975           7.9              Halloween          R      Drama        91   \n",
      "976           7.8             Awakenings      PG-13  Biography       121   \n",
      "977           8.1           Donnie Darko          R      Drama       113   \n",
      "978           8.1   The Bourne Ultimatum      PG-13     Action       115   \n",
      "\n",
      "                                                actors  \n",
      "0    {\"Jake Gyllenhaal\", \"Robert Downey Jr.\", \"Mark...  \n",
      "1    {\"Toni Collette\", \"Philip Seymour Hoffman\", \"E...  \n",
      "2         {\"Zero Mostel\", \"Gene Wilder\", \"Dick Shawn\"}  \n",
      "3    {\"Daveigh Chase\", \"Suzanne Pleshette\", \"Miyu I...  \n",
      "4    {\"Noah Hathaway\", \"Barret Oliver\", \"Tami Stron...  \n",
      "..                                                 ...  \n",
      "974  {\"Gregory Peck\", \"Audrey Hepburn\", \"Eddie Albe...  \n",
      "975  {\"Donald Pleasence\", \"Jamie Lee Curtis\", \"Tony...  \n",
      "976  {\"Robert De Niro\", \"Robin Williams\", \"Julie Ka...  \n",
      "977  {\"Jake Gyllenhaal\", \"Jena Malone\", \"Mary McDon...  \n",
      "978      {\"Matt Damon\", \"Édgar Ramírez\", \"Joan Allen\"}  \n",
      "\n",
      "[979 rows x 6 columns]\n"
     ]
    }
   ],
   "source": [
    "# Your solution goes here. Replace None with your solution\n",
    "\n",
    "df = pd.read_csv('imdb_ratings.tsv', sep='\\t')\n",
    "\n",
    "# Display the DataFrame\n",
    "print(df)"
   ]
  },
  {
   "cell_type": "markdown",
   "id": "739dc213-9b66-4f58-991d-43c77300c09d",
   "metadata": {
    "nbgrader": {
     "grade": false,
     "grade_id": "cell-d657a0157456459b",
     "locked": true,
     "schema_version": 3,
     "solution": false,
     "task": false
    }
   },
   "source": [
    "### Task 2\n",
    "\n",
    "As a next step, we could like to have a look at the contents of the data imported into `df`. For this, a useful method is `head()`, which looks at first few lines. An integer could be provided to the method `head(n)`, in which case, only first `n` lines are returned. Another useful method is `tail()`, which works exactly like the method `head()`, and it returns last few lines.\n",
    "\n",
    "An important note here is that the object returned by the application of the methods `head()` or `tail()` is also a DataFrame.\n",
    "\n",
    "Assign the object to `df_head_10`, which is returned by using `head()` and focus on the first 10 lines."
   ]
  },
  {
   "cell_type": "code",
   "execution_count": 9,
   "id": "cd533957-8688-4dc1-84dc-0dc20768977d",
   "metadata": {
    "nbgrader": {
     "grade": false,
     "grade_id": "cell-8cb6a773c081864c",
     "locked": false,
     "schema_version": 3,
     "solution": true,
     "task": false
    }
   },
   "outputs": [
    {
     "name": "stdout",
     "output_type": "stream",
     "text": [
      "   stars_rating                  title     rating      genre  duration  \\\n",
      "0           7.7                 Zodiac          R      Crime       157   \n",
      "1           8.2           Mary and Max  NOT RATED  Animation        92   \n",
      "2           7.7          The Producers         PG     Comedy        88   \n",
      "3           8.6          Spirited Away         PG  Animation       125   \n",
      "4           7.4  The NeverEnding Story         PG  Adventure       102   \n",
      "5           8.7            City of God          R      Crime       130   \n",
      "6           8.4                The Kid  NOT RATED     Comedy        68   \n",
      "7           8.2            Gran Torino          R      Drama       116   \n",
      "8           7.8             Changeling          R      Drama       141   \n",
      "9           8.0             Persepolis      PG-13  Animation        96   \n",
      "\n",
      "                                              actors  \n",
      "0  {\"Jake Gyllenhaal\", \"Robert Downey Jr.\", \"Mark...  \n",
      "1  {\"Toni Collette\", \"Philip Seymour Hoffman\", \"E...  \n",
      "2       {\"Zero Mostel\", \"Gene Wilder\", \"Dick Shawn\"}  \n",
      "3  {\"Daveigh Chase\", \"Suzanne Pleshette\", \"Miyu I...  \n",
      "4  {\"Noah Hathaway\", \"Barret Oliver\", \"Tami Stron...  \n",
      "5  {\"Alexandre Rodrigues\", \"Matheus Nachtergaele\"...  \n",
      "6  {\"Charles Chaplin\", \"Edna Purviance\", \"Jackie ...  \n",
      "7  {\"Clint Eastwood\", \"Bee Vang\", \"Christopher Ca...  \n",
      "8       {\"Angelina Jolie\", \"Colm Feore\", \"Amy Ryan\"}  \n",
      "9  {\"Chiara Mastroianni\", \"Catherine Deneuve\", \"G...  \n"
     ]
    }
   ],
   "source": [
    "# Your solution goes here. Replace None with your solution\n",
    "df_head_10 = df.head(10)\n",
    "# Displaying the first 10 lines\n",
    "print(df_head_10)"
   ]
  },
  {
   "cell_type": "markdown",
   "id": "13386d49-e414-46de-9236-b462bf1ec4d4",
   "metadata": {
    "nbgrader": {
     "grade": false,
     "grade_id": "cell-60f55185edd03e98",
     "locked": true,
     "schema_version": 3,
     "solution": false,
     "task": false
    }
   },
   "source": [
    "### Task 3\n",
    "\n",
    "At this point, your probably must have noticed that, the tabular data in `df` contains 6 columns, and hundreds of rows. The types of the columns are either strings or numbers (numpy integers or numpy floats). Notice that the column containing actors \"looks\" like a Python's builtin data type `set`. But pandas, knows it only as a string. We could leave it like this, but the data presentation could be improved, by identifying the actors as not strings but as a set of strings (the actors). We could have the list of actors, but having set should work fine, as it is not important what actor appears where in the list.\n",
    "\n",
    "Let us improve `df`, to make sure that the last column contains sets and not strings."
   ]
  },
  {
   "cell_type": "code",
   "execution_count": 35,
   "id": "16b36de3-dd32-4d3b-96c2-c3ed5d449289",
   "metadata": {
    "nbgrader": {
     "grade": false,
     "grade_id": "cell-0cd1996e9cdc2bf1",
     "locked": false,
     "schema_version": 3,
     "solution": true,
     "task": false
    }
   },
   "outputs": [
    {
     "ename": "AttributeError",
     "evalue": "'set' object has no attribute 'strip'",
     "output_type": "error",
     "traceback": [
      "\u001b[0;31m---------------------------------------------------------------------------\u001b[0m",
      "\u001b[0;31mAttributeError\u001b[0m                            Traceback (most recent call last)",
      "Input \u001b[0;32mIn [35]\u001b[0m, in \u001b[0;36m<cell line: 2>\u001b[0;34m()\u001b[0m\n\u001b[1;32m      1\u001b[0m \u001b[38;5;66;03m# Your solution goes here. Replace None with your solution\u001b[39;00m\n\u001b[0;32m----> 2\u001b[0m df[\u001b[38;5;124m'\u001b[39m\u001b[38;5;124mactors\u001b[39m\u001b[38;5;124m'\u001b[39m] \u001b[38;5;241m=\u001b[39m \u001b[43mdf\u001b[49m\u001b[43m[\u001b[49m\u001b[38;5;124;43m'\u001b[39;49m\u001b[38;5;124;43mactors\u001b[39;49m\u001b[38;5;124;43m'\u001b[39;49m\u001b[43m]\u001b[49m\u001b[38;5;241;43m.\u001b[39;49m\u001b[43mapply\u001b[49m\u001b[43m(\u001b[49m\u001b[38;5;28;43;01mlambda\u001b[39;49;00m\u001b[43m \u001b[49m\u001b[43mx\u001b[49m\u001b[43m:\u001b[49m\u001b[43m \u001b[49m\u001b[38;5;28;43mset\u001b[39;49m\u001b[43m(\u001b[49m\u001b[43mx\u001b[49m\u001b[38;5;241;43m.\u001b[39;49m\u001b[43mstrip\u001b[49m\u001b[43m(\u001b[49m\u001b[38;5;124;43m'\u001b[39;49m\u001b[38;5;132;43;01m{}\u001b[39;49;00m\u001b[38;5;124;43m'\u001b[39;49m\u001b[43m)\u001b[49m\u001b[38;5;241;43m.\u001b[39;49m\u001b[43msplit\u001b[49m\u001b[43m(\u001b[49m\u001b[38;5;124;43m'\u001b[39;49m\u001b[38;5;124;43m, \u001b[39;49m\u001b[38;5;124;43m'\u001b[39;49m\u001b[43m)\u001b[49m\u001b[43m)\u001b[49m\u001b[43m)\u001b[49m\n\u001b[1;32m      4\u001b[0m \u001b[38;5;66;03m# Display the DataFrame to verify the changes\u001b[39;00m\n\u001b[1;32m      5\u001b[0m \u001b[38;5;28mprint\u001b[39m(df[\u001b[38;5;124m'\u001b[39m\u001b[38;5;124mactors\u001b[39m\u001b[38;5;124m'\u001b[39m])\n",
      "File \u001b[0;32m~/opt/anaconda3/lib/python3.9/site-packages/pandas/core/series.py:4433\u001b[0m, in \u001b[0;36mSeries.apply\u001b[0;34m(self, func, convert_dtype, args, **kwargs)\u001b[0m\n\u001b[1;32m   4323\u001b[0m \u001b[38;5;28;01mdef\u001b[39;00m \u001b[38;5;21mapply\u001b[39m(\n\u001b[1;32m   4324\u001b[0m     \u001b[38;5;28mself\u001b[39m,\n\u001b[1;32m   4325\u001b[0m     func: AggFuncType,\n\u001b[0;32m   (...)\u001b[0m\n\u001b[1;32m   4328\u001b[0m     \u001b[38;5;241m*\u001b[39m\u001b[38;5;241m*\u001b[39mkwargs,\n\u001b[1;32m   4329\u001b[0m ) \u001b[38;5;241m-\u001b[39m\u001b[38;5;241m>\u001b[39m DataFrame \u001b[38;5;241m|\u001b[39m Series:\n\u001b[1;32m   4330\u001b[0m \u001b[38;5;250m    \u001b[39m\u001b[38;5;124;03m\"\"\"\u001b[39;00m\n\u001b[1;32m   4331\u001b[0m \u001b[38;5;124;03m    Invoke function on values of Series.\u001b[39;00m\n\u001b[1;32m   4332\u001b[0m \n\u001b[0;32m   (...)\u001b[0m\n\u001b[1;32m   4431\u001b[0m \u001b[38;5;124;03m    dtype: float64\u001b[39;00m\n\u001b[1;32m   4432\u001b[0m \u001b[38;5;124;03m    \"\"\"\u001b[39;00m\n\u001b[0;32m-> 4433\u001b[0m     \u001b[38;5;28;01mreturn\u001b[39;00m \u001b[43mSeriesApply\u001b[49m\u001b[43m(\u001b[49m\u001b[38;5;28;43mself\u001b[39;49m\u001b[43m,\u001b[49m\u001b[43m \u001b[49m\u001b[43mfunc\u001b[49m\u001b[43m,\u001b[49m\u001b[43m \u001b[49m\u001b[43mconvert_dtype\u001b[49m\u001b[43m,\u001b[49m\u001b[43m \u001b[49m\u001b[43margs\u001b[49m\u001b[43m,\u001b[49m\u001b[43m \u001b[49m\u001b[43mkwargs\u001b[49m\u001b[43m)\u001b[49m\u001b[38;5;241;43m.\u001b[39;49m\u001b[43mapply\u001b[49m\u001b[43m(\u001b[49m\u001b[43m)\u001b[49m\n",
      "File \u001b[0;32m~/opt/anaconda3/lib/python3.9/site-packages/pandas/core/apply.py:1082\u001b[0m, in \u001b[0;36mSeriesApply.apply\u001b[0;34m(self)\u001b[0m\n\u001b[1;32m   1078\u001b[0m \u001b[38;5;28;01mif\u001b[39;00m \u001b[38;5;28misinstance\u001b[39m(\u001b[38;5;28mself\u001b[39m\u001b[38;5;241m.\u001b[39mf, \u001b[38;5;28mstr\u001b[39m):\n\u001b[1;32m   1079\u001b[0m     \u001b[38;5;66;03m# if we are a string, try to dispatch\u001b[39;00m\n\u001b[1;32m   1080\u001b[0m     \u001b[38;5;28;01mreturn\u001b[39;00m \u001b[38;5;28mself\u001b[39m\u001b[38;5;241m.\u001b[39mapply_str()\n\u001b[0;32m-> 1082\u001b[0m \u001b[38;5;28;01mreturn\u001b[39;00m \u001b[38;5;28;43mself\u001b[39;49m\u001b[38;5;241;43m.\u001b[39;49m\u001b[43mapply_standard\u001b[49m\u001b[43m(\u001b[49m\u001b[43m)\u001b[49m\n",
      "File \u001b[0;32m~/opt/anaconda3/lib/python3.9/site-packages/pandas/core/apply.py:1137\u001b[0m, in \u001b[0;36mSeriesApply.apply_standard\u001b[0;34m(self)\u001b[0m\n\u001b[1;32m   1131\u001b[0m         values \u001b[38;5;241m=\u001b[39m obj\u001b[38;5;241m.\u001b[39mastype(\u001b[38;5;28mobject\u001b[39m)\u001b[38;5;241m.\u001b[39m_values\n\u001b[1;32m   1132\u001b[0m         \u001b[38;5;66;03m# error: Argument 2 to \"map_infer\" has incompatible type\u001b[39;00m\n\u001b[1;32m   1133\u001b[0m         \u001b[38;5;66;03m# \"Union[Callable[..., Any], str, List[Union[Callable[..., Any], str]],\u001b[39;00m\n\u001b[1;32m   1134\u001b[0m         \u001b[38;5;66;03m# Dict[Hashable, Union[Union[Callable[..., Any], str],\u001b[39;00m\n\u001b[1;32m   1135\u001b[0m         \u001b[38;5;66;03m# List[Union[Callable[..., Any], str]]]]]\"; expected\u001b[39;00m\n\u001b[1;32m   1136\u001b[0m         \u001b[38;5;66;03m# \"Callable[[Any], Any]\"\u001b[39;00m\n\u001b[0;32m-> 1137\u001b[0m         mapped \u001b[38;5;241m=\u001b[39m \u001b[43mlib\u001b[49m\u001b[38;5;241;43m.\u001b[39;49m\u001b[43mmap_infer\u001b[49m\u001b[43m(\u001b[49m\n\u001b[1;32m   1138\u001b[0m \u001b[43m            \u001b[49m\u001b[43mvalues\u001b[49m\u001b[43m,\u001b[49m\n\u001b[1;32m   1139\u001b[0m \u001b[43m            \u001b[49m\u001b[43mf\u001b[49m\u001b[43m,\u001b[49m\u001b[43m  \u001b[49m\u001b[38;5;66;43;03m# type: ignore[arg-type]\u001b[39;49;00m\n\u001b[1;32m   1140\u001b[0m \u001b[43m            \u001b[49m\u001b[43mconvert\u001b[49m\u001b[38;5;241;43m=\u001b[39;49m\u001b[38;5;28;43mself\u001b[39;49m\u001b[38;5;241;43m.\u001b[39;49m\u001b[43mconvert_dtype\u001b[49m\u001b[43m,\u001b[49m\n\u001b[1;32m   1141\u001b[0m \u001b[43m        \u001b[49m\u001b[43m)\u001b[49m\n\u001b[1;32m   1143\u001b[0m \u001b[38;5;28;01mif\u001b[39;00m \u001b[38;5;28mlen\u001b[39m(mapped) \u001b[38;5;129;01mand\u001b[39;00m \u001b[38;5;28misinstance\u001b[39m(mapped[\u001b[38;5;241m0\u001b[39m], ABCSeries):\n\u001b[1;32m   1144\u001b[0m     \u001b[38;5;66;03m# GH#43986 Need to do list(mapped) in order to get treated as nested\u001b[39;00m\n\u001b[1;32m   1145\u001b[0m     \u001b[38;5;66;03m#  See also GH#25959 regarding EA support\u001b[39;00m\n\u001b[1;32m   1146\u001b[0m     \u001b[38;5;28;01mreturn\u001b[39;00m obj\u001b[38;5;241m.\u001b[39m_constructor_expanddim(\u001b[38;5;28mlist\u001b[39m(mapped), index\u001b[38;5;241m=\u001b[39mobj\u001b[38;5;241m.\u001b[39mindex)\n",
      "File \u001b[0;32m~/opt/anaconda3/lib/python3.9/site-packages/pandas/_libs/lib.pyx:2870\u001b[0m, in \u001b[0;36mpandas._libs.lib.map_infer\u001b[0;34m()\u001b[0m\n",
      "Input \u001b[0;32mIn [35]\u001b[0m, in \u001b[0;36m<lambda>\u001b[0;34m(x)\u001b[0m\n\u001b[1;32m      1\u001b[0m \u001b[38;5;66;03m# Your solution goes here. Replace None with your solution\u001b[39;00m\n\u001b[0;32m----> 2\u001b[0m df[\u001b[38;5;124m'\u001b[39m\u001b[38;5;124mactors\u001b[39m\u001b[38;5;124m'\u001b[39m] \u001b[38;5;241m=\u001b[39m df[\u001b[38;5;124m'\u001b[39m\u001b[38;5;124mactors\u001b[39m\u001b[38;5;124m'\u001b[39m]\u001b[38;5;241m.\u001b[39mapply(\u001b[38;5;28;01mlambda\u001b[39;00m x: \u001b[38;5;28mset\u001b[39m(\u001b[43mx\u001b[49m\u001b[38;5;241;43m.\u001b[39;49m\u001b[43mstrip\u001b[49m(\u001b[38;5;124m'\u001b[39m\u001b[38;5;132;01m{}\u001b[39;00m\u001b[38;5;124m'\u001b[39m)\u001b[38;5;241m.\u001b[39msplit(\u001b[38;5;124m'\u001b[39m\u001b[38;5;124m, \u001b[39m\u001b[38;5;124m'\u001b[39m)))\n\u001b[1;32m      4\u001b[0m \u001b[38;5;66;03m# Display the DataFrame to verify the changes\u001b[39;00m\n\u001b[1;32m      5\u001b[0m \u001b[38;5;28mprint\u001b[39m(df[\u001b[38;5;124m'\u001b[39m\u001b[38;5;124mactors\u001b[39m\u001b[38;5;124m'\u001b[39m])\n",
      "\u001b[0;31mAttributeError\u001b[0m: 'set' object has no attribute 'strip'"
     ]
    }
   ],
   "source": [
    "# Your solution goes here. Replace None with your solution\n",
    "df['actors'] = df['actors'].apply(lambda x: set(x.strip('{}').split(', ')))\n",
    "print(df['actors'])\n"
   ]
  },
  {
   "cell_type": "markdown",
   "id": "1a9046ed-3c45-458b-b97c-6d3af2c9c6ce",
   "metadata": {
    "nbgrader": {
     "grade": false,
     "grade_id": "cell-6bbfc309e8ba800b",
     "locked": true,
     "schema_version": 3,
     "solution": false,
     "task": false
    }
   },
   "source": [
    "### Task 4\n",
    "\n",
    "Notice that the data is not sorted at all with respect to any column. We would like to sort `df` with respect to the column `stars_rating`. In order to do that we use the method `sort_values()` with the named arguments `by` and `ascending=False`. The argument `by` takes the column name with respect to which, we want to sort the data frame.\n",
    "\n",
    "Notice that the application of the method `sort_values()` does not modify the original variable, but it returns a new data frame.\n",
    "\n",
    "Assign the sorted form of `df` with respect to the column `stars_rating`and assign the returned data frame to the variable `df_sorted`."
   ]
  },
  {
   "cell_type": "code",
   "execution_count": 19,
   "id": "99f69722-a333-4afc-8388-150efe4b596e",
   "metadata": {
    "nbgrader": {
     "grade": false,
     "grade_id": "cell-12ca0f583d04606c",
     "locked": false,
     "schema_version": 3,
     "solution": true,
     "task": false
    }
   },
   "outputs": [
    {
     "name": "stdout",
     "output_type": "stream",
     "text": [
      "     stars_rating                                          title rating  \\\n",
      "716           9.3                       The Shawshank Redemption      R   \n",
      "167           9.2                                  The Godfather      R   \n",
      "954           9.1                         The Godfather: Part II      R   \n",
      "187           9.0                                The Dark Knight  PG-13   \n",
      "179           8.9  The Lord of the Rings: The Return of the King  PG-13   \n",
      "..            ...                                            ...    ...   \n",
      "156           7.4                                       The Rock      R   \n",
      "724           7.4                                Man on the Moon      R   \n",
      "158           7.4                               The Way Way Back  PG-13   \n",
      "603           7.4                                    Beetlejuice     PG   \n",
      "882           7.4                            Alice in Wonderland      G   \n",
      "\n",
      "         genre  duration                                             actors  \n",
      "716      Crime       142    {\"Bob Gunton\", \"Morgan Freeman\", \"Tim Robbins\"}  \n",
      "167      Crime       175       {\"James Caan\", \"Al Pacino\", \"Marlon Brando\"}  \n",
      "954      Crime       200   {\"Al Pacino\", \"Robert De Niro\", \"Robert Duvall\"}  \n",
      "187     Action       152  {\"Christian Bale\", \"Aaron Eckhart\", \"Heath Led...  \n",
      "179  Adventure       201  {\"Elijah Wood\", \"Ian McKellen\", \"Viggo Mortens...  \n",
      "..         ...       ...                                                ...  \n",
      "156     Action       136      {\"Ed Harris\", \"Nicolas Cage\", \"Sean Connery\"}  \n",
      "724  Biography       118     {\"Jim Carrey\", \"Gerry Becker\", \"Danny DeVito\"}  \n",
      "158     Comedy       103  {\"Toni Collette\", \"Allison Janney\", \"Steve Car...  \n",
      "603     Comedy        92  {\"Alec Baldwin\", \"Geena Davis\", \"Michael Keaton\"}  \n",
      "882  Animation        75   {\"Kathryn Beaumont\", \"Richard Haydn\", \"Ed Wynn\"}  \n",
      "\n",
      "[979 rows x 6 columns]\n"
     ]
    }
   ],
   "source": [
    "# Your solution goes here. Replace None with your solution\n",
    "df_sorted = df.sort_values(by='stars_rating', ascending=False)\n",
    "\n",
    "# Display the sorted DataFrame\n",
    "print(df_sorted)"
   ]
  },
  {
   "cell_type": "markdown",
   "id": "df1f6dcc-23b2-4126-9a38-088933e87152",
   "metadata": {
    "nbgrader": {
     "grade": false,
     "grade_id": "cell-292aefc14f58221c",
     "locked": true,
     "schema_version": 3,
     "solution": false,
     "task": false
    }
   },
   "source": [
    "### Task 5\n",
    "\n",
    "We are now going to use induced boolean array to filter down to some records. At this step, we are going to work with `df`, and not with `df_sorted`.\n",
    "\n",
    "We want to return only those records of movies, whose ratings are between 8.5 and 9 (both inclusive). For this, we create a `df_rating_filter_85_90`"
   ]
  },
  {
   "cell_type": "code",
   "execution_count": 20,
   "id": "3e6dccae-1d97-4efd-a815-07c57795d59c",
   "metadata": {
    "nbgrader": {
     "grade": false,
     "grade_id": "cell-2331b5c2feaf844e",
     "locked": false,
     "schema_version": 3,
     "solution": true,
     "task": false
    }
   },
   "outputs": [
    {
     "name": "stdout",
     "output_type": "stream",
     "text": [
      "     stars_rating                                          title     rating  \\\n",
      "3             8.6                                  Spirited Away         PG   \n",
      "5             8.7                                    City of God          R   \n",
      "64            8.9                                   Pulp Fiction          R   \n",
      "69            8.5                                          Alien          R   \n",
      "81            8.5                                 Paths of Glory   APPROVED   \n",
      "97            8.5                                   Sunset Blvd.  NOT RATED   \n",
      "127           8.5                                  The Lion King          G   \n",
      "137           8.9                               Schindler\"s List          R   \n",
      "178           8.5                                    The Pianist          R   \n",
      "179           8.9  The Lord of the Rings: The Return of the King      PG-13   \n",
      "\n",
      "         genre  duration                                             actors  \n",
      "3    Animation       125  {\"Daveigh Chase\", \"Miyu Irino\", \"Suzanne Plesh...  \n",
      "5        Crime       130  {\"Leandro Firmino\", \"Alexandre Rodrigues\", \"Ma...  \n",
      "64       Crime       154  {\"John Travolta\", \"Samuel L. Jackson\", \"Uma Th...  \n",
      "69      Horror       117  {\"Tom Skerritt\", \"Sigourney Weaver\", \"John Hurt\"}  \n",
      "81       Drama        88  {\"Kirk Douglas\", \"Ralph Meeker\", \"Adolphe Menjo\"}  \n",
      "97       Drama       110  {\"William Holden\", \"Gloria Swanson\", \"Erich vo...  \n",
      "127  Animation        89  {\"Matthew Broderick\", \"James Earl Jones\", \"Jer...  \n",
      "137  Biography       195   {\"Ben Kingsley\", \"Liam Neeson\", \"Ralph Fiennes\"}  \n",
      "178  Biography       150  {\"Frank Finlay\", \"Adrien Brody\", \"Thomas Krets...  \n",
      "179  Adventure       201  {\"Elijah Wood\", \"Ian McKellen\", \"Viggo Mortens...  \n"
     ]
    }
   ],
   "source": [
    "# Your solution goes here. Replace None with your solution\n",
    "rating_filter = (df['stars_rating'] >= 8.5) & (df['stars_rating'] <= 9)\n",
    "\n",
    "# Filter the DataFrame using the boolean array\n",
    "df_rating_filter_85_90 = df[rating_filter]\n",
    "\n",
    "# Display the filtered DataFrame\n",
    "print(df_rating_filter_85_90.head(10))"
   ]
  },
  {
   "cell_type": "markdown",
   "id": "1fc91b8e-f4b8-4360-bfac-550cdba72028",
   "metadata": {
    "nbgrader": {
     "grade": false,
     "grade_id": "cell-a057dd11358ccd23",
     "locked": true,
     "schema_version": 3,
     "solution": false,
     "task": false
    }
   },
   "source": [
    "### Task 6\n",
    "\n",
    "We would like to filter all the movies, in which Tom Hanks has acted.\n",
    "\n",
    "To achieve this, you could first write down a filter `tom_hanks_filter`, which is a pandas Series, and which could be used as a boolean mask to filter to desired records. We recommend working with the `df_sorted`."
   ]
  },
  {
   "cell_type": "code",
   "execution_count": 48,
   "id": "465c6724-356e-4a8f-9693-7fdc041bb050",
   "metadata": {
    "nbgrader": {
     "grade": false,
     "grade_id": "cell-e7522c44cb786d6c",
     "locked": false,
     "schema_version": 3,
     "solution": true,
     "task": false
    }
   },
   "outputs": [
    {
     "name": "stdout",
     "output_type": "stream",
     "text": [
      "     stars_rating                title rating      genre  duration  \\\n",
      "12            7.9     Captain Phillips  PG-13  Biography       134   \n",
      "34            8.4          Toy Story 3      G  Animation       103   \n",
      "58            7.7    Road to Perdition      R      Crime       117   \n",
      "71            7.9          Toy Story 2      G  Animation        92   \n",
      "230           7.7         Philadelphia  PG-13      Drama       125   \n",
      "270           7.7            Cast Away  PG-13  Adventure       143   \n",
      "337           8.8         Forrest Gump  PG-13      Drama       142   \n",
      "405           8.3            Toy Story      G  Animation        81   \n",
      "431           8.0  Catch Me If You Can  PG-13  Biography       141   \n",
      "455           8.6  Saving Private Ryan      R     Action       169   \n",
      "459           8.5       The Green Mile      R      Crime       189   \n",
      "735           7.5          Cloud Atlas      R      Drama       172   \n",
      "883           7.6     Saving Mr. Banks  PG-13  Biography       125   \n",
      "960           7.6            Apollo 13     PG  Adventure       140   \n",
      "\n",
      "                                                actors  \n",
      "12   {\"Barkhad Abdirahman\", \"Tom Hanks\", \"Barkhad A...  \n",
      "34           {\"Tim Allen\", \"Tom Hanks\", \"Joan Cusack\"}  \n",
      "58        {\"Tom Hanks\", \"Tyler Hoechlin\", \"Rob Maxey\"}  \n",
      "71           {\"Tim Allen\", \"Tom Hanks\", \"Joan Cusack\"}  \n",
      "230  {\"Tom Hanks\", \"Denzel Washington\", \"Roberta Ma...  \n",
      "270        {\"Tom Hanks\", \"Paul Sanchez\", \"Helen Hunt\"}  \n",
      "337       {\"Tom Hanks\", \"Gary Sinise\", \"Robin Wright\"}  \n",
      "405          {\"Tim Allen\", \"Tom Hanks\", \"Don Rickles\"}  \n",
      "431  {\"Tom Hanks\", \"Christopher Walken\", \"Leonardo ...  \n",
      "455        {\"Tom Hanks\", \"Tom Sizemore\", \"Matt Damon\"}  \n",
      "459  {\"David Morse\", \"Tom Hanks\", \"Michael Clarke D...  \n",
      "735         {\"Tom Hanks\", \"Halle Berry\", \"Hugh Grant\"}  \n",
      "883  {\"Emma Thompson\", \"Tom Hanks\", \"Annie Rose Buc...  \n",
      "960        {\"Tom Hanks\", \"Kevin Bacon\", \"Bill Paxton\"}  \n"
     ]
    }
   ],
   "source": [
    "# Your solution goes here. Replace None with your solution\n",
    "tom_hanks_filter =  df['actors'].apply(lambda x: '\"Tom Hanks\"' in x)\n",
    "tom_hanks_movies = df[tom_hanks_filter]\n",
    "\n",
    "print(tom_hanks_movies)"
   ]
  },
  {
   "cell_type": "markdown",
   "id": "d2e2fd8b-33fe-47a1-b526-28ce9442c9b2",
   "metadata": {
    "nbgrader": {
     "grade": false,
     "grade_id": "cell-8f3a35eb4d6f746c",
     "locked": true,
     "schema_version": 3,
     "solution": false,
     "task": false
    }
   },
   "source": [
    "### Task 7 (Read Only)\n",
    "\n",
    "There are several different types of summaries that one can generate for a given data frame. Let us take an example, where we are going to count movies for each rating, and plot the result, with number of movies along vertical axis and rating along horizontal axis."
   ]
  },
  {
   "cell_type": "code",
   "execution_count": 27,
   "id": "bcf7a67c-8dff-44b2-a8eb-e045e9c4904b",
   "metadata": {
    "nbgrader": {
     "grade": false,
     "grade_id": "cell-70fdee0c805d7bc7",
     "locked": true,
     "schema_version": 3,
     "solution": false,
     "task": false
    }
   },
   "outputs": [
    {
     "data": {
      "text/plain": [
       "<Axes: xlabel='rating', ylabel='Number of Movies'>"
      ]
     },
     "execution_count": 27,
     "metadata": {},
     "output_type": "execute_result"
    },
    {
     "data": {
      "image/png": "[encoded data removed]",
      "text/plain": [
       "<Figure size 432x288 with 1 Axes>"
      ]
     },
     "metadata": {
      "needs_background": "light"
     },
     "output_type": "display_data"
    }
   ],
   "source": [
    "# Load Libraries, if they are not done so far.\n",
    "import numpy as np\n",
    "import pandas as pd\n",
    "\n",
    "# Let us reload the data, in case, it is not done already. (Optional)\n",
    "df = pd.read_csv(\"imdb_ratings.tsv\", sep=\"\\t\")\n",
    "\n",
    "# access the column, and use the aggregate method value_counts() to count\n",
    "# the number of times a rating appears in the selected pandas series.\n",
    "df_ratings_movie_counts = df.iloc[:,0].value_counts().sort_index()\n",
    "\n",
    "# Use plot() method with named arguments.\n",
    "df_ratings_movie_counts.plot(kind=\"bar\",\n",
    "                             xlabel=\"rating\",\n",
    "                             ylabel=\"Number of Movies\",\n",
    "                             legend=False)"
   ]
  },
  {
   "cell_type": "code",
   "execution_count": null,
   "id": "94b92063",
   "metadata": {},
   "outputs": [],
   "source": []
  }
 ],
 "metadata": {
  "kernelspec": {
   "display_name": "Python 3 (ipykernel)",
   "language": "python",
   "name": "python3"
  },
  "language_info": {
   "codemirror_mode": {
    "name": "ipython",
    "version": 3
   },
   "file_extension": ".py",
   "mimetype": "text/x-python",
   "name": "python",
   "nbconvert_exporter": "python",
   "pygments_lexer": "ipython3",
   "version": "3.9.12"
  }
 },
 "nbformat": 4,
 "nbformat_minor": 5
}
