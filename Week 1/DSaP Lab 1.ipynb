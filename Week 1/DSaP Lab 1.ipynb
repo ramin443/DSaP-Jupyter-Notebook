{
 "cells": [
  {
   "cell_type": "markdown",
   "id": "e1c2ee7c-5e61-4ea4-914e-4ad1b56cb993",
   "metadata": {
    "nbgrader": {
     "grade": false,
     "grade_id": "cell-ec29fc9019ca542a",
     "locked": true,
     "schema_version": 3,
     "solution": false,
     "task": false
    }
   },
   "source": [
    "# Data Structures and Processing\n",
    "\n",
    "## Week 1: Introduction to Python"
   ]
  },
  {
   "cell_type": "markdown",
   "id": "383617d9-140a-478b-bcba-8c1ed5e6d804",
   "metadata": {
    "nbgrader": {
     "grade": false,
     "grade_id": "cell-0bf739a2261db2a4",
     "locked": true,
     "schema_version": 3,
     "solution": false,
     "task": false
    },
    "tags": []
   },
   "source": [
    "## Name / Variable: First Encounter\n",
    "\n",
    "In many of the programming languages, it is unnecceary to declare the type of an object before declaring it. In addition to that if a name is already in use for an object of certain type, it could be used for an object of another type.  This phenomemon is rephrased as \"dynamically typed language\".\n",
    "\n",
    "Let us consider an example.  We reserve the name `x` for the variable and assign it first and integer and then assign it a string.\n",
    "\n",
    "We are using the `print`function to print the output of a certain evaluation.  Otherwise, the last evaluated result is printed."
   ]
  },
  {
   "cell_type": "code",
   "execution_count": 1,
   "id": "dfc7ae77-fd18-4fda-9ffc-aa9e3c0a0b48",
   "metadata": {
    "editable": true,
    "nbgrader": {
     "grade": false,
     "grade_id": "cell-2166475b94455862",
     "locked": true,
     "schema_version": 3,
     "solution": false,
     "task": false
    },
    "slideshow": {
     "slide_type": ""
    },
    "tags": []
   },
   "outputs": [
    {
     "name": "stdout",
     "output_type": "stream",
     "text": [
      "The value of x:  2\n",
      "The type of x:  <class 'int'>\n",
      "The value of x:  Data Structures and Processing\n",
      "The type of x:  <class 'str'>\n"
     ]
    }
   ],
   "source": [
    "x = 2                        # x is of type int\n",
    "tx = type(x)\n",
    "print(\"The value of x: \", x)\n",
    "print(\"The type of x: \", tx)\n",
    "\n",
    "x = \"Data Structures and Processing\"\n",
    "tx = type(x)\n",
    "print(\"The value of x: \", x)\n",
    "print(\"The type of x: \", tx)"
   ]
  },
  {
   "cell_type": "markdown",
   "id": "e36f9ef5-5b2a-4c8c-8354-3f4302956c28",
   "metadata": {
    "nbgrader": {
     "grade": false,
     "grade_id": "cell-2609950fdbfc186d",
     "locked": true,
     "schema_version": 3,
     "solution": false,
     "task": false
    }
   },
   "source": [
    "### Task\n",
    "\n",
    "Choose a variable name.  Assign it an object of your choice: `int`, `str`, `list`,....  Print your choosen value and its type.  Now assign the same variable a different object and do the same (printing value and its type)."
   ]
  },
  {
   "cell_type": "code",
   "execution_count": 3,
   "id": "4a7b43fa-0654-4407-80bf-f19d59b9c65d",
   "metadata": {
    "editable": true,
    "nbgrader": {
     "grade": true,
     "grade_id": "cell-da7a238e7101d895",
     "locked": false,
     "points": 2,
     "schema_version": 3,
     "solution": true,
     "task": false
    },
    "slideshow": {
     "slide_type": ""
    },
    "tags": []
   },
   "outputs": [
    {
     "name": "stdout",
     "output_type": "stream",
     "text": [
      "The value of a is:  5\n",
      "The type of a is:  <class 'int'>\n",
      "The value of a is:  Test String\n",
      "The type of a is:  <class 'str'>\n"
     ]
    }
   ],
   "source": [
    "a = 5\n",
    "t1a= type(a)\n",
    "print(\"The value of a is: \", a)\n",
    "print(\"The type of a is: \", t1a)\n",
    "\n",
    "a= \"Test String\"\n",
    "t2a= type(a)\n",
    "print(\"The value of a is: \", a)\n",
    "print(\"The type of a is: \", t2a)\n"
   ]
  },
  {
   "cell_type": "markdown",
   "id": "3f6956ef-7f54-4206-84dc-ef05bb7314e3",
   "metadata": {
    "nbgrader": {
     "grade": false,
     "grade_id": "cell-57450ddda4fb2e9d",
     "locked": true,
     "schema_version": 3,
     "solution": false,
     "task": false
    }
   },
   "source": [
    "## Attributes\n",
    "\n",
    "Recall that objects have attributes. Some of them are callable, and other return some information about the associated object directly.  A helpful function to list all the attributes of an object of a certain class is `dir`.  We use use `dir(x)`, where `x`is the name of the variable whose attributes we want to list, or if we know the class name, we simply type `dir(class_name)`.\n",
    "\n",
    "Let us take an example.\n",
    "\n",
    "We assign a float to variable `x` and list its attributes."
   ]
  },
  {
   "cell_type": "code",
   "execution_count": 2,
   "id": "da9e3fb1-69ea-4499-860c-7c0b58539612",
   "metadata": {
    "nbgrader": {
     "grade": false,
     "grade_id": "cell-4e353d58f7b571aa",
     "locked": true,
     "schema_version": 3,
     "solution": false,
     "task": false
    },
    "scrolled": true
   },
   "outputs": [
    {
     "data": {
      "text/plain": [
       "['__abs__',\n",
       " '__add__',\n",
       " '__bool__',\n",
       " '__ceil__',\n",
       " '__class__',\n",
       " '__delattr__',\n",
       " '__dir__',\n",
       " '__divmod__',\n",
       " '__doc__',\n",
       " '__eq__',\n",
       " '__float__',\n",
       " '__floor__',\n",
       " '__floordiv__',\n",
       " '__format__',\n",
       " '__ge__',\n",
       " '__getattribute__',\n",
       " '__getformat__',\n",
       " '__getnewargs__',\n",
       " '__getstate__',\n",
       " '__gt__',\n",
       " '__hash__',\n",
       " '__init__',\n",
       " '__init_subclass__',\n",
       " '__int__',\n",
       " '__le__',\n",
       " '__lt__',\n",
       " '__mod__',\n",
       " '__mul__',\n",
       " '__ne__',\n",
       " '__neg__',\n",
       " '__new__',\n",
       " '__pos__',\n",
       " '__pow__',\n",
       " '__radd__',\n",
       " '__rdivmod__',\n",
       " '__reduce__',\n",
       " '__reduce_ex__',\n",
       " '__repr__',\n",
       " '__rfloordiv__',\n",
       " '__rmod__',\n",
       " '__rmul__',\n",
       " '__round__',\n",
       " '__rpow__',\n",
       " '__rsub__',\n",
       " '__rtruediv__',\n",
       " '__setattr__',\n",
       " '__sizeof__',\n",
       " '__str__',\n",
       " '__sub__',\n",
       " '__subclasshook__',\n",
       " '__truediv__',\n",
       " '__trunc__',\n",
       " 'as_integer_ratio',\n",
       " 'conjugate',\n",
       " 'fromhex',\n",
       " 'hex',\n",
       " 'imag',\n",
       " 'is_integer',\n",
       " 'real']"
      ]
     },
     "execution_count": 2,
     "metadata": {},
     "output_type": "execute_result"
    }
   ],
   "source": [
    "x = 3.1415\n",
    "dir(x)"
   ]
  },
  {
   "cell_type": "markdown",
   "id": "ee09e56f-ec4f-447e-86d1-182bad9c8681",
   "metadata": {
    "nbgrader": {
     "grade": false,
     "grade_id": "cell-121cf18625297808",
     "locked": true,
     "schema_version": 3,
     "solution": false,
     "task": false
    }
   },
   "source": [
    "Let us say at this point, we have done some work and we are not sure if our variable has integer stored in it or a float.  We see in the above list that there is an attribute `is_integer`.  That sounds promising for our purpose.  So we use it as follows."
   ]
  },
  {
   "cell_type": "code",
   "execution_count": 3,
   "id": "4dc7efed-1391-45e3-a674-94d660aae6e6",
   "metadata": {
    "nbgrader": {
     "grade": false,
     "grade_id": "cell-d46dac14da8a17a4",
     "locked": true,
     "schema_version": 3,
     "solution": false,
     "task": false
    }
   },
   "outputs": [
    {
     "data": {
      "text/plain": [
       "<function float.is_integer()>"
      ]
     },
     "execution_count": 3,
     "metadata": {},
     "output_type": "execute_result"
    }
   ],
   "source": [
    "x.is_integer"
   ]
  },
  {
   "cell_type": "markdown",
   "id": "aa707730-1ef9-46dc-a86b-4a1ff5417f89",
   "metadata": {
    "nbgrader": {
     "grade": false,
     "grade_id": "cell-b609d7c4030ac8b7",
     "locked": true,
     "schema_version": 3,
     "solution": false,
     "task": false
    }
   },
   "source": [
    "The output of above call is not what we wanted.  A Python user of some experience would know what to do at this point.  But we assume that we do not know.  The next step would be to get some help.  Help is called as follows."
   ]
  },
  {
   "cell_type": "code",
   "execution_count": 4,
   "id": "d856bf02-1d47-4305-8663-7042a0b72916",
   "metadata": {
    "nbgrader": {
     "grade": false,
     "grade_id": "cell-c48ae6886130145e",
     "locked": true,
     "schema_version": 3,
     "solution": false,
     "task": false
    }
   },
   "outputs": [
    {
     "name": "stdout",
     "output_type": "stream",
     "text": [
      "Help on built-in function is_integer:\n",
      "\n",
      "is_integer() method of builtins.float instance\n",
      "    Return True if the float is an integer.\n",
      "\n"
     ]
    }
   ],
   "source": [
    "help(x.is_integer)"
   ]
  },
  {
   "cell_type": "markdown",
   "id": "7328652a-0523-4c2e-a987-530a7b4919ab",
   "metadata": {
    "nbgrader": {
     "grade": false,
     "grade_id": "cell-888541a838a718f9",
     "locked": true,
     "schema_version": 3,
     "solution": false,
     "task": false
    }
   },
   "source": [
    "The help suggest that we use it with parenthesis at the end. It is a callable method.  Now let us try one more time."
   ]
  },
  {
   "cell_type": "code",
   "execution_count": 5,
   "id": "240996d9-b695-4ad5-b9ae-f345c56d944a",
   "metadata": {
    "nbgrader": {
     "grade": false,
     "grade_id": "cell-98e738d6713fb21d",
     "locked": true,
     "schema_version": 3,
     "solution": false,
     "task": false
    }
   },
   "outputs": [
    {
     "data": {
      "text/plain": [
       "False"
      ]
     },
     "execution_count": 5,
     "metadata": {},
     "output_type": "execute_result"
    }
   ],
   "source": [
    "x.is_integer()  # It should return False."
   ]
  },
  {
   "cell_type": "markdown",
   "id": "628f557d-5bea-49f4-8b7a-19b5517bb36e",
   "metadata": {
    "nbgrader": {
     "grade": false,
     "grade_id": "cell-c6f41ead7b851fa7",
     "locked": true,
     "schema_version": 3,
     "solution": false,
     "task": false
    }
   },
   "source": [
    "### Task\n",
    "\n",
    "Choose an object of certain type, and expolore attributes associated to its class.  Get help on the use with `help`function."
   ]
  },
  {
   "cell_type": "code",
   "execution_count": 8,
   "id": "d8421d5a-13b8-4c08-9f72-876183174cf9",
   "metadata": {
    "nbgrader": {
     "grade": true,
     "grade_id": "cell-8e89b16d084a2662",
     "locked": false,
     "points": 2,
     "schema_version": 3,
     "solution": true,
     "task": false
    }
   },
   "outputs": [
    {
     "name": "stdout",
     "output_type": "stream",
     "text": [
      "Help on built-in function istitle:\n",
      "\n",
      "istitle() method of builtins.str instance\n",
      "    Return True if the string is a title-cased string, False otherwise.\n",
      "    \n",
      "    In a title-cased string, upper- and title-case characters may only\n",
      "    follow uncased characters and lowercase characters only cased ones.\n",
      "\n"
     ]
    }
   ],
   "source": [
    "a = \"This is a test string\"\n",
    "dir(a)\n",
    "\n",
    "help(a.istitle)\n"
   ]
  },
  {
   "cell_type": "markdown",
   "id": "81d94582-629c-4ace-abfe-8485904338ae",
   "metadata": {
    "nbgrader": {
     "grade": false,
     "grade_id": "cell-3b7210e51a682ef8",
     "locked": true,
     "schema_version": 3,
     "solution": false,
     "task": false
    }
   },
   "source": [
    "## Boolean and Other Special Types\n",
    "\n",
    "Recall that we have covered Boolean and the object `None`.  There are many other special types, and we shall explore them as we move forward. For now, let us recall our knowledge about boolean and its means of combinations.\n",
    "\n",
    "Let us fix `x=True` and `y=False`, and determine the meaning of different combinations."
   ]
  },
  {
   "cell_type": "code",
   "execution_count": 6,
   "id": "45fc333c-1f0f-4a60-bd6c-b66f3c490302",
   "metadata": {
    "nbgrader": {
     "grade": false,
     "grade_id": "cell-5aee68890a3d8995",
     "locked": true,
     "schema_version": 3,
     "solution": false,
     "task": false
    }
   },
   "outputs": [
    {
     "name": "stdout",
     "output_type": "stream",
     "text": [
      "Value of x and y is:  False\n",
      "Value of x or y is:  True\n"
     ]
    }
   ],
   "source": [
    "x = True\n",
    "y = False\n",
    "\n",
    "xandy = x and y\n",
    "xory = x or y\n",
    "\n",
    "print(\"Value of x and y is: \", xandy)\n",
    "print(\"Value of x or y is: \", xory)"
   ]
  },
  {
   "cell_type": "markdown",
   "id": "fe6b945d-c643-44c0-b94b-ef52255aa396",
   "metadata": {
    "nbgrader": {
     "grade": false,
     "grade_id": "cell-f94cd2c7dee3e85c",
     "locked": true,
     "schema_version": 3,
     "solution": false,
     "task": false
    }
   },
   "source": [
    "### Task\n",
    "\n",
    "Recall the De Morgan's law that $(A+B)^\\prime=A^\\prime \\cdot B^\\prime$.  Here $A^\\prime$ is a mathematical notation for the complement of the statement $A$.\n",
    "\n",
    "Assign values to $A$ and $B$ and print the result of the left hand side and the right hand side of the De Morgan's law on separate lines.\n",
    "\n",
    "It is advised that you first try to guess the outcomes before actually evaluating the block to test your understanding of the boolean and their means of combinations."
   ]
  },
  {
   "cell_type": "code",
   "execution_count": 12,
   "id": "92021624-b7e0-400c-91c3-3da6e5f651d1",
   "metadata": {
    "nbgrader": {
     "grade": true,
     "grade_id": "cell-40ddfbe43f3947f9",
     "locked": false,
     "points": 2,
     "schema_version": 3,
     "solution": true,
     "task": false
    }
   },
   "outputs": [
    {
     "name": "stdout",
     "output_type": "stream",
     "text": [
      "Value of left hand side is:  False \n",
      "\n",
      "Value of right hand side is:  False \n",
      "\n"
     ]
    }
   ],
   "source": [
    "a= True\n",
    "b= False\n",
    "\n",
    "lefthandside= not (a or b)\n",
    "righthandside= (not a) and ( not b)\n",
    "\n",
    "print(\"Value of left hand side is: \", lefthandside,\"\\n\")\n",
    "print(\"Value of right hand side is: \", righthandside,\"\\n\")"
   ]
  },
  {
   "cell_type": "markdown",
   "id": "4ca7cd89-7c4f-4522-a9e6-bb9998f1023b",
   "metadata": {
    "nbgrader": {
     "grade": false,
     "grade_id": "cell-6c8bfb76a8aa466e",
     "locked": true,
     "schema_version": 3,
     "solution": false,
     "task": false
    }
   },
   "source": [
    "## Numbers: Integers, Floats, Complex Numbers\n",
    "\n",
    "Recall your knowledge about numbers in Python.\n",
    "\n",
    "### Task\n",
    "\n",
    "1. Choose `x` to be a float and make sure that it has the decimal part.  To make sure that a float is a \"pure\" float or that it has a decimal part, `is_integer` is helpful.  Apply the function `int` on `x` and observe the result.  Explain it to yourself the reason behind the result.\n",
    "\n",
    "2. Choose `x` to be the string \"2.3\" now.  Apply `int` now and observe the result.  Warning: An error will be raised this time.  Explain it to yourself the reason for the error."
   ]
  },
  {
   "cell_type": "markdown",
   "id": "7c34d901-0ac1-4644-a342-0153e70c8ce6",
   "metadata": {
    "nbgrader": {
     "grade": false,
     "grade_id": "cell-e2b616373192b0b2",
     "locked": true,
     "schema_version": 3,
     "solution": false,
     "task": false
    }
   },
   "source": [
    "### Task\n",
    "\n",
    "Let us choose two floats `x=1.2` and `y=2.2`.  If we add the two numbers, we obtain a result different than 3.4.  See below."
   ]
  },
  {
   "cell_type": "code",
   "execution_count": 7,
   "id": "db0b9e28-eb93-4862-a353-354e06c265b2",
   "metadata": {
    "nbgrader": {
     "grade": false,
     "grade_id": "cell-ecefb441690f1858",
     "locked": true,
     "schema_version": 3,
     "solution": false,
     "task": false
    }
   },
   "outputs": [
    {
     "data": {
      "text/plain": [
       "3.4000000000000004"
      ]
     },
     "execution_count": 7,
     "metadata": {},
     "output_type": "execute_result"
    }
   ],
   "source": [
    "x=1.2\n",
    "y=2.2\n",
    "z = x+y\n",
    "z"
   ]
  },
  {
   "cell_type": "markdown",
   "id": "2a6d8079-2598-46a9-b6a8-2d3ec8a1fb37",
   "metadata": {
    "nbgrader": {
     "grade": false,
     "grade_id": "cell-45dd0db519134627",
     "locked": true,
     "schema_version": 3,
     "solution": false,
     "task": false
    }
   },
   "source": [
    "The type `float` has an attribute `hex` that might be helpful in explainging the reason behind not obtaining 3.4. Let us use it as follows"
   ]
  },
  {
   "cell_type": "code",
   "execution_count": 8,
   "id": "ee5a3052-90dc-40c4-a04c-011393b354a5",
   "metadata": {
    "nbgrader": {
     "grade": false,
     "grade_id": "cell-6ea38050953c30eb",
     "locked": true,
     "schema_version": 3,
     "solution": false,
     "task": false
    }
   },
   "outputs": [
    {
     "data": {
      "text/plain": [
       "'0x1.b333333333334p+1'"
      ]
     },
     "execution_count": 8,
     "metadata": {},
     "output_type": "execute_result"
    }
   ],
   "source": [
    "z.hex()"
   ]
  },
  {
   "cell_type": "markdown",
   "id": "8d988dfa-e31b-499d-a19c-d7032523fcb6",
   "metadata": {
    "nbgrader": {
     "grade": false,
     "grade_id": "cell-57665f0b2268c7c8",
     "locked": true,
     "schema_version": 3,
     "solution": false,
     "task": false
    }
   },
   "source": [
    "The returned result is a `hex` (in base 16) representation of the sum of `x` and `y`.  It might be cryptic at this point, but let us see how we can manually obtain the number in decimal from it. On the left hand side of the decimal in `0x1.b333333333334p+1`, we have the integer 1, and on the right hand side, we have `b`(stands for 11), and then many 3.  At the end we have the exponent `+1`.  The individual integers on the left side of the decimal are multiplied with nonnegative powers of 16 (starting with the power 0 and increasing towards left), and those on the right hand side of the decimal are multiplied with the negative powers of 16 (starting with -1 and decreasing towards right).  All the multiplied factors are then summed and the resulting sum is multiplied with 16 raised to the power the exponent in `0x1.b333333333334p+1`.\n",
    "\n",
    "In the following cell, perform the above computation."
   ]
  },
  {
   "cell_type": "markdown",
   "id": "73be2c09-4e04-488b-a247-4d023f567635",
   "metadata": {
    "nbgrader": {
     "grade": false,
     "grade_id": "cell-59930c0e14985a64",
     "locked": true,
     "schema_version": 3,
     "solution": false,
     "task": false
    }
   },
   "source": [
    "### Task\n",
    "\n",
    "Consider complex number `x=1.2+2.3j`. Find them using`abs`, `real` and `imag`.\n",
    "\n",
    "1. absolute value of `x`.\n",
    "2. obtain real part of `x`.\n",
    "3. obtain real part of `x`."
   ]
  },
  {
   "cell_type": "code",
   "execution_count": 18,
   "id": "55ab6de9-6d92-4f1e-a69c-41132164b917",
   "metadata": {
    "nbgrader": {
     "grade": true,
     "grade_id": "cell-11095b117bb82a1b",
     "locked": false,
     "points": 2,
     "schema_version": 3,
     "solution": true,
     "task": false
    },
    "tags": []
   },
   "outputs": [
    {
     "name": "stdout",
     "output_type": "stream",
     "text": [
      "Absolute value of x is:  2.5942243542145693\n",
      "Real part of x is:  1.2\n",
      "Imaginary part of x is:  2.3\n"
     ]
    }
   ],
   "source": [
    "x=1.2+2.3j\n",
    "print(\"Absolute value of x is: \", abs(x))\n",
    "print(\"Real part of x is: \", x.real)\n",
    "print(\"Imaginary part of x is: \", x.imag)\n"
   ]
  },
  {
   "cell_type": "markdown",
   "id": "81af7c9d-d0ba-4187-bd07-75b49b39c243",
   "metadata": {
    "nbgrader": {
     "grade": false,
     "grade_id": "cell-0f61b11303c71e8d",
     "locked": true,
     "schema_version": 3,
     "solution": false,
     "task": false
    }
   },
   "source": [
    "### Task\n",
    "\n",
    "We want to assign the complex number with real part 1.2 and imaginary part 2.3 to a variable `x`.  Which of the following does not give error?  Try one your console or the evaluation block below.\n",
    "\n",
    "1. `x= 1.2 + j2.3`\n",
    "2. `x= 1.2 + 2.3 j`\n",
    "3. `x= 1.2 + 2.3j`"
   ]
  },
  {
   "cell_type": "code",
   "execution_count": 21,
   "id": "406afd93-e486-4871-a908-1d52f110e840",
   "metadata": {
    "nbgrader": {
     "grade": true,
     "grade_id": "cell-2ddc09869ce6c596",
     "locked": false,
     "points": 2,
     "schema_version": 3,
     "solution": true,
     "task": false
    }
   },
   "outputs": [],
   "source": [
    "x= 1.2 + 2.3j\n",
    "#3. x= 1.2 + 2.3j does not give an error"
   ]
  },
  {
   "cell_type": "markdown",
   "id": "d8c6fda4-a12f-443b-8025-b00f125bac18",
   "metadata": {
    "nbgrader": {
     "grade": false,
     "grade_id": "cell-ab71f00f359fde99",
     "locked": true,
     "schema_version": 3,
     "solution": false,
     "task": false
    }
   },
   "source": [
    "## Strings\n",
    "\n",
    "### Task\n",
    "\n",
    "We want to prepare an email.  Here is a way using strings."
   ]
  },
  {
   "cell_type": "code",
   "execution_count": 23,
   "id": "9a70c374-d678-4f17-aed2-6765fce3693e",
   "metadata": {
    "nbgrader": {
     "grade": false,
     "grade_id": "cell-9d9f2bb439844584",
     "locked": true,
     "schema_version": 3,
     "solution": false,
     "task": false
    }
   },
   "outputs": [
    {
     "name": "stdout",
     "output_type": "stream",
     "text": [
      "Dear John\n",
      "\n",
      "Thanks for approaching. I'll get back to you as soon as possible after solving this task.\n",
      "\n",
      "Best regards,\n",
      "\n",
      "XYZ\n"
     ]
    }
   ],
   "source": [
    "e_greeting=\"Dear \"\n",
    "e_to= \"John\"\n",
    "newline =\"\"\"\n",
    "\"\"\"\n",
    "e_text = \"Thanks for approaching. I'll get back to you as soon as possible after solving this task.\"\n",
    "e_end = \"Best regards,\"\n",
    "e_from = \"XYZ\"\n",
    "\n",
    "email_body = e_greeting + e_to + 2*newline + e_text + 2*newline + e_end + 2*newline + e_from\n",
    "\n",
    "print(email_body)"
   ]
  },
  {
   "cell_type": "markdown",
   "id": "c0e431bc-8406-43e7-ba6a-5321234462e4",
   "metadata": {
    "nbgrader": {
     "grade": false,
     "grade_id": "cell-f93bcd62b1a128a1",
     "locked": true,
     "schema_version": 3,
     "solution": false,
     "task": false
    }
   },
   "source": [
    "Your task is to\n",
    "\n",
    "1. change the name from `\"John\"` to `\"Mike\"`\n",
    "2. remove the substring \"Thanks for approaching\".\n",
    "3. change the `XYZ` to some name.\n",
    "4. print the email using `print` function while making sure that there are two new lines between lines except between the last two lines."
   ]
  },
  {
   "cell_type": "code",
   "execution_count": 33,
   "id": "2a60bceb-f43c-4853-8f85-3b8692c4de50",
   "metadata": {
    "nbgrader": {
     "grade": true,
     "grade_id": "cell-74197e65fd0267ed",
     "locked": false,
     "points": 4,
     "schema_version": 3,
     "solution": true,
     "task": false
    }
   },
   "outputs": [
    {
     "name": "stdout",
     "output_type": "stream",
     "text": [
      "Dear Mike\n",
      "\n",
      "I'll get back to you as soon as possible after solving this task.\n",
      "\n",
      "Best regards,Alex\n"
     ]
    }
   ],
   "source": [
    "e_greeting=\"Dear \"\n",
    "e_to= \"John\"\n",
    "newline =\"\"\"\n",
    "\"\"\"\n",
    "e_text = \"Thanks for approaching. I'll get back to you as soon as possible after solving this task.\"\n",
    "e_end = \"Best regards,\"\n",
    "e_from = \"XYZ\"\n",
    "\n",
    "email_body = e_greeting + 2*newline + e_to + 2*newline + e_text + 2*newline + e_end + 2*newline + e_from\n",
    "\n",
    "e_to=\"Mike\"\n",
    "e_from=\"Alex\"\n",
    "email_body = e_greeting + e_to + 2*newline + e_text + 2*newline + e_end  + e_from\n",
    "email_body= email_body.replace(\"Thanks for approaching. \",\"\")\n",
    "\n",
    "print(email_body)\n",
    "\n"
   ]
  },
  {
   "cell_type": "markdown",
   "id": "a1ee7a69-b791-40ca-a483-92faf52a573e",
   "metadata": {
    "nbgrader": {
     "grade": false,
     "grade_id": "cell-84567bbdd6660280",
     "locked": true,
     "schema_version": 3,
     "solution": false,
     "task": false
    }
   },
   "source": [
    "## Lists and Tuples\n"
   ]
  },
  {
   "cell_type": "markdown",
   "id": "de4c90b6-1c27-4489-b491-f9034713fd2c",
   "metadata": {
    "nbgrader": {
     "grade": false,
     "grade_id": "cell-a6967f8ccbab5a85",
     "locked": true,
     "schema_version": 3,
     "solution": false,
     "task": false
    }
   },
   "source": [
    "### Task\n",
    "\n",
    "Let us consider the sentence \"This sentence is false\", and assign it as a string to a variable `x`.  After that, we split `x` using a string method and notice that a list is returned.  See below"
   ]
  },
  {
   "cell_type": "code",
   "execution_count": 34,
   "id": "50f50f89-db9a-45d9-b92a-7644a6660e1e",
   "metadata": {
    "nbgrader": {
     "grade": false,
     "grade_id": "cell-0ca87b8addffa2c5",
     "locked": true,
     "schema_version": 3,
     "solution": false,
     "task": false
    }
   },
   "outputs": [
    {
     "data": {
      "text/plain": [
       "['false.', 'is', 'sentence', 'This']"
      ]
     },
     "execution_count": 34,
     "metadata": {},
     "output_type": "execute_result"
    }
   ],
   "source": [
    "x = \"This sentence is false.\"\n",
    "l = x.split(\" \")\n",
    "l.reverse()\n",
    "l"
   ]
  },
  {
   "cell_type": "markdown",
   "id": "43a95994-3096-497a-b3e1-457e35db9ba6",
   "metadata": {
    "nbgrader": {
     "grade": false,
     "grade_id": "cell-8a478f5900961a2d",
     "locked": true,
     "schema_version": 3,
     "solution": false,
     "task": false
    }
   },
   "source": [
    "Your task is to\n",
    "1. reverse the list using the callable method `reverse`. See it in `dir(list)`.\n",
    "2. change the first element of the list to capitalized version and remove . (period) from it.\n",
    "3. make the last element in the list a lower case word.\n",
    "4. use `\" \".join(l)` to join the list `l` into a single string.\n",
    "5. print the result."
   ]
  },
  {
   "cell_type": "code",
   "execution_count": 57,
   "id": "96af832e-9b48-4f85-b44e-02e34625f545",
   "metadata": {
    "nbgrader": {
     "grade": false,
     "grade_id": "cell-7d134ca941a8fd0f",
     "locked": true,
     "points": 5,
     "schema_version": 3,
     "solution": false,
     "task": true
    }
   },
   "outputs": [
    {
     "name": "stdout",
     "output_type": "stream",
     "text": [
      "The final sentence is \n",
      " False is sentence this\n"
     ]
    }
   ],
   "source": [
    "x = \"This sentence is false.\"\n",
    "l = x.split(\" \")\n",
    "l.reverse()\n",
    "\n",
    "dir(l)\n",
    "#here, we capitalize first element of list and remove the .(period)\n",
    "l[0] = l[0].replace(\".\", \"\")\n",
    "l[0] = l[0].capitalize()\n",
    "l[len(l)-1]=l[len(l)-1].lower()\n",
    "# Joining the list into a single string\n",
    "result = \" \".join(l)\n",
    "\n",
    "print(\"The final sentence is \\n\",result)"
   ]
  },
  {
   "cell_type": "markdown",
   "id": "b924a650-bc88-4268-9207-9aff01d3d610",
   "metadata": {
    "nbgrader": {
     "grade": false,
     "grade_id": "cell-6e9a67fbaaa6a55b",
     "locked": true,
     "schema_version": 3,
     "solution": false,
     "task": false
    }
   },
   "source": [
    "### Task\n",
    "\n",
    "Recall thatlists are mutable objects, but tuples are not.  This means that the elements within a list can be changed but the elements in a tuples cannot be changed.\n",
    "\n",
    "Consider now `x = (1,2,[3,4])`.  Is it possible to change 4 to something else?  Why or why not?"
   ]
  },
  {
   "cell_type": "code",
   "execution_count": 63,
   "id": "f4d21de5-f9db-4f7d-8874-ca96ac0019c2",
   "metadata": {
    "nbgrader": {
     "grade": false,
     "grade_id": "cell-e2080daef3b6433a",
     "locked": true,
     "points": 2,
     "schema_version": 3,
     "solution": false,
     "task": true
    }
   },
   "outputs": [
    {
     "name": "stdout",
     "output_type": "stream",
     "text": [
      "(1, 2, [3, 5])\n"
     ]
    }
   ],
   "source": [
    "\"\"\"While it's true that tuples are immutable and \n",
    "cannot have their elements altered, the list [3, 4] \n",
    "within the tuple is a mutable object. Therefore, \n",
    "we can change the contents of the list itself like \n",
    "done below\"\"\"\n",
    "\n",
    "x = (1,2,[3,4])\n",
    "x[2][1] = 5\n",
    "\n",
    "print(x)"
   ]
  },
  {
   "cell_type": "markdown",
   "id": "7be39615-2a60-4faa-83d9-a5a7e2a2a619",
   "metadata": {
    "nbgrader": {
     "grade": false,
     "grade_id": "cell-2d59ebd53a1eceda",
     "locked": true,
     "schema_version": 3,
     "solution": false,
     "task": false
    }
   },
   "source": [
    "## Dictionaries\n",
    "\n",
    "### Task\n",
    "\n",
    "Let us make a small database.  You can use it for personal use.\n",
    "\n",
    "Let `biblio` be a list of books and articles that you are interested in.  At the beginning the list is empty.  We intend to put in this list dictionaries.  The dictionaries are actual records.  See below for an example.\n",
    "\n",
    "The key `authors` is a list of authors.  This is practical because some items might have multiple authors.\n"
   ]
  },
  {
   "cell_type": "code",
   "execution_count": 11,
   "id": "a60ef59c-9ea5-41a0-bdec-58e235b1c1e2",
   "metadata": {
    "nbgrader": {
     "grade": false,
     "grade_id": "cell-2c7ba9d44e7aeefe",
     "locked": true,
     "schema_version": 3,
     "solution": false,
     "task": false
    }
   },
   "outputs": [],
   "source": [
    "biblio = []                      # empty bibliography, for now\n",
    "\n",
    "biblio = [ {\"id\": \"skiena2017data\",\n",
    "            \"title\": \"The data science design manual\",\n",
    "            \"authors\": [\"Steven Skiena\"],\n",
    "            \"year\": 2017,\n",
    "            \"publisher\": \"Springer\"}\n",
    "         ]"
   ]
  },
  {
   "cell_type": "markdown",
   "id": "9c99367e-b2f6-4946-93b3-199d9fbf7163",
   "metadata": {
    "nbgrader": {
     "grade": false,
     "grade_id": "cell-74522369aea1552e",
     "locked": true,
     "schema_version": 3,
     "solution": false,
     "task": false
    }
   },
   "source": [
    "Your task is to \n",
    "1. add a new record to `biblio` of your choice.\n",
    "2. add a new record to `biblio` with multiple authors.\n",
    "3. remove the record with `id` `skiena2017data`.\n",
    "4. print the record that you have added in task 2 above in the format \"[authors]: [title], [publisher], [year].\""
   ]
  },
  {
   "cell_type": "code",
   "execution_count": 64,
   "id": "49f49240-17f1-4fe8-befe-a0ca86a65983",
   "metadata": {
    "nbgrader": {
     "grade": false,
     "grade_id": "cell-4debb1b89ea5d4ce",
     "locked": true,
     "points": 4,
     "schema_version": 3,
     "solution": false,
     "task": true
    }
   },
   "outputs": [
    {
     "name": "stdout",
     "output_type": "stream",
     "text": [
      "Carl Reynolds, Paul Wheatley: Principles of Computer Science, O'Reilly Media, 2020.\n"
     ]
    }
   ],
   "source": [
    "biblio = [\n",
    "    {\"id\": \"skiena2017data\",\n",
    "     \"title\": \"The data science design manual\",\n",
    "     \"authors\": [\"Steven Skiena\"],\n",
    "     \"year\": 2017,\n",
    "     \"publisher\": \"Springer\"}\n",
    "]\n",
    "\n",
    "# Adding a new record of my choice\n",
    "biblio.append({\"id\": \"grokkingAlgorithms\",\n",
    "               \"title\": \"Grokking Algorithms\",\n",
    "               \"authors\": [\"Aditya Bhargava\"],\n",
    "               \"year\": 2016,\n",
    "               \"publisher\": \"Manning\"})\n",
    "\n",
    "# Adding a new record with multiple authors\n",
    "biblio.append({\"id\": \"principlesCompSci\",\n",
    "               \"title\": \"Principles of Computer Science\",\n",
    "               \"authors\": [\"Carl Reynolds\", \"Paul Wheatley\"],\n",
    "               \"year\": 2020,\n",
    "               \"publisher\": \"O'Reilly Media\"})\n",
    "\n",
    "# Removing the record with id 'skiena2017data'\n",
    "biblio = [record for record in biblio if record[\"id\"] != \"skiena2017data\"]\n",
    "\n",
    "# Finding and printing the record added in task 2\n",
    "for record in biblio:\n",
    "    if record[\"id\"] == \"principlesCompSci\":\n",
    "        # Formatting authors list to a string\n",
    "        authors_str = \", \".join(record[\"authors\"])\n",
    "        print(f'{authors_str}: {record[\"title\"]}, {record[\"publisher\"]}, {record[\"year\"]}.')\n",
    "        break"
   ]
  },
  {
   "cell_type": "markdown",
   "id": "b7349ea7-4c0a-4640-b469-aa50a01eabd2",
   "metadata": {
    "nbgrader": {
     "grade": false,
     "grade_id": "cell-c36b97cea68acd68",
     "locked": true,
     "schema_version": 3,
     "solution": false,
     "task": false
    }
   },
   "source": [
    "# Final Remark\n",
    "\n",
    "There are a lot of subtopics that we are not covering.  We shall come back to them as we progress and use them implicitely. For now, it is a good point to finish practice for the first week.  You are encouraged to explore the topics or subtopics in builtin data structures you found interesting to see what you can build with them."
   ]
  }
 ],
 "metadata": {
  "kernelspec": {
   "display_name": "Python 3 (ipykernel)",
   "language": "python",
   "name": "python3"
  },
  "language_info": {
   "codemirror_mode": {
    "name": "ipython",
    "version": 3
   },
   "file_extension": ".py",
   "mimetype": "text/x-python",
   "name": "python",
   "nbconvert_exporter": "python",
   "pygments_lexer": "ipython3",
   "version": "3.9.12"
  },
  "toc-autonumbering": false,
  "toc-showcode": false,
  "toc-showmarkdowntxt": false
 },
 "nbformat": 4,
 "nbformat_minor": 5
}
